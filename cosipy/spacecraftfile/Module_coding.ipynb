{
 "cells": [
  {
   "cell_type": "code",
   "execution_count": 2,
   "id": "bdad8991-8243-46a6-820c-369e00534dfc",
   "metadata": {
    "collapsed": true,
    "jupyter": {
     "outputs_hidden": true
    },
    "scrolled": true
   },
   "outputs": [
    {
     "data": {
      "text/html": [
       "<pre style=\"white-space:pre;overflow-x:auto;line-height:normal;font-family:Menlo,'DejaVu Sans Mono',consolas,'Courier New',monospace\"><span style=\"color: #00ff00; text-decoration-color: #00ff00\">10:22:33 </span><span style=\"color: #af5fd7; text-decoration-color: #af5fd7\">WARNING </span> <span style=\"color: #c6c6c6; text-decoration-color: #c6c6c6; font-weight: bold\"> The naima package is not available. Models that depend on it will not be         </span><a href=\"file:///home/yong/anaconda3/envs/cosipy/lib/python3.10/site-packages/astromodels/functions/functions_1D/functions.py\" target=\"_blank\"><span style=\"color: #7f7f7f; text-decoration-color: #7f7f7f\">functions.py</span></a><span style=\"color: #7f7f7f; text-decoration-color: #7f7f7f\">:</span><a href=\"file:///home/yong/anaconda3/envs/cosipy/lib/python3.10/site-packages/astromodels/functions/functions_1D/functions.py#48\" target=\"_blank\"><span style=\"color: #7f7f7f; text-decoration-color: #7f7f7f\">48</span></a>\n",
       "<span style=\"color: #00ff00; text-decoration-color: #00ff00\">         </span>         <span style=\"color: #c6c6c6; text-decoration-color: #c6c6c6; font-weight: bold\">available                                                                         </span><span style=\"color: #7f7f7f; text-decoration-color: #7f7f7f\">               </span>\n",
       "</pre>\n"
      ],
      "text/plain": [
       "\u001b[38;5;46m10:22:33\u001b[0m\u001b[38;5;46m \u001b[0m\u001b[38;5;134mWARNING \u001b[0m \u001b[1;38;5;251m The naima package is not available. Models that depend on it will not be        \u001b[0m\u001b[1;38;5;251m \u001b[0m\u001b]8;id=227823;file:///home/yong/anaconda3/envs/cosipy/lib/python3.10/site-packages/astromodels/functions/functions_1D/functions.py\u001b\\\u001b[2mfunctions.py\u001b[0m\u001b]8;;\u001b\\\u001b[2m:\u001b[0m\u001b]8;id=753612;file:///home/yong/anaconda3/envs/cosipy/lib/python3.10/site-packages/astromodels/functions/functions_1D/functions.py#48\u001b\\\u001b[2m48\u001b[0m\u001b]8;;\u001b\\\n",
       "\u001b[38;5;46m         \u001b[0m         \u001b[1;38;5;251mavailable                                                                        \u001b[0m\u001b[1;38;5;251m \u001b[0m\u001b[2m               \u001b[0m\n"
      ]
     },
     "metadata": {},
     "output_type": "display_data"
    },
    {
     "data": {
      "text/html": [
       "<pre style=\"white-space:pre;overflow-x:auto;line-height:normal;font-family:Menlo,'DejaVu Sans Mono',consolas,'Courier New',monospace\"><span style=\"color: #00ff00; text-decoration-color: #00ff00\">         </span><span style=\"color: #af5fd7; text-decoration-color: #af5fd7\">WARNING </span> <span style=\"color: #c6c6c6; text-decoration-color: #c6c6c6; font-weight: bold\"> The GSL library or the pygsl wrapper cannot be loaded. Models that depend on it  </span><a href=\"file:///home/yong/anaconda3/envs/cosipy/lib/python3.10/site-packages/astromodels/functions/functions_1D/functions.py\" target=\"_blank\"><span style=\"color: #7f7f7f; text-decoration-color: #7f7f7f\">functions.py</span></a><span style=\"color: #7f7f7f; text-decoration-color: #7f7f7f\">:</span><a href=\"file:///home/yong/anaconda3/envs/cosipy/lib/python3.10/site-packages/astromodels/functions/functions_1D/functions.py#69\" target=\"_blank\"><span style=\"color: #7f7f7f; text-decoration-color: #7f7f7f\">69</span></a>\n",
       "<span style=\"color: #00ff00; text-decoration-color: #00ff00\">         </span>         <span style=\"color: #c6c6c6; text-decoration-color: #c6c6c6; font-weight: bold\">will not be available.                                                            </span><span style=\"color: #7f7f7f; text-decoration-color: #7f7f7f\">               </span>\n",
       "</pre>\n"
      ],
      "text/plain": [
       "\u001b[38;5;46m        \u001b[0m\u001b[38;5;46m \u001b[0m\u001b[38;5;134mWARNING \u001b[0m \u001b[1;38;5;251m The GSL library or the pygsl wrapper cannot be loaded. Models that depend on it \u001b[0m\u001b[1;38;5;251m \u001b[0m\u001b]8;id=284209;file:///home/yong/anaconda3/envs/cosipy/lib/python3.10/site-packages/astromodels/functions/functions_1D/functions.py\u001b\\\u001b[2mfunctions.py\u001b[0m\u001b]8;;\u001b\\\u001b[2m:\u001b[0m\u001b]8;id=781745;file:///home/yong/anaconda3/envs/cosipy/lib/python3.10/site-packages/astromodels/functions/functions_1D/functions.py#69\u001b\\\u001b[2m69\u001b[0m\u001b]8;;\u001b\\\n",
       "\u001b[38;5;46m         \u001b[0m         \u001b[1;38;5;251mwill not be available.                                                           \u001b[0m\u001b[1;38;5;251m \u001b[0m\u001b[2m               \u001b[0m\n"
      ]
     },
     "metadata": {},
     "output_type": "display_data"
    },
    {
     "name": "stderr",
     "output_type": "stream",
     "text": [
      "/home/yong/anaconda3/envs/cosipy/lib/python3.10/site-packages/numba/core/decorators.py:262: NumbaDeprecationWarning: \u001b[1mnumba.generated_jit is deprecated. Please see the documentation at: https://numba.readthedocs.io/en/stable/reference/deprecation.html#deprecation-of-generated-jit for more information and advice on a suitable replacement.\u001b[0m\n",
      "  warnings.warn(msg, NumbaDeprecationWarning)\n"
     ]
    },
    {
     "data": {
      "text/html": [
       "<pre style=\"white-space:pre;overflow-x:auto;line-height:normal;font-family:Menlo,'DejaVu Sans Mono',consolas,'Courier New',monospace\"><span style=\"color: #00ff00; text-decoration-color: #00ff00\">10:22:34 </span><span style=\"color: #af5fd7; text-decoration-color: #af5fd7\">WARNING </span> <span style=\"color: #c6c6c6; text-decoration-color: #c6c6c6; font-weight: bold\"> The ebltable package is not available. Models that depend on it will not be     </span><a href=\"file:///home/yong/anaconda3/envs/cosipy/lib/python3.10/site-packages/astromodels/functions/functions_1D/absorption.py\" target=\"_blank\"><span style=\"color: #7f7f7f; text-decoration-color: #7f7f7f\">absorption.py</span></a><span style=\"color: #7f7f7f; text-decoration-color: #7f7f7f\">:</span><a href=\"file:///home/yong/anaconda3/envs/cosipy/lib/python3.10/site-packages/astromodels/functions/functions_1D/absorption.py#36\" target=\"_blank\"><span style=\"color: #7f7f7f; text-decoration-color: #7f7f7f\">36</span></a>\n",
       "<span style=\"color: #00ff00; text-decoration-color: #00ff00\">         </span>         <span style=\"color: #c6c6c6; text-decoration-color: #c6c6c6; font-weight: bold\">available                                                                        </span><span style=\"color: #7f7f7f; text-decoration-color: #7f7f7f\">                </span>\n",
       "</pre>\n"
      ],
      "text/plain": [
       "\u001b[38;5;46m10:22:34\u001b[0m\u001b[38;5;46m \u001b[0m\u001b[38;5;134mWARNING \u001b[0m \u001b[1;38;5;251m The ebltable package is not available. Models that depend on it will not be    \u001b[0m\u001b[1;38;5;251m \u001b[0m\u001b]8;id=323088;file:///home/yong/anaconda3/envs/cosipy/lib/python3.10/site-packages/astromodels/functions/functions_1D/absorption.py\u001b\\\u001b[2mabsorption.py\u001b[0m\u001b]8;;\u001b\\\u001b[2m:\u001b[0m\u001b]8;id=517811;file:///home/yong/anaconda3/envs/cosipy/lib/python3.10/site-packages/astromodels/functions/functions_1D/absorption.py#36\u001b\\\u001b[2m36\u001b[0m\u001b]8;;\u001b\\\n",
       "\u001b[38;5;46m         \u001b[0m         \u001b[1;38;5;251mavailable                                                                       \u001b[0m\u001b[1;38;5;251m \u001b[0m\u001b[2m                \u001b[0m\n"
      ]
     },
     "metadata": {},
     "output_type": "display_data"
    },
    {
     "data": {
      "text/html": [
       "<pre style=\"white-space:pre;overflow-x:auto;line-height:normal;font-family:Menlo,'DejaVu Sans Mono',consolas,'Courier New',monospace\"><span style=\"color: #00ff00; text-decoration-color: #00ff00\">         </span><span style=\"color: #af5fd7; text-decoration-color: #af5fd7\">WARNING </span> <span style=\"color: #c6c6c6; text-decoration-color: #c6c6c6; font-weight: bold\"> We have set the min_value of K to </span><span style=\"color: #c0c0c0; text-decoration-color: #c0c0c0; font-weight: bold\">1e-99</span><span style=\"color: #c6c6c6; text-decoration-color: #c6c6c6; font-weight: bold\"> because there was a postive transform   </span><a href=\"file:///home/yong/anaconda3/envs/cosipy/lib/python3.10/site-packages/astromodels/core/parameter.py\" target=\"_blank\"><span style=\"color: #7f7f7f; text-decoration-color: #7f7f7f\">parameter.py</span></a><span style=\"color: #7f7f7f; text-decoration-color: #7f7f7f\">:</span><a href=\"file:///home/yong/anaconda3/envs/cosipy/lib/python3.10/site-packages/astromodels/core/parameter.py#704\" target=\"_blank\"><span style=\"color: #7f7f7f; text-decoration-color: #7f7f7f\">704</span></a>\n",
       "</pre>\n"
      ],
      "text/plain": [
       "\u001b[38;5;46m        \u001b[0m\u001b[38;5;46m \u001b[0m\u001b[38;5;134mWARNING \u001b[0m \u001b[1;38;5;251m We have set the min_value of K to \u001b[0m\u001b[1;37m1e-99\u001b[0m\u001b[1;38;5;251m because there was a postive transform  \u001b[0m\u001b[1;38;5;251m \u001b[0m\u001b]8;id=162324;file:///home/yong/anaconda3/envs/cosipy/lib/python3.10/site-packages/astromodels/core/parameter.py\u001b\\\u001b[2mparameter.py\u001b[0m\u001b]8;;\u001b\\\u001b[2m:\u001b[0m\u001b]8;id=720806;file:///home/yong/anaconda3/envs/cosipy/lib/python3.10/site-packages/astromodels/core/parameter.py#704\u001b\\\u001b[2m704\u001b[0m\u001b]8;;\u001b\\\n"
      ]
     },
     "metadata": {},
     "output_type": "display_data"
    },
    {
     "data": {
      "text/html": [
       "<pre style=\"white-space:pre;overflow-x:auto;line-height:normal;font-family:Menlo,'DejaVu Sans Mono',consolas,'Courier New',monospace\"><span style=\"color: #00ff00; text-decoration-color: #00ff00\">         </span><span style=\"color: #af5fd7; text-decoration-color: #af5fd7\">WARNING </span> <span style=\"color: #c6c6c6; text-decoration-color: #c6c6c6; font-weight: bold\"> We have set the min_value of K to </span><span style=\"color: #c0c0c0; text-decoration-color: #c0c0c0; font-weight: bold\">1e-99</span><span style=\"color: #c6c6c6; text-decoration-color: #c6c6c6; font-weight: bold\"> because there was a postive transform   </span><a href=\"file:///home/yong/anaconda3/envs/cosipy/lib/python3.10/site-packages/astromodels/core/parameter.py\" target=\"_blank\"><span style=\"color: #7f7f7f; text-decoration-color: #7f7f7f\">parameter.py</span></a><span style=\"color: #7f7f7f; text-decoration-color: #7f7f7f\">:</span><a href=\"file:///home/yong/anaconda3/envs/cosipy/lib/python3.10/site-packages/astromodels/core/parameter.py#704\" target=\"_blank\"><span style=\"color: #7f7f7f; text-decoration-color: #7f7f7f\">704</span></a>\n",
       "</pre>\n"
      ],
      "text/plain": [
       "\u001b[38;5;46m        \u001b[0m\u001b[38;5;46m \u001b[0m\u001b[38;5;134mWARNING \u001b[0m \u001b[1;38;5;251m We have set the min_value of K to \u001b[0m\u001b[1;37m1e-99\u001b[0m\u001b[1;38;5;251m because there was a postive transform  \u001b[0m\u001b[1;38;5;251m \u001b[0m\u001b]8;id=273112;file:///home/yong/anaconda3/envs/cosipy/lib/python3.10/site-packages/astromodels/core/parameter.py\u001b\\\u001b[2mparameter.py\u001b[0m\u001b]8;;\u001b\\\u001b[2m:\u001b[0m\u001b]8;id=814588;file:///home/yong/anaconda3/envs/cosipy/lib/python3.10/site-packages/astromodels/core/parameter.py#704\u001b\\\u001b[2m704\u001b[0m\u001b]8;;\u001b\\\n"
      ]
     },
     "metadata": {},
     "output_type": "display_data"
    },
    {
     "data": {
      "text/html": [
       "<pre style=\"white-space:pre;overflow-x:auto;line-height:normal;font-family:Menlo,'DejaVu Sans Mono',consolas,'Courier New',monospace\"><span style=\"color: #00ff00; text-decoration-color: #00ff00\">         </span><span style=\"color: #af5fd7; text-decoration-color: #af5fd7\">WARNING </span> <span style=\"color: #c6c6c6; text-decoration-color: #c6c6c6; font-weight: bold\"> We have set the min_value of K to </span><span style=\"color: #c0c0c0; text-decoration-color: #c0c0c0; font-weight: bold\">1e-99</span><span style=\"color: #c6c6c6; text-decoration-color: #c6c6c6; font-weight: bold\"> because there was a postive transform   </span><a href=\"file:///home/yong/anaconda3/envs/cosipy/lib/python3.10/site-packages/astromodels/core/parameter.py\" target=\"_blank\"><span style=\"color: #7f7f7f; text-decoration-color: #7f7f7f\">parameter.py</span></a><span style=\"color: #7f7f7f; text-decoration-color: #7f7f7f\">:</span><a href=\"file:///home/yong/anaconda3/envs/cosipy/lib/python3.10/site-packages/astromodels/core/parameter.py#704\" target=\"_blank\"><span style=\"color: #7f7f7f; text-decoration-color: #7f7f7f\">704</span></a>\n",
       "</pre>\n"
      ],
      "text/plain": [
       "\u001b[38;5;46m        \u001b[0m\u001b[38;5;46m \u001b[0m\u001b[38;5;134mWARNING \u001b[0m \u001b[1;38;5;251m We have set the min_value of K to \u001b[0m\u001b[1;37m1e-99\u001b[0m\u001b[1;38;5;251m because there was a postive transform  \u001b[0m\u001b[1;38;5;251m \u001b[0m\u001b]8;id=124796;file:///home/yong/anaconda3/envs/cosipy/lib/python3.10/site-packages/astromodels/core/parameter.py\u001b\\\u001b[2mparameter.py\u001b[0m\u001b]8;;\u001b\\\u001b[2m:\u001b[0m\u001b]8;id=948540;file:///home/yong/anaconda3/envs/cosipy/lib/python3.10/site-packages/astromodels/core/parameter.py#704\u001b\\\u001b[2m704\u001b[0m\u001b]8;;\u001b\\\n"
      ]
     },
     "metadata": {},
     "output_type": "display_data"
    },
    {
     "data": {
      "text/html": [
       "<pre style=\"white-space:pre;overflow-x:auto;line-height:normal;font-family:Menlo,'DejaVu Sans Mono',consolas,'Courier New',monospace\"><span style=\"color: #00ff00; text-decoration-color: #00ff00\">         </span><span style=\"color: #af5fd7; text-decoration-color: #af5fd7\">WARNING </span> <span style=\"color: #c6c6c6; text-decoration-color: #c6c6c6; font-weight: bold\"> We have set the min_value of K to </span><span style=\"color: #c0c0c0; text-decoration-color: #c0c0c0; font-weight: bold\">1e-99</span><span style=\"color: #c6c6c6; text-decoration-color: #c6c6c6; font-weight: bold\"> because there was a postive transform   </span><a href=\"file:///home/yong/anaconda3/envs/cosipy/lib/python3.10/site-packages/astromodels/core/parameter.py\" target=\"_blank\"><span style=\"color: #7f7f7f; text-decoration-color: #7f7f7f\">parameter.py</span></a><span style=\"color: #7f7f7f; text-decoration-color: #7f7f7f\">:</span><a href=\"file:///home/yong/anaconda3/envs/cosipy/lib/python3.10/site-packages/astromodels/core/parameter.py#704\" target=\"_blank\"><span style=\"color: #7f7f7f; text-decoration-color: #7f7f7f\">704</span></a>\n",
       "</pre>\n"
      ],
      "text/plain": [
       "\u001b[38;5;46m        \u001b[0m\u001b[38;5;46m \u001b[0m\u001b[38;5;134mWARNING \u001b[0m \u001b[1;38;5;251m We have set the min_value of K to \u001b[0m\u001b[1;37m1e-99\u001b[0m\u001b[1;38;5;251m because there was a postive transform  \u001b[0m\u001b[1;38;5;251m \u001b[0m\u001b]8;id=736681;file:///home/yong/anaconda3/envs/cosipy/lib/python3.10/site-packages/astromodels/core/parameter.py\u001b\\\u001b[2mparameter.py\u001b[0m\u001b]8;;\u001b\\\u001b[2m:\u001b[0m\u001b]8;id=733180;file:///home/yong/anaconda3/envs/cosipy/lib/python3.10/site-packages/astromodels/core/parameter.py#704\u001b\\\u001b[2m704\u001b[0m\u001b]8;;\u001b\\\n"
      ]
     },
     "metadata": {},
     "output_type": "display_data"
    },
    {
     "data": {
      "text/html": [
       "<pre style=\"white-space:pre;overflow-x:auto;line-height:normal;font-family:Menlo,'DejaVu Sans Mono',consolas,'Courier New',monospace\"><span style=\"color: #00ff00; text-decoration-color: #00ff00\">         </span><span style=\"color: #af5fd7; text-decoration-color: #af5fd7\">WARNING </span> <span style=\"color: #c6c6c6; text-decoration-color: #c6c6c6; font-weight: bold\"> We have set the min_value of F to </span><span style=\"color: #c0c0c0; text-decoration-color: #c0c0c0; font-weight: bold\">1e-99</span><span style=\"color: #c6c6c6; text-decoration-color: #c6c6c6; font-weight: bold\"> because there was a postive transform   </span><a href=\"file:///home/yong/anaconda3/envs/cosipy/lib/python3.10/site-packages/astromodels/core/parameter.py\" target=\"_blank\"><span style=\"color: #7f7f7f; text-decoration-color: #7f7f7f\">parameter.py</span></a><span style=\"color: #7f7f7f; text-decoration-color: #7f7f7f\">:</span><a href=\"file:///home/yong/anaconda3/envs/cosipy/lib/python3.10/site-packages/astromodels/core/parameter.py#704\" target=\"_blank\"><span style=\"color: #7f7f7f; text-decoration-color: #7f7f7f\">704</span></a>\n",
       "</pre>\n"
      ],
      "text/plain": [
       "\u001b[38;5;46m        \u001b[0m\u001b[38;5;46m \u001b[0m\u001b[38;5;134mWARNING \u001b[0m \u001b[1;38;5;251m We have set the min_value of F to \u001b[0m\u001b[1;37m1e-99\u001b[0m\u001b[1;38;5;251m because there was a postive transform  \u001b[0m\u001b[1;38;5;251m \u001b[0m\u001b]8;id=322583;file:///home/yong/anaconda3/envs/cosipy/lib/python3.10/site-packages/astromodels/core/parameter.py\u001b\\\u001b[2mparameter.py\u001b[0m\u001b]8;;\u001b\\\u001b[2m:\u001b[0m\u001b]8;id=537392;file:///home/yong/anaconda3/envs/cosipy/lib/python3.10/site-packages/astromodels/core/parameter.py#704\u001b\\\u001b[2m704\u001b[0m\u001b]8;;\u001b\\\n"
      ]
     },
     "metadata": {},
     "output_type": "display_data"
    },
    {
     "data": {
      "text/html": [
       "<pre style=\"white-space:pre;overflow-x:auto;line-height:normal;font-family:Menlo,'DejaVu Sans Mono',consolas,'Courier New',monospace\"><span style=\"color: #00ff00; text-decoration-color: #00ff00\">         </span><span style=\"color: #af5fd7; text-decoration-color: #af5fd7\">WARNING </span> <span style=\"color: #c6c6c6; text-decoration-color: #c6c6c6; font-weight: bold\"> We have set the min_value of K to </span><span style=\"color: #c0c0c0; text-decoration-color: #c0c0c0; font-weight: bold\">1e-99</span><span style=\"color: #c6c6c6; text-decoration-color: #c6c6c6; font-weight: bold\"> because there was a postive transform   </span><a href=\"file:///home/yong/anaconda3/envs/cosipy/lib/python3.10/site-packages/astromodels/core/parameter.py\" target=\"_blank\"><span style=\"color: #7f7f7f; text-decoration-color: #7f7f7f\">parameter.py</span></a><span style=\"color: #7f7f7f; text-decoration-color: #7f7f7f\">:</span><a href=\"file:///home/yong/anaconda3/envs/cosipy/lib/python3.10/site-packages/astromodels/core/parameter.py#704\" target=\"_blank\"><span style=\"color: #7f7f7f; text-decoration-color: #7f7f7f\">704</span></a>\n",
       "</pre>\n"
      ],
      "text/plain": [
       "\u001b[38;5;46m        \u001b[0m\u001b[38;5;46m \u001b[0m\u001b[38;5;134mWARNING \u001b[0m \u001b[1;38;5;251m We have set the min_value of K to \u001b[0m\u001b[1;37m1e-99\u001b[0m\u001b[1;38;5;251m because there was a postive transform  \u001b[0m\u001b[1;38;5;251m \u001b[0m\u001b]8;id=689388;file:///home/yong/anaconda3/envs/cosipy/lib/python3.10/site-packages/astromodels/core/parameter.py\u001b\\\u001b[2mparameter.py\u001b[0m\u001b]8;;\u001b\\\u001b[2m:\u001b[0m\u001b]8;id=911166;file:///home/yong/anaconda3/envs/cosipy/lib/python3.10/site-packages/astromodels/core/parameter.py#704\u001b\\\u001b[2m704\u001b[0m\u001b]8;;\u001b\\\n"
      ]
     },
     "metadata": {},
     "output_type": "display_data"
    },
    {
     "name": "stderr",
     "output_type": "stream",
     "text": [
      "/home/yong/anaconda3/envs/cosipy/lib/python3.10/site-packages/numba/core/decorators.py:262: NumbaDeprecationWarning: \u001b[1mnumba.generated_jit is deprecated. Please see the documentation at: https://numba.readthedocs.io/en/stable/reference/deprecation.html#deprecation-of-generated-jit for more information and advice on a suitable replacement.\u001b[0m\n",
      "  warnings.warn(msg, NumbaDeprecationWarning)\n"
     ]
    },
    {
     "data": {
      "text/html": [
       "<pre style=\"white-space:pre;overflow-x:auto;line-height:normal;font-family:Menlo,'DejaVu Sans Mono',consolas,'Courier New',monospace\"><span style=\"color: #00ff00; text-decoration-color: #00ff00\">10:22:34 </span><span style=\"color: #00ffaf; text-decoration-color: #00ffaf\">INFO    </span> <span style=\"color: #c6c6c6; text-decoration-color: #c6c6c6; font-weight: bold\"> Starting 3ML!                                                                     </span><a href=\"file:///home/yong/anaconda3/envs/cosipy/lib/python3.10/site-packages/threeML/__init__.py\" target=\"_blank\"><span style=\"color: #7f7f7f; text-decoration-color: #7f7f7f\">__init__.py</span></a><span style=\"color: #7f7f7f; text-decoration-color: #7f7f7f\">:</span><a href=\"file:///home/yong/anaconda3/envs/cosipy/lib/python3.10/site-packages/threeML/__init__.py#35\" target=\"_blank\"><span style=\"color: #7f7f7f; text-decoration-color: #7f7f7f\">35</span></a>\n",
       "</pre>\n"
      ],
      "text/plain": [
       "\u001b[38;5;46m10:22:34\u001b[0m\u001b[38;5;46m \u001b[0m\u001b[38;5;49mINFO    \u001b[0m \u001b[1;38;5;251m Starting 3ML!                                                                    \u001b[0m\u001b[1;38;5;251m \u001b[0m\u001b]8;id=707421;file:///home/yong/anaconda3/envs/cosipy/lib/python3.10/site-packages/threeML/__init__.py\u001b\\\u001b[2m__init__.py\u001b[0m\u001b]8;;\u001b\\\u001b[2m:\u001b[0m\u001b]8;id=962930;file:///home/yong/anaconda3/envs/cosipy/lib/python3.10/site-packages/threeML/__init__.py#35\u001b\\\u001b[2m35\u001b[0m\u001b]8;;\u001b\\\n"
      ]
     },
     "metadata": {},
     "output_type": "display_data"
    },
    {
     "data": {
      "text/html": [
       "<pre style=\"white-space:pre;overflow-x:auto;line-height:normal;font-family:Menlo,'DejaVu Sans Mono',consolas,'Courier New',monospace\"><span style=\"color: #00ff00; text-decoration-color: #00ff00\">         </span><span style=\"color: #af5fd7; text-decoration-color: #af5fd7\">WARNING </span> <span style=\"color: #c6c6c6; text-decoration-color: #c6c6c6; font-weight: bold\"> WARNINGs here are </span><span style=\"color: #800000; text-decoration-color: #800000; font-weight: bold\">NOT</span><span style=\"color: #c6c6c6; text-decoration-color: #c6c6c6; font-weight: bold\"> errors                                                      </span><a href=\"file:///home/yong/anaconda3/envs/cosipy/lib/python3.10/site-packages/threeML/__init__.py\" target=\"_blank\"><span style=\"color: #7f7f7f; text-decoration-color: #7f7f7f\">__init__.py</span></a><span style=\"color: #7f7f7f; text-decoration-color: #7f7f7f\">:</span><a href=\"file:///home/yong/anaconda3/envs/cosipy/lib/python3.10/site-packages/threeML/__init__.py#36\" target=\"_blank\"><span style=\"color: #7f7f7f; text-decoration-color: #7f7f7f\">36</span></a>\n",
       "</pre>\n"
      ],
      "text/plain": [
       "\u001b[38;5;46m        \u001b[0m\u001b[38;5;46m \u001b[0m\u001b[38;5;134mWARNING \u001b[0m \u001b[1;38;5;251m WARNINGs here are \u001b[0m\u001b[1;31mNOT\u001b[0m\u001b[1;38;5;251m errors                                                     \u001b[0m\u001b[1;38;5;251m \u001b[0m\u001b]8;id=396563;file:///home/yong/anaconda3/envs/cosipy/lib/python3.10/site-packages/threeML/__init__.py\u001b\\\u001b[2m__init__.py\u001b[0m\u001b]8;;\u001b\\\u001b[2m:\u001b[0m\u001b]8;id=557733;file:///home/yong/anaconda3/envs/cosipy/lib/python3.10/site-packages/threeML/__init__.py#36\u001b\\\u001b[2m36\u001b[0m\u001b]8;;\u001b\\\n"
      ]
     },
     "metadata": {},
     "output_type": "display_data"
    },
    {
     "data": {
      "text/html": [
       "<pre style=\"white-space:pre;overflow-x:auto;line-height:normal;font-family:Menlo,'DejaVu Sans Mono',consolas,'Courier New',monospace\"><span style=\"color: #00ff00; text-decoration-color: #00ff00\">         </span><span style=\"color: #af5fd7; text-decoration-color: #af5fd7\">WARNING </span> <span style=\"color: #c6c6c6; text-decoration-color: #c6c6c6; font-weight: bold\"> but are inform you about optional packages that can be installed                  </span><a href=\"file:///home/yong/anaconda3/envs/cosipy/lib/python3.10/site-packages/threeML/__init__.py\" target=\"_blank\"><span style=\"color: #7f7f7f; text-decoration-color: #7f7f7f\">__init__.py</span></a><span style=\"color: #7f7f7f; text-decoration-color: #7f7f7f\">:</span><a href=\"file:///home/yong/anaconda3/envs/cosipy/lib/python3.10/site-packages/threeML/__init__.py#37\" target=\"_blank\"><span style=\"color: #7f7f7f; text-decoration-color: #7f7f7f\">37</span></a>\n",
       "</pre>\n"
      ],
      "text/plain": [
       "\u001b[38;5;46m        \u001b[0m\u001b[38;5;46m \u001b[0m\u001b[38;5;134mWARNING \u001b[0m \u001b[1;38;5;251m but are inform you about optional packages that can be installed                 \u001b[0m\u001b[1;38;5;251m \u001b[0m\u001b]8;id=279548;file:///home/yong/anaconda3/envs/cosipy/lib/python3.10/site-packages/threeML/__init__.py\u001b\\\u001b[2m__init__.py\u001b[0m\u001b]8;;\u001b\\\u001b[2m:\u001b[0m\u001b]8;id=977696;file:///home/yong/anaconda3/envs/cosipy/lib/python3.10/site-packages/threeML/__init__.py#37\u001b\\\u001b[2m37\u001b[0m\u001b]8;;\u001b\\\n"
      ]
     },
     "metadata": {},
     "output_type": "display_data"
    },
    {
     "data": {
      "text/html": [
       "<pre style=\"white-space:pre;overflow-x:auto;line-height:normal;font-family:Menlo,'DejaVu Sans Mono',consolas,'Courier New',monospace\"><span style=\"color: #00ff00; text-decoration-color: #00ff00\">         </span><span style=\"color: #af5fd7; text-decoration-color: #af5fd7\">WARNING </span> <span style=\"color: #c6c6c6; text-decoration-color: #c6c6c6; font-weight: bold\"> </span><span style=\"color: #800000; text-decoration-color: #800000; font-weight: bold\"> to disable these messages, turn off start_warning in your config file</span><span style=\"color: #c6c6c6; text-decoration-color: #c6c6c6; font-weight: bold\">            </span><a href=\"file:///home/yong/anaconda3/envs/cosipy/lib/python3.10/site-packages/threeML/__init__.py\" target=\"_blank\"><span style=\"color: #7f7f7f; text-decoration-color: #7f7f7f\">__init__.py</span></a><span style=\"color: #7f7f7f; text-decoration-color: #7f7f7f\">:</span><a href=\"file:///home/yong/anaconda3/envs/cosipy/lib/python3.10/site-packages/threeML/__init__.py#40\" target=\"_blank\"><span style=\"color: #7f7f7f; text-decoration-color: #7f7f7f\">40</span></a>\n",
       "</pre>\n"
      ],
      "text/plain": [
       "\u001b[38;5;46m        \u001b[0m\u001b[38;5;46m \u001b[0m\u001b[38;5;134mWARNING \u001b[0m \u001b[1;38;5;251m \u001b[0m\u001b[1;31m to disable these messages, turn off start_warning in your config file\u001b[0m\u001b[1;38;5;251m           \u001b[0m\u001b[1;38;5;251m \u001b[0m\u001b]8;id=814626;file:///home/yong/anaconda3/envs/cosipy/lib/python3.10/site-packages/threeML/__init__.py\u001b\\\u001b[2m__init__.py\u001b[0m\u001b]8;;\u001b\\\u001b[2m:\u001b[0m\u001b]8;id=16690;file:///home/yong/anaconda3/envs/cosipy/lib/python3.10/site-packages/threeML/__init__.py#40\u001b\\\u001b[2m40\u001b[0m\u001b]8;;\u001b\\\n"
      ]
     },
     "metadata": {},
     "output_type": "display_data"
    },
    {
     "data": {
      "text/html": [
       "<pre style=\"white-space:pre;overflow-x:auto;line-height:normal;font-family:Menlo,'DejaVu Sans Mono',consolas,'Courier New',monospace\"><span style=\"color: #00ff00; text-decoration-color: #00ff00\">         </span><span style=\"color: #af5fd7; text-decoration-color: #af5fd7\">WARNING </span> <span style=\"color: #c6c6c6; text-decoration-color: #c6c6c6; font-weight: bold\"> ROOT minimizer not available                                                </span><a href=\"file:///home/yong/anaconda3/envs/cosipy/lib/python3.10/site-packages/threeML/minimizer/minimization.py\" target=\"_blank\"><span style=\"color: #7f7f7f; text-decoration-color: #7f7f7f\">minimization.py</span></a><span style=\"color: #7f7f7f; text-decoration-color: #7f7f7f\">:</span><a href=\"file:///home/yong/anaconda3/envs/cosipy/lib/python3.10/site-packages/threeML/minimizer/minimization.py#1345\" target=\"_blank\"><span style=\"color: #7f7f7f; text-decoration-color: #7f7f7f\">1345</span></a>\n",
       "</pre>\n"
      ],
      "text/plain": [
       "\u001b[38;5;46m        \u001b[0m\u001b[38;5;46m \u001b[0m\u001b[38;5;134mWARNING \u001b[0m \u001b[1;38;5;251m ROOT minimizer not available                                               \u001b[0m\u001b[1;38;5;251m \u001b[0m\u001b]8;id=530397;file:///home/yong/anaconda3/envs/cosipy/lib/python3.10/site-packages/threeML/minimizer/minimization.py\u001b\\\u001b[2mminimization.py\u001b[0m\u001b]8;;\u001b\\\u001b[2m:\u001b[0m\u001b]8;id=792285;file:///home/yong/anaconda3/envs/cosipy/lib/python3.10/site-packages/threeML/minimizer/minimization.py#1345\u001b\\\u001b[2m1345\u001b[0m\u001b]8;;\u001b\\\n"
      ]
     },
     "metadata": {},
     "output_type": "display_data"
    },
    {
     "data": {
      "text/html": [
       "<pre style=\"white-space:pre;overflow-x:auto;line-height:normal;font-family:Menlo,'DejaVu Sans Mono',consolas,'Courier New',monospace\"><span style=\"color: #00ff00; text-decoration-color: #00ff00\">         </span><span style=\"color: #af5fd7; text-decoration-color: #af5fd7\">WARNING </span> <span style=\"color: #c6c6c6; text-decoration-color: #c6c6c6; font-weight: bold\"> Multinest minimizer not available                                           </span><a href=\"file:///home/yong/anaconda3/envs/cosipy/lib/python3.10/site-packages/threeML/minimizer/minimization.py\" target=\"_blank\"><span style=\"color: #7f7f7f; text-decoration-color: #7f7f7f\">minimization.py</span></a><span style=\"color: #7f7f7f; text-decoration-color: #7f7f7f\">:</span><a href=\"file:///home/yong/anaconda3/envs/cosipy/lib/python3.10/site-packages/threeML/minimizer/minimization.py#1357\" target=\"_blank\"><span style=\"color: #7f7f7f; text-decoration-color: #7f7f7f\">1357</span></a>\n",
       "</pre>\n"
      ],
      "text/plain": [
       "\u001b[38;5;46m        \u001b[0m\u001b[38;5;46m \u001b[0m\u001b[38;5;134mWARNING \u001b[0m \u001b[1;38;5;251m Multinest minimizer not available                                          \u001b[0m\u001b[1;38;5;251m \u001b[0m\u001b]8;id=715426;file:///home/yong/anaconda3/envs/cosipy/lib/python3.10/site-packages/threeML/minimizer/minimization.py\u001b\\\u001b[2mminimization.py\u001b[0m\u001b]8;;\u001b\\\u001b[2m:\u001b[0m\u001b]8;id=59786;file:///home/yong/anaconda3/envs/cosipy/lib/python3.10/site-packages/threeML/minimizer/minimization.py#1357\u001b\\\u001b[2m1357\u001b[0m\u001b]8;;\u001b\\\n"
      ]
     },
     "metadata": {},
     "output_type": "display_data"
    },
    {
     "data": {
      "text/html": [
       "<pre style=\"white-space:pre;overflow-x:auto;line-height:normal;font-family:Menlo,'DejaVu Sans Mono',consolas,'Courier New',monospace\"><span style=\"color: #00ff00; text-decoration-color: #00ff00\">         </span><span style=\"color: #af5fd7; text-decoration-color: #af5fd7\">WARNING </span> <span style=\"color: #c6c6c6; text-decoration-color: #c6c6c6; font-weight: bold\"> PyGMO is not available                                                      </span><a href=\"file:///home/yong/anaconda3/envs/cosipy/lib/python3.10/site-packages/threeML/minimizer/minimization.py\" target=\"_blank\"><span style=\"color: #7f7f7f; text-decoration-color: #7f7f7f\">minimization.py</span></a><span style=\"color: #7f7f7f; text-decoration-color: #7f7f7f\">:</span><a href=\"file:///home/yong/anaconda3/envs/cosipy/lib/python3.10/site-packages/threeML/minimizer/minimization.py#1369\" target=\"_blank\"><span style=\"color: #7f7f7f; text-decoration-color: #7f7f7f\">1369</span></a>\n",
       "</pre>\n"
      ],
      "text/plain": [
       "\u001b[38;5;46m        \u001b[0m\u001b[38;5;46m \u001b[0m\u001b[38;5;134mWARNING \u001b[0m \u001b[1;38;5;251m PyGMO is not available                                                     \u001b[0m\u001b[1;38;5;251m \u001b[0m\u001b]8;id=947447;file:///home/yong/anaconda3/envs/cosipy/lib/python3.10/site-packages/threeML/minimizer/minimization.py\u001b\\\u001b[2mminimization.py\u001b[0m\u001b]8;;\u001b\\\u001b[2m:\u001b[0m\u001b]8;id=721329;file:///home/yong/anaconda3/envs/cosipy/lib/python3.10/site-packages/threeML/minimizer/minimization.py#1369\u001b\\\u001b[2m1369\u001b[0m\u001b]8;;\u001b\\\n"
      ]
     },
     "metadata": {},
     "output_type": "display_data"
    },
    {
     "data": {
      "text/html": [
       "<pre style=\"white-space:pre;overflow-x:auto;line-height:normal;font-family:Menlo,'DejaVu Sans Mono',consolas,'Courier New',monospace\"><span style=\"color: #00ff00; text-decoration-color: #00ff00\">         </span><span style=\"color: #af5fd7; text-decoration-color: #af5fd7\">WARNING </span> <span style=\"color: #c6c6c6; text-decoration-color: #c6c6c6; font-weight: bold\"> The cthreeML package is not installed. You will not be able to use plugins which  </span><a href=\"file:///home/yong/anaconda3/envs/cosipy/lib/python3.10/site-packages/threeML/__init__.py\" target=\"_blank\"><span style=\"color: #7f7f7f; text-decoration-color: #7f7f7f\">__init__.py</span></a><span style=\"color: #7f7f7f; text-decoration-color: #7f7f7f\">:</span><a href=\"file:///home/yong/anaconda3/envs/cosipy/lib/python3.10/site-packages/threeML/__init__.py#94\" target=\"_blank\"><span style=\"color: #7f7f7f; text-decoration-color: #7f7f7f\">94</span></a>\n",
       "<span style=\"color: #00ff00; text-decoration-color: #00ff00\">         </span>         <span style=\"color: #c6c6c6; text-decoration-color: #c6c6c6; font-weight: bold\">require the C/C++ interface (currently HAWC)                                       </span><span style=\"color: #7f7f7f; text-decoration-color: #7f7f7f\">              </span>\n",
       "</pre>\n"
      ],
      "text/plain": [
       "\u001b[38;5;46m        \u001b[0m\u001b[38;5;46m \u001b[0m\u001b[38;5;134mWARNING \u001b[0m \u001b[1;38;5;251m The cthreeML package is not installed. You will not be able to use plugins which \u001b[0m\u001b[1;38;5;251m \u001b[0m\u001b]8;id=915037;file:///home/yong/anaconda3/envs/cosipy/lib/python3.10/site-packages/threeML/__init__.py\u001b\\\u001b[2m__init__.py\u001b[0m\u001b]8;;\u001b\\\u001b[2m:\u001b[0m\u001b]8;id=249490;file:///home/yong/anaconda3/envs/cosipy/lib/python3.10/site-packages/threeML/__init__.py#94\u001b\\\u001b[2m94\u001b[0m\u001b]8;;\u001b\\\n",
       "\u001b[38;5;46m         \u001b[0m         \u001b[1;38;5;251mrequire the C/C++ interface \u001b[0m\u001b[1;38;5;251m(\u001b[0m\u001b[1;38;5;251mcurrently HAWC\u001b[0m\u001b[1;38;5;251m)\u001b[0m\u001b[1;38;5;251m                                      \u001b[0m\u001b[1;38;5;251m \u001b[0m\u001b[2m              \u001b[0m\n"
      ]
     },
     "metadata": {},
     "output_type": "display_data"
    },
    {
     "data": {
      "text/html": [
       "<pre style=\"white-space:pre;overflow-x:auto;line-height:normal;font-family:Menlo,'DejaVu Sans Mono',consolas,'Courier New',monospace\"><span style=\"color: #00ff00; text-decoration-color: #00ff00\">         </span><span style=\"color: #af5fd7; text-decoration-color: #af5fd7\">WARNING </span> <span style=\"color: #c6c6c6; text-decoration-color: #c6c6c6; font-weight: bold\"> Could not import plugin FermiLATLike.py. Do you have the relative instrument     </span><a href=\"file:///home/yong/anaconda3/envs/cosipy/lib/python3.10/site-packages/threeML/__init__.py\" target=\"_blank\"><span style=\"color: #7f7f7f; text-decoration-color: #7f7f7f\">__init__.py</span></a><span style=\"color: #7f7f7f; text-decoration-color: #7f7f7f\">:</span><a href=\"file:///home/yong/anaconda3/envs/cosipy/lib/python3.10/site-packages/threeML/__init__.py#144\" target=\"_blank\"><span style=\"color: #7f7f7f; text-decoration-color: #7f7f7f\">144</span></a>\n",
       "<span style=\"color: #00ff00; text-decoration-color: #00ff00\">         </span>         <span style=\"color: #c6c6c6; text-decoration-color: #c6c6c6; font-weight: bold\">software installed and configured?                                                </span><span style=\"color: #7f7f7f; text-decoration-color: #7f7f7f\">               </span>\n",
       "</pre>\n"
      ],
      "text/plain": [
       "\u001b[38;5;46m        \u001b[0m\u001b[38;5;46m \u001b[0m\u001b[38;5;134mWARNING \u001b[0m \u001b[1;38;5;251m Could not import plugin FermiLATLike.py. Do you have the relative instrument    \u001b[0m\u001b[1;38;5;251m \u001b[0m\u001b]8;id=404889;file:///home/yong/anaconda3/envs/cosipy/lib/python3.10/site-packages/threeML/__init__.py\u001b\\\u001b[2m__init__.py\u001b[0m\u001b]8;;\u001b\\\u001b[2m:\u001b[0m\u001b]8;id=69401;file:///home/yong/anaconda3/envs/cosipy/lib/python3.10/site-packages/threeML/__init__.py#144\u001b\\\u001b[2m144\u001b[0m\u001b]8;;\u001b\\\n",
       "\u001b[38;5;46m         \u001b[0m         \u001b[1;38;5;251msoftware installed and configured?                                               \u001b[0m\u001b[1;38;5;251m \u001b[0m\u001b[2m               \u001b[0m\n"
      ]
     },
     "metadata": {},
     "output_type": "display_data"
    },
    {
     "data": {
      "text/html": [
       "<pre style=\"white-space:pre;overflow-x:auto;line-height:normal;font-family:Menlo,'DejaVu Sans Mono',consolas,'Courier New',monospace\"><span style=\"color: #00ff00; text-decoration-color: #00ff00\">         </span><span style=\"color: #af5fd7; text-decoration-color: #af5fd7\">WARNING </span> <span style=\"color: #c6c6c6; text-decoration-color: #c6c6c6; font-weight: bold\"> Could not import plugin HAWCLike.py. Do you have the relative instrument         </span><a href=\"file:///home/yong/anaconda3/envs/cosipy/lib/python3.10/site-packages/threeML/__init__.py\" target=\"_blank\"><span style=\"color: #7f7f7f; text-decoration-color: #7f7f7f\">__init__.py</span></a><span style=\"color: #7f7f7f; text-decoration-color: #7f7f7f\">:</span><a href=\"file:///home/yong/anaconda3/envs/cosipy/lib/python3.10/site-packages/threeML/__init__.py#144\" target=\"_blank\"><span style=\"color: #7f7f7f; text-decoration-color: #7f7f7f\">144</span></a>\n",
       "<span style=\"color: #00ff00; text-decoration-color: #00ff00\">         </span>         <span style=\"color: #c6c6c6; text-decoration-color: #c6c6c6; font-weight: bold\">software installed and configured?                                                </span><span style=\"color: #7f7f7f; text-decoration-color: #7f7f7f\">               </span>\n",
       "</pre>\n"
      ],
      "text/plain": [
       "\u001b[38;5;46m        \u001b[0m\u001b[38;5;46m \u001b[0m\u001b[38;5;134mWARNING \u001b[0m \u001b[1;38;5;251m Could not import plugin HAWCLike.py. Do you have the relative instrument        \u001b[0m\u001b[1;38;5;251m \u001b[0m\u001b]8;id=819651;file:///home/yong/anaconda3/envs/cosipy/lib/python3.10/site-packages/threeML/__init__.py\u001b\\\u001b[2m__init__.py\u001b[0m\u001b]8;;\u001b\\\u001b[2m:\u001b[0m\u001b]8;id=621268;file:///home/yong/anaconda3/envs/cosipy/lib/python3.10/site-packages/threeML/__init__.py#144\u001b\\\u001b[2m144\u001b[0m\u001b]8;;\u001b\\\n",
       "\u001b[38;5;46m         \u001b[0m         \u001b[1;38;5;251msoftware installed and configured?                                               \u001b[0m\u001b[1;38;5;251m \u001b[0m\u001b[2m               \u001b[0m\n"
      ]
     },
     "metadata": {},
     "output_type": "display_data"
    },
    {
     "data": {
      "text/html": [
       "<pre style=\"white-space:pre;overflow-x:auto;line-height:normal;font-family:Menlo,'DejaVu Sans Mono',consolas,'Courier New',monospace\"><span style=\"color: #00ff00; text-decoration-color: #00ff00\">         </span><span style=\"color: #af5fd7; text-decoration-color: #af5fd7\">WARNING </span> <span style=\"color: #c6c6c6; text-decoration-color: #c6c6c6; font-weight: bold\"> No fermitools installed                                              </span><a href=\"file:///home/yong/anaconda3/envs/cosipy/lib/python3.10/site-packages/threeML/utils/data_builders/fermi/lat_transient_builder.py\" target=\"_blank\"><span style=\"color: #7f7f7f; text-decoration-color: #7f7f7f\">lat_transient_builder.py</span></a><span style=\"color: #7f7f7f; text-decoration-color: #7f7f7f\">:</span><a href=\"file:///home/yong/anaconda3/envs/cosipy/lib/python3.10/site-packages/threeML/utils/data_builders/fermi/lat_transient_builder.py#44\" target=\"_blank\"><span style=\"color: #7f7f7f; text-decoration-color: #7f7f7f\">44</span></a>\n",
       "</pre>\n"
      ],
      "text/plain": [
       "\u001b[38;5;46m        \u001b[0m\u001b[38;5;46m \u001b[0m\u001b[38;5;134mWARNING \u001b[0m \u001b[1;38;5;251m No fermitools installed                                             \u001b[0m\u001b[1;38;5;251m \u001b[0m\u001b]8;id=405386;file:///home/yong/anaconda3/envs/cosipy/lib/python3.10/site-packages/threeML/utils/data_builders/fermi/lat_transient_builder.py\u001b\\\u001b[2mlat_transient_builder.py\u001b[0m\u001b]8;;\u001b\\\u001b[2m:\u001b[0m\u001b]8;id=735498;file:///home/yong/anaconda3/envs/cosipy/lib/python3.10/site-packages/threeML/utils/data_builders/fermi/lat_transient_builder.py#44\u001b\\\u001b[2m44\u001b[0m\u001b]8;;\u001b\\\n"
      ]
     },
     "metadata": {},
     "output_type": "display_data"
    },
    {
     "data": {
      "text/html": [
       "<pre style=\"white-space:pre;overflow-x:auto;line-height:normal;font-family:Menlo,'DejaVu Sans Mono',consolas,'Courier New',monospace\"><span style=\"color: #00ff00; text-decoration-color: #00ff00\">         </span><span style=\"color: #af5fd7; text-decoration-color: #af5fd7\">WARNING </span> <span style=\"color: #c6c6c6; text-decoration-color: #c6c6c6; font-weight: bold\"> Env. variable OMP_NUM_THREADS is not set. Please set it to </span><span style=\"color: #c0c0c0; text-decoration-color: #c0c0c0; font-weight: bold\">1</span><span style=\"color: #c6c6c6; text-decoration-color: #c6c6c6; font-weight: bold\"> for optimal         </span><a href=\"file:///home/yong/anaconda3/envs/cosipy/lib/python3.10/site-packages/threeML/__init__.py\" target=\"_blank\"><span style=\"color: #7f7f7f; text-decoration-color: #7f7f7f\">__init__.py</span></a><span style=\"color: #7f7f7f; text-decoration-color: #7f7f7f\">:</span><a href=\"file:///home/yong/anaconda3/envs/cosipy/lib/python3.10/site-packages/threeML/__init__.py#387\" target=\"_blank\"><span style=\"color: #7f7f7f; text-decoration-color: #7f7f7f\">387</span></a>\n",
       "<span style=\"color: #00ff00; text-decoration-color: #00ff00\">         </span>         <span style=\"color: #c6c6c6; text-decoration-color: #c6c6c6; font-weight: bold\">performances in 3ML                                                               </span><span style=\"color: #7f7f7f; text-decoration-color: #7f7f7f\">               </span>\n",
       "</pre>\n"
      ],
      "text/plain": [
       "\u001b[38;5;46m        \u001b[0m\u001b[38;5;46m \u001b[0m\u001b[38;5;134mWARNING \u001b[0m \u001b[1;38;5;251m Env. variable OMP_NUM_THREADS is not set. Please set it to \u001b[0m\u001b[1;37m1\u001b[0m\u001b[1;38;5;251m for optimal        \u001b[0m\u001b[1;38;5;251m \u001b[0m\u001b]8;id=769110;file:///home/yong/anaconda3/envs/cosipy/lib/python3.10/site-packages/threeML/__init__.py\u001b\\\u001b[2m__init__.py\u001b[0m\u001b]8;;\u001b\\\u001b[2m:\u001b[0m\u001b]8;id=745933;file:///home/yong/anaconda3/envs/cosipy/lib/python3.10/site-packages/threeML/__init__.py#387\u001b\\\u001b[2m387\u001b[0m\u001b]8;;\u001b\\\n",
       "\u001b[38;5;46m         \u001b[0m         \u001b[1;38;5;251mperformances in 3ML                                                              \u001b[0m\u001b[1;38;5;251m \u001b[0m\u001b[2m               \u001b[0m\n"
      ]
     },
     "metadata": {},
     "output_type": "display_data"
    },
    {
     "data": {
      "text/html": [
       "<pre style=\"white-space:pre;overflow-x:auto;line-height:normal;font-family:Menlo,'DejaVu Sans Mono',consolas,'Courier New',monospace\"><span style=\"color: #00ff00; text-decoration-color: #00ff00\">         </span><span style=\"color: #af5fd7; text-decoration-color: #af5fd7\">WARNING </span> <span style=\"color: #c6c6c6; text-decoration-color: #c6c6c6; font-weight: bold\"> Env. variable MKL_NUM_THREADS is not set. Please set it to </span><span style=\"color: #c0c0c0; text-decoration-color: #c0c0c0; font-weight: bold\">1</span><span style=\"color: #c6c6c6; text-decoration-color: #c6c6c6; font-weight: bold\"> for optimal         </span><a href=\"file:///home/yong/anaconda3/envs/cosipy/lib/python3.10/site-packages/threeML/__init__.py\" target=\"_blank\"><span style=\"color: #7f7f7f; text-decoration-color: #7f7f7f\">__init__.py</span></a><span style=\"color: #7f7f7f; text-decoration-color: #7f7f7f\">:</span><a href=\"file:///home/yong/anaconda3/envs/cosipy/lib/python3.10/site-packages/threeML/__init__.py#387\" target=\"_blank\"><span style=\"color: #7f7f7f; text-decoration-color: #7f7f7f\">387</span></a>\n",
       "<span style=\"color: #00ff00; text-decoration-color: #00ff00\">         </span>         <span style=\"color: #c6c6c6; text-decoration-color: #c6c6c6; font-weight: bold\">performances in 3ML                                                               </span><span style=\"color: #7f7f7f; text-decoration-color: #7f7f7f\">               </span>\n",
       "</pre>\n"
      ],
      "text/plain": [
       "\u001b[38;5;46m        \u001b[0m\u001b[38;5;46m \u001b[0m\u001b[38;5;134mWARNING \u001b[0m \u001b[1;38;5;251m Env. variable MKL_NUM_THREADS is not set. Please set it to \u001b[0m\u001b[1;37m1\u001b[0m\u001b[1;38;5;251m for optimal        \u001b[0m\u001b[1;38;5;251m \u001b[0m\u001b]8;id=170278;file:///home/yong/anaconda3/envs/cosipy/lib/python3.10/site-packages/threeML/__init__.py\u001b\\\u001b[2m__init__.py\u001b[0m\u001b]8;;\u001b\\\u001b[2m:\u001b[0m\u001b]8;id=720771;file:///home/yong/anaconda3/envs/cosipy/lib/python3.10/site-packages/threeML/__init__.py#387\u001b\\\u001b[2m387\u001b[0m\u001b]8;;\u001b\\\n",
       "\u001b[38;5;46m         \u001b[0m         \u001b[1;38;5;251mperformances in 3ML                                                              \u001b[0m\u001b[1;38;5;251m \u001b[0m\u001b[2m               \u001b[0m\n"
      ]
     },
     "metadata": {},
     "output_type": "display_data"
    },
    {
     "data": {
      "text/html": [
       "<pre style=\"white-space:pre;overflow-x:auto;line-height:normal;font-family:Menlo,'DejaVu Sans Mono',consolas,'Courier New',monospace\"><span style=\"color: #00ff00; text-decoration-color: #00ff00\">         </span><span style=\"color: #af5fd7; text-decoration-color: #af5fd7\">WARNING </span> <span style=\"color: #c6c6c6; text-decoration-color: #c6c6c6; font-weight: bold\"> Env. variable NUMEXPR_NUM_THREADS is not set. Please set it to </span><span style=\"color: #c0c0c0; text-decoration-color: #c0c0c0; font-weight: bold\">1</span><span style=\"color: #c6c6c6; text-decoration-color: #c6c6c6; font-weight: bold\"> for optimal     </span><a href=\"file:///home/yong/anaconda3/envs/cosipy/lib/python3.10/site-packages/threeML/__init__.py\" target=\"_blank\"><span style=\"color: #7f7f7f; text-decoration-color: #7f7f7f\">__init__.py</span></a><span style=\"color: #7f7f7f; text-decoration-color: #7f7f7f\">:</span><a href=\"file:///home/yong/anaconda3/envs/cosipy/lib/python3.10/site-packages/threeML/__init__.py#387\" target=\"_blank\"><span style=\"color: #7f7f7f; text-decoration-color: #7f7f7f\">387</span></a>\n",
       "<span style=\"color: #00ff00; text-decoration-color: #00ff00\">         </span>         <span style=\"color: #c6c6c6; text-decoration-color: #c6c6c6; font-weight: bold\">performances in 3ML                                                               </span><span style=\"color: #7f7f7f; text-decoration-color: #7f7f7f\">               </span>\n",
       "</pre>\n"
      ],
      "text/plain": [
       "\u001b[38;5;46m        \u001b[0m\u001b[38;5;46m \u001b[0m\u001b[38;5;134mWARNING \u001b[0m \u001b[1;38;5;251m Env. variable NUMEXPR_NUM_THREADS is not set. Please set it to \u001b[0m\u001b[1;37m1\u001b[0m\u001b[1;38;5;251m for optimal    \u001b[0m\u001b[1;38;5;251m \u001b[0m\u001b]8;id=303965;file:///home/yong/anaconda3/envs/cosipy/lib/python3.10/site-packages/threeML/__init__.py\u001b\\\u001b[2m__init__.py\u001b[0m\u001b]8;;\u001b\\\u001b[2m:\u001b[0m\u001b]8;id=216107;file:///home/yong/anaconda3/envs/cosipy/lib/python3.10/site-packages/threeML/__init__.py#387\u001b\\\u001b[2m387\u001b[0m\u001b]8;;\u001b\\\n",
       "\u001b[38;5;46m         \u001b[0m         \u001b[1;38;5;251mperformances in 3ML                                                              \u001b[0m\u001b[1;38;5;251m \u001b[0m\u001b[2m               \u001b[0m\n"
      ]
     },
     "metadata": {},
     "output_type": "display_data"
    }
   ],
   "source": [
    "import numpy as np\n",
    "import matplotlib.pyplot as plt\n",
    "import astropy.units as u\n",
    "from astropy.io import fits\n",
    "from astropy.time import Time\n",
    "from astropy.coordinates import SkyCoord, cartesian_to_spherical, Galactic\n",
    "from mhealpy import HealpixMap\n",
    "import matplotlib.pyplot as plt\n",
    "from matplotlib.colors import LogNorm\n",
    "from matplotlib import cm, colors\n",
    "\n",
    "from scoords import Attitude, SpacecraftFrame\n",
    "from cosipy.response import FullDetectorResponse"
   ]
  },
  {
   "cell_type": "code",
   "execution_count": 6,
   "id": "653be004-2229-4e6d-a1e5-39256dba74fb",
   "metadata": {},
   "outputs": [
    {
     "name": "stderr",
     "output_type": "stream",
     "text": [
      "\n",
      "WARNING DeprecationWarning: elementwise comparison failed; this will raise an error in the future.\n",
      "\n"
     ]
    },
    {
     "data": {
      "text/plain": [
       "False"
      ]
     },
     "execution_count": 6,
     "metadata": {},
     "output_type": "execute_result"
    }
   ],
   "source": [
    "np.array([1,2,3]) == np.ndarray"
   ]
  },
  {
   "cell_type": "code",
   "execution_count": 8,
   "id": "4a5dbff4-377f-41dc-ab59-e17fd2905c0c",
   "metadata": {},
   "outputs": [
    {
     "data": {
      "text/plain": [
       "True"
      ]
     },
     "execution_count": 8,
     "metadata": {},
     "output_type": "execute_result"
    }
   ],
   "source": [
    "isinstance(np.array([1,2,3]), np.ndarray)"
   ]
  },
  {
   "cell_type": "code",
   "execution_count": 13,
   "id": "ca3c8bec-7e02-4117-8e19-d9a7ed451f9a",
   "metadata": {
    "scrolled": true
   },
   "outputs": [],
   "source": [
    "class SpacecraftFile():\n",
    "\n",
    "    def __init__(self, time, x_pointings = None, y_pointings = None, z_pointings = None, \n",
    "                 instrument = \"COSI\", frame = \"galactic\"):\n",
    "\n",
    "        \"\"\"\n",
    "        Define the inputs to calculate the orbits and point source response.\n",
    "        Will finish later\n",
    "        \"\"\"\n",
    "\n",
    "        self._load_time = time\n",
    "        self._x_direction = x_pointings  # this is nump.ndarray\n",
    "        self._z_direction = z_pointings  # this is numpy.ndarray\n",
    "        self.frame = frame\n",
    "\n",
    "        if x_pointings != None:\n",
    "            self.x_pointings = SkyCoord(l = x_pointings[:,0], b = x_pointings[:,1], unit = \"deg\", frame = self.frame)\n",
    "        else:\n",
    "            self.x_pointings = x_pointings\n",
    "\n",
    "        if y_pointings != None:\n",
    "            self.y_pointings = SkyCoord(l = y_pointings[:,0], b = y_pointings[:,1], unit = \"deg\", frame = self.frame)\n",
    "        else:\n",
    "            self.y_pointings = x_pointings\n",
    "\n",
    "        if z_pointings != None:\n",
    "            self.z_pointings = SkyCoord(l = z_pointings[:,0], b = z_pointings[:,1], unit = \"deg\", frame = self.frame)\n",
    "        else:\n",
    "            self.z_pointings = z_pointings\n",
    "        \n",
    "\n",
    "    @classmethod\n",
    "    def parse_from_file(cls, file):\n",
    "\n",
    "        #parses timestamps, axis positions from file and returns to __init__\n",
    "\n",
    "        time_stamps = np.loadtxt(file, usecols = 1, delimiter = ' ', skiprows = 1)\n",
    "        axis_1 = np.loadtxt(file, usecols = (2,3), delimiter = ' ', skiprows = 1)\n",
    "        axis_2 = np.loadtxt(file, usecols = (4,5), delimiter = ' ', skiprows = 1)\n",
    "\n",
    "        return cls(time_stamps, axis_1, axis_2)\n",
    "        \n",
    "\n",
    "    def get_time(self, time_array = None):\n",
    "\n",
    "        \"\"\"\n",
    "        Return the arrary pf pointing times as a astropy.Time object.\n",
    "\n",
    "        Parameters\n",
    "        ----------\n",
    "        time_array: None or np.array; If None, the time array will be taken from the instance\n",
    "\n",
    "        Returns\n",
    "        -------\n",
    "        astropy.Time\n",
    "        \"\"\"\n",
    "\n",
    "        if time_array == None:\n",
    "            self._time = Time(self._load_time, format = \"unix\")\n",
    "        else:\n",
    "            self._time = Time(time_array, format = \"unix\")\n",
    "\n",
    "        return self._time\n",
    "\n",
    "    def get_time_delta(self, time_array = None):\n",
    "\n",
    "        \"\"\"\n",
    "        Return an array of the time period between neighbouring time points\n",
    "\n",
    "        Parameters\n",
    "        ----------\n",
    "        time_array: None or np.array; If None, the time array will be taken from the instance\n",
    "\n",
    "        Returns\n",
    "        -------\n",
    "        astropy.Time\n",
    "        \"\"\"\n",
    "\n",
    "        if time_array == None:\n",
    "            self._time_delta = np.diff(self._load_time)\n",
    "        else:\n",
    "            self._time_delta = np.diff(time_array)\n",
    "\n",
    "        return self._time_delta\n",
    "\n",
    "    def interpolate_direction(self, trigger, idx, direction):\n",
    "\n",
    "        \"\"\"\n",
    "        Linearly interpolates position at a given time between two timestamps\n",
    "\n",
    "        Parameters\n",
    "        ----------\n",
    "        trigger:\n",
    "        idx:\n",
    "        direction\n",
    "\n",
    "        Returns\n",
    "        -------\n",
    "        numpy.ndarray\n",
    "        \"\"\"\n",
    "\n",
    "        new_direction_lat = np.interp(trigger.value, self._load_time[idx : idx + 2], direction[idx : idx + 2, 0])\n",
    "        if (direction[idx, 1] > direction[idx + 1, 1]):\n",
    "            new_direction_long = np.interp(trigger.value, self._load_time[idx : idx + 2], [direction[idx, 1], 360 + direction[idx + 1, 1]])\n",
    "            new_direction_long = new_direction_long - 360\n",
    "        else:\n",
    "            new_direction_long = np.interp(trigger.value, self._load_time[idx : idx + 2], direction[idx : idx + 2, 1])\n",
    "\n",
    "        return np.array([new_direction_lat, new_direction_long])\n",
    "\n",
    "    def source_interval(self, start, stop):\n",
    "\n",
    "        \"\"\"\n",
    "        Returns the Orientation file class object for the source time\n",
    "\n",
    "        Parameters\n",
    "        ----------\n",
    "        start:\n",
    "        stop:\n",
    "\n",
    "        Returns\n",
    "        -------\n",
    "        cosipy.Orientation\n",
    "        \"\"\"\n",
    "        \n",
    "        if(start.format != 'unix' or stop.format != 'unix'):\n",
    "            start = Time(start.unix, format='unix')\n",
    "            stop = Time(stop.unix, format='unix')\n",
    "\n",
    "        if(start > stop):\n",
    "            raise ValueError(\"start time cannot be after stop time.\")\n",
    "\n",
    "        stop_idx = self._load_time.searchsorted(stop.value)\n",
    "\n",
    "        if (start.value % 1 == 0):\n",
    "            start_idx = self._load_time.searchsorted(start.value)\n",
    "            new_times = self._load_time[start_idx : stop_idx + 1]\n",
    "            new_x_direction = self._x_direction[start_idx : stop_idx + 1]\n",
    "            new_z_direction = self._z_direction[start_idx : stop_idx + 1]\n",
    "        else:\n",
    "            start_idx = self._load_time.searchsorted(start.value) - 1\n",
    "\n",
    "            x_direction_start = self.interpolate_direction(start, start_idx, self._x_direction)\n",
    "            z_direction_start = self.interpolate_direction(start, start_idx, self._z_direction)\n",
    "\n",
    "            new_times = self._load_time[start_idx + 1 : stop_idx + 1]\n",
    "            new_times = np.insert(new_times, 0, start.value)\n",
    "\n",
    "            new_x_direction = self._x_direction[start_idx + 1 : stop_idx + 1]\n",
    "            new_x_direction = np.insert(new_x_direction, 0, x_direction_start, axis = 0)\n",
    "\n",
    "            new_z_direction = self._z_direction[start_idx + 1 : stop_idx + 1]\n",
    "            new_z_direction = np.insert(new_z_direction, 0, z_direction_start, axis = 0)\n",
    "\n",
    "\n",
    "        if (stop.value % 1 != 0):\n",
    "            stop_idx = self._load_time.searchsorted(stop.value) - 1\n",
    "\n",
    "            x_direction_stop = self.interpolate_direction(stop, stop_idx, self._x_direction)\n",
    "            z_direction_stop = self.interpolate_direction(stop, stop_idx, self._z_direction)\n",
    "\n",
    "            new_times = np.delete(new_times, -1)\n",
    "            new_times = np.append(new_times, stop.value)\n",
    "\n",
    "            new_x_direction = new_x_direction[:-1]\n",
    "            new_x_direction = np.append(new_x_direction, [x_direction_stop], axis = 0)\n",
    "\n",
    "            new_z_direction = new_z_direction[:-1]\n",
    "            new_z_direction = np.append(new_z_direction, [z_direction_stop], axis = 0)\n",
    "\n",
    "        return Orientation_file(new_times, new_x_direction, new_z_direction)\n",
    "\n",
    "    def get_attitude(self, x_pointings = None, y_pointings = None, z_pointings = None):\n",
    "\n",
    "        \"\"\"\n",
    "        Converts the x, y and z pointings to the attitude of the telescope.\n",
    "\n",
    "        Parameters\n",
    "        ----------\n",
    "        x_pointings : SkyCoord object; the pointings of the x axis of the spacecraft.\n",
    "        y_pointings : SkyCoord object; the pointings of the y axis of the spacecraft.\n",
    "        z_pointings : SkyCoord object; the pointings of the z axis of the spacecraft.\n",
    "        frame : :py:class:`astropy.coordinates.BaseCoordinateFrame`; Inertial reference frame\n",
    "\n",
    "        Returns\n",
    "        -------\n",
    "        cosipy.attitude\n",
    "        \"\"\"\n",
    "\n",
    "        if x_pointings != None:\n",
    "            self.x_pointings = x_pointings\n",
    "        if y_pointings != None:\n",
    "            self.y_pointings = y_pointings\n",
    "        if z_pointings != None:\n",
    "            self.z_pointings = z_pointings\n",
    "\n",
    "        list_ = [self.x_pointings, self.y_pointings, self.z_pointings]\n",
    "        coord_list_of_path = [x for x in list_ if x!=None]  # check how many pointings the user input\n",
    "\n",
    "        # Check if the user input pointings from at least two axes\n",
    "        if len(coord_list_of_path) <= 1:\n",
    "            raise ValueError(\"You must input pointings of at least two axes\")\n",
    "\n",
    "        # Check if the inputs are SkyCoord objects\n",
    "        for i in coord_list_of_path:\n",
    "            if type(i) != SkyCoord:\n",
    "                raise ValueError(\"The coordiates must be a SkyCoord object\")\n",
    "\n",
    "        self.attitude = Attitude.from_axes(x=self.x_pointings, \n",
    "                                           y=self.y_pointings, \n",
    "                                           z=self.z_pointings, \n",
    "                                           frame = self.frame)\n",
    "\n",
    "        return self.attitude\n",
    "\n",
    "    def get_target_in_sc_frame(self, target_name, target_coord, attitude = None):\n",
    "\n",
    "        \"\"\"\n",
    "        Convert the x, y and z pointings of the spacescraft axes to the path of the source in the spacecraft frame.\n",
    "        Specify the pointings of at least two axes.\n",
    "\n",
    "        Parameters\n",
    "        ----------\n",
    "        target_name: str; the name of the target object\n",
    "        target_coord: astropy.Skycoord; the coordinates of the target object\n",
    "        attitude: None or cosipy.Attitude; If not, the attitude will be taken from the instance\n",
    "\n",
    "        Returns\n",
    "        -------\n",
    "        SkyCoord object\n",
    "        \"\"\"\n",
    "\n",
    "        if attitude != None:\n",
    "            self.attitude = attitude\n",
    "\n",
    "        self.target_name = target_name\n",
    "        print(\"Now converting to the Spacecraft frame...\")\n",
    "        self.src_path_cartesian = SkyCoord(np.dot(self.attitude.rot.inv().as_matrix(), target_coord.cartesian.xyz.value),\n",
    "                                           representation_type = 'cartesian',\n",
    "                                           frame = SpacecraftFrame())\n",
    "        \n",
    "        # The conversion above is in Cartesian frame, so we have to convert them to the spherical one.\n",
    "\n",
    "        self.src_path_spherical = cartesian_to_spherical(self.src_path_cartesian.x, \n",
    "                                                         self.src_path_cartesian.y, \n",
    "                                                         self.src_path_cartesian.z)\n",
    "\n",
    "        print(f\"Conversion completed!\")\n",
    "\n",
    "        # generate the numpy array of l and b to save to a npy file\n",
    "        l = np.array(self.src_path_spherical[2].deg)  # note that 0 is Quanty, 1 is latitude and 2 is longitude and they are in rad not deg\n",
    "        b = np.array(self.src_path_spherical[1].deg)\n",
    "        self.src_path_lb = np.stack((l,b), axis=-1)\n",
    "        np.save(self.target_name+\"_source_path_in_SC_frame\", self.src_path_lb)\n",
    "\n",
    "        # convert to SkyCoord objects to get the output object of this method\n",
    "        self.src_path_skycoord = SkyCoord(self.src_path_lb[:,0], self.src_path_lb[:,1], unit = \"deg\", frame = SpacecraftFrame())\n",
    "\n",
    "        return self.src_path_skycoord\n",
    "\n",
    "    def get_dwell_map(self, response, dts = None, src_path = None):\n",
    "\n",
    "        \"\"\"\n",
    "        Generates the dwell time map for the source.\n",
    "\n",
    "        Parameters\n",
    "        ----------\n",
    "        response : str; .h5 file, the response for the observation\n",
    "        dts : None or numpy.ndarray; the elapsed time for each pointing. It must has the same size as the pointings\n",
    "        src_path : SkyCoord object; the movement of source in the detector frame.\n",
    "\n",
    "        Returns\n",
    "        -------\n",
    "        dwell time map\n",
    "        \"\"\"\n",
    "\n",
    "        # Define the response\n",
    "        self.response_file = response\n",
    "\n",
    "        # Define the dts\n",
    "        if dts == None:\n",
    "            self.dts = self.get_time_delta()\n",
    "        else:\n",
    "            self.dts = Time(dts, format = \"unix\")\n",
    "\n",
    "        # define the target source path in the SC frame\n",
    "        if src_path == None:\n",
    "            path = self.src_path_skycoord\n",
    "        else:\n",
    "            path = src_path\n",
    "        # check if the target source path is astropy.Skycoord object\n",
    "        if type(path) != Skycoord:\n",
    "            raise TypeError(\"The coordiates of the source movement in the Spacecraft frame must be a SkyCoord object\")\n",
    "\n",
    "        if path.shape[0] != self.dts.shape[0]:\n",
    "            raise ValueError(\"The dimensions of the dts and source coordinates are not the same. Please check your inputs.\")\n",
    "            \n",
    "        with FullDetectorResponse.open(self.response_file) as response:\n",
    "            self.dwell_map = HealpixMap(base = response, \n",
    "                                        unit = u.s, \n",
    "                                        coordsys = SpacecraftFrame())\n",
    "\n",
    "            for duration, coord in zip(self.dts, path):\n",
    "                pixels, weights = dwell_map.get_interp_weights(coord)\n",
    "                for p, w in zip(pixels, weights):\n",
    "                    self.dwell_map[p] += w*(duration.unix*u.s)\n",
    "\n",
    "\n",
    "        self.dwell_map.write_map(self.target_name + \"_DwllMap.fits\", overwrite = True)      \n",
    "            \n",
    "    def get_psr_rsp(self, response = None, dwell_map = None, dts = None):\n",
    "        \n",
    "        \"\"\"\n",
    "        Generates the point source response based on the response file and dwell time map.\n",
    "        dts is used to find the exposure time for this observation.\n",
    "        \n",
    "        Parameters\n",
    "        ----------\n",
    "        response : .h5 file; the response for the observation\n",
    "        dwell_map : None or str; the time dwell map for the source, you can load saved dwell time map \n",
    "                    using this parameterif you've saved it before\n",
    "        dts : numpy array or the file path; the elapsed time for each pointing. It must has the same \n",
    "              size as the pointings. If you have saved this array, you can load it using this parameter\n",
    "        \n",
    "        Returns\n",
    "        -------\n",
    "        Ei_edges : numpy array; the edges of the incident energy\n",
    "        Ei_lo : numpy array; the lower edges of the incident energy\n",
    "        Ei_hi : numpy array; the upper edges of the incident energy\n",
    "        Em_edges : numpy array; the edges of the measured energy\n",
    "        Em_lo : numpy array; the lower edges of the measured energy\n",
    "        Em_hi : numpy array; the upper edges of the measured energy\n",
    "        areas \" numpy array; the effective area of each energy bin\n",
    "        matrix : numpy.array; the energy dispersion matrix\n",
    "        \"\"\"\n",
    "        \n",
    "        if response == None:\n",
    "            pass # will use the response defined in the previous steps\n",
    "        else:\n",
    "            self.response_file = response\n",
    "\n",
    "        if dwell_map == None:\n",
    "            pass # will use the dwelltime map calculated in the previous steps\n",
    "        else:\n",
    "            self.dwell_map = HealpixMap.read_map(dwell_map)\n",
    "        \n",
    "        if dts == None:\n",
    "            self.dts = self.get_time_delta()\n",
    "        else:\n",
    "            self.dts = Time(dts, format = \"unix\")\n",
    "        \n",
    "        with FullDetectorResponse.open(self.response_file) as response:\n",
    "            \n",
    "            # get point source response\n",
    "            self.psr = response.get_point_source_response(self.dwell_map)\n",
    "            \n",
    "            self.Ei_edges = np.array(response.axes['Ei'].edges)\n",
    "            self.Ei_lo = np.float32(self.Ei_edges[:-1])  # use float32 to match the requirement of the data type\n",
    "            self.Ei_hi = np.float32(self.Ei_edges[1:])\n",
    "            \n",
    "            self.Em_edges = np.array(response.axes['Em'].edges)\n",
    "            self.Em_lo = np.float32(self.Em_edges[:-1])  \n",
    "            self.Em_hi = np.float32(self.Em_edges[1:])\n",
    "            \n",
    "         # get the effective area and matrix\n",
    "        print(\"Getting the effective area ...\")\n",
    "        self.areas = np.float32(np.array(self.psr.project('Ei').to_dense().contents))/self.dts.unix.sum()\n",
    "        spectral_response = np.float32(np.array(self.psr.project(['Ei','Em']).to_dense().contents))\n",
    "        self.matrix = np.float32(np.zeros((self.Ei_lo.size,self.Em_lo.size))) # initate the matrix\n",
    "        \n",
    "        print(\"Getting the energy redistribution matrix ...\")\n",
    "        for i in np.arange(self.Ei_lo.size):\n",
    "            new_raw = spectral_response[i,:]/spectral_response[i,:].sum()\n",
    "            self.matrix[i,:] = new_raw\n",
    "        self.matrix = self.matrix.T\n",
    "        \n",
    "        return self.Ei_edges, self.Ei_lo, self.Ei_hi, self.Em_edges, self.Em_lo, self.Em_hi, self.areas, self.matrix\n",
    "        \n",
    "        \n",
    "    def get_arf(self):\n",
    "        \n",
    "        \"\"\"\n",
    "        Converts the point source response to an arf file that can be read by XSPEC\n",
    "        \n",
    "        Parameters\n",
    "        ----------\n",
    "        \n",
    "        Returns\n",
    "        -------\n",
    "        None\n",
    "        \"\"\"\n",
    "        \n",
    "        # blow write the arf file\n",
    "        copyright_string=\"  FITS (Flexible Image Transport System) format is defined in 'Astronomy and Astrophysics', volume 376, page 359; bibcode: 2001A&A...376..359H \"\n",
    "\n",
    "        ## Create PrimaryHDU\n",
    "        primaryhdu = fits.PrimaryHDU() # create an empty primary HDU\n",
    "        primaryhdu.header[\"BITPIX\"] = -32 # since it's an empty HDU, I can just change the data type by resetting the BIPTIX value\n",
    "        primaryhdu.header[\"COMMENT\"] = copyright_string # add comments\n",
    "        primaryhdu.header # print headers and their values\n",
    "\n",
    "        col1_energ_lo = fits.Column(name=\"ENERG_LO\", format=\"E\",unit = \"keV\", array=self.Em_lo)\n",
    "        col2_energ_hi = fits.Column(name=\"ENERG_HI\", format=\"E\",unit = \"keV\", array=self.Em_hi)\n",
    "        col3_specresp = fits.Column(name=\"SPECRESP\", format=\"E\",unit = \"cm**2\", array=self.areas)\n",
    "        cols = fits.ColDefs([col1_energ_lo, col2_energ_hi, col3_specresp]) # create a ColDefs (column-definitions) object for all columns\n",
    "        specresp_bintablehdu = fits.BinTableHDU.from_columns(cols) # create a binary table HDU object\n",
    "\n",
    "        specresp_bintablehdu.header.comments[\"TTYPE1\"] =  \"label for field   1\"\n",
    "        specresp_bintablehdu.header.comments[\"TFORM1\"] =  \"data format of field: 4-byte REAL\"\n",
    "        specresp_bintablehdu.header.comments[\"TUNIT1\"] =  \"physical unit of field\"\n",
    "        specresp_bintablehdu.header.comments[\"TTYPE2\"] =  \"label for field   2\"\n",
    "        specresp_bintablehdu.header.comments[\"TFORM2\"] =  \"data format of field: 4-byte REAL\"\n",
    "        specresp_bintablehdu.header.comments[\"TUNIT2\"] =  \"physical unit of field\"\n",
    "        specresp_bintablehdu.header.comments[\"TTYPE3\"] =  \"label for field   3\"\n",
    "        specresp_bintablehdu.header.comments[\"TFORM3\"] =  \"data format of field: 4-byte REAL\"\n",
    "        specresp_bintablehdu.header.comments[\"TUNIT3\"] =  \"physical unit of field\"\n",
    "\n",
    "        specresp_bintablehdu.header[\"EXTNAME\"] = (\"SPECRESP\",\"name of this binary table extension\")\n",
    "        specresp_bintablehdu.header[\"TELESCOP\"] = (\"COSI\",\"mission/satellite name\")\n",
    "        specresp_bintablehdu.header[\"INSTRUME\"] = (\"COSI\",\"instrument/detector name\")\n",
    "        specresp_bintablehdu.header[\"FILTER\"] = (\"NONE\",\"filter in use\")\n",
    "        specresp_bintablehdu.header[\"HDUCLAS1\"] = (\"RESPONSE\",\"dataset relates to spectral response\")\n",
    "        specresp_bintablehdu.header[\"HDUCLAS2\"] = (\"SPECRESP\",\"extension contains an ARF\")\n",
    "        specresp_bintablehdu.header[\"HDUVERS\"] = (\"1.1.0\",\"version of format\")\n",
    "\n",
    "        new_arfhdus = fits.HDUList([primaryhdu, specresp_bintablehdu])\n",
    "        new_arfhdus.writeto(f'{self.out_name}.arf', overwrite=True)\n",
    "        \n",
    "        return\n",
    "    \n",
    "    def get_rmf(self):\n",
    "        \n",
    "        \"\"\"\n",
    "        Converts the point source response to an rmf file that can be read by XSPEC\n",
    "        \n",
    "        Parameters\n",
    "        ----------\n",
    "        \n",
    "        Returns\n",
    "        -------\n",
    "        None\n",
    "        \"\"\"\n",
    "        \n",
    "        # blow write the arf file\n",
    "        copyright_string=\"  FITS (Flexible Image Transport System) format is defined in 'Astronomy and Astrophysics', volume 376, page 359; bibcode: 2001A&A...376..359H \"\n",
    "\n",
    "        ## Create PrimaryHDU\n",
    "        primaryhdu = fits.PrimaryHDU() # create an empty primary HDU\n",
    "        primaryhdu.header[\"BITPIX\"] = -32 # since it's an empty HDU, I can just change the data type by resetting the BIPTIX value\n",
    "        primaryhdu.header[\"COMMENT\"] = copyright_string # add comments\n",
    "        primaryhdu.header # print headers and their values\n",
    "\n",
    "        ## Create binary table HDU for MATRIX\n",
    "        ### prepare colums\n",
    "        energ_lo = []\n",
    "        energ_hi = []\n",
    "        n_grp = []\n",
    "        f_chan = []\n",
    "        n_chan = []\n",
    "        matrix = []\n",
    "        for i in np.arange(len(self.Ei_lo)):\n",
    "            energ_lo_temp = np.float32(self.Em_lo[i])\n",
    "            energ_hi_temp = np.float32(self.Ei_hi[i])\n",
    "\n",
    "            if self.matrix[:,i].sum() != 0:\n",
    "                nz_matrix_idx = np.nonzero(self.matrix[:,i])[0] # non-zero index for the matrix\n",
    "                subsets = np.split(nz_matrix_idx, np.where(np.diff(nz_matrix_idx) != 1)[0]+1)\n",
    "                n_grp_temp = np.int16(len(subsets))\n",
    "                f_chan_temp = []\n",
    "                n_chan_temp = []\n",
    "                matrix_temp = []\n",
    "                for m in np.arange(n_grp_temp):\n",
    "                    f_chan_temp += [subsets[m][0]]\n",
    "                    n_chan_temp += [len(subsets[m])]\n",
    "                for m in nz_matrix_idx:\n",
    "                    matrix_temp += [self.matrix[:,i][m]]\n",
    "                f_chan_temp = np.int16(np.array(f_chan_temp))\n",
    "                n_chan_temp = np.int16(np.array(n_chan_temp))\n",
    "                matrix_temp = np.float32(np.array(matrix_temp))\n",
    "            else:\n",
    "                n_grp_temp = np.int16(0)\n",
    "                f_chan_temp = np.int16(np.array([0]))\n",
    "                n_chan_temp = np.int16(np.array([0]))\n",
    "                matrix_temp = np.float32(np.array([0]))\n",
    "\n",
    "            energ_lo.append(energ_lo_temp)\n",
    "            energ_hi.append(energ_hi_temp)\n",
    "            n_grp.append(n_grp_temp)\n",
    "            f_chan.append(f_chan_temp)\n",
    "            n_chan.append(n_chan_temp)\n",
    "            matrix.append(matrix_temp)\n",
    "\n",
    "        col1_energ_lo = fits.Column(name=\"ENERG_LO\", format=\"E\",unit = \"keV\", array=energ_lo)\n",
    "        col2_energ_hi = fits.Column(name=\"ENERG_HI\", format=\"E\",unit = \"keV\", array=energ_hi)\n",
    "        col3_n_grp = fits.Column(name=\"N_GRP\", format=\"I\", array=n_grp)\n",
    "        col4_f_chan = fits.Column(name=\"F_CHAN\", format=\"PI(54)\", array=f_chan)\n",
    "        col5_n_chan = fits.Column(name=\"N_CHAN\", format=\"PI(54)\", array=n_chan)\n",
    "        col6_n_chan = fits.Column(name=\"MATRIX\", format=\"PE(161)\", array=matrix)\n",
    "        cols = fits.ColDefs([col1_energ_lo, col2_energ_hi, col3_n_grp, col4_f_chan, col5_n_chan, col6_n_chan]) # create a ColDefs (column-definitions) object for all columns\n",
    "        matrix_bintablehdu = fits.BinTableHDU.from_columns(cols) # create a binary table HDU object\n",
    "\n",
    "        matrix_bintablehdu.header.comments[\"TTYPE1\"] = \"label for field   1 \"\n",
    "        matrix_bintablehdu.header.comments[\"TFORM1\"] = \"data format of field: 4-byte REAL\"\n",
    "        matrix_bintablehdu.header.comments[\"TUNIT1\"] = \"physical unit of field\"\n",
    "        matrix_bintablehdu.header.comments[\"TTYPE2\"] = \"label for field   2\"\n",
    "        matrix_bintablehdu.header.comments[\"TFORM2\"] = \"data format of field: 4-byte REAL\"\n",
    "        matrix_bintablehdu.header.comments[\"TUNIT2\"] = \"physical unit of field\"\n",
    "        matrix_bintablehdu.header.comments[\"TTYPE3\"] = \"label for field   3 \"\n",
    "        matrix_bintablehdu.header.comments[\"TFORM3\"] = \"data format of field: 2-byte INTEGER\"\n",
    "        matrix_bintablehdu.header.comments[\"TTYPE4\"] = \"label for field   4\"\n",
    "        matrix_bintablehdu.header.comments[\"TFORM4\"] = \"data format of field: variable length array\"\n",
    "        matrix_bintablehdu.header.comments[\"TTYPE5\"] = \"label for field   5\"\n",
    "        matrix_bintablehdu.header.comments[\"TFORM5\"] = \"data format of field: variable length array\"\n",
    "        matrix_bintablehdu.header.comments[\"TTYPE6\"] = \"label for field   6\"\n",
    "        matrix_bintablehdu.header.comments[\"TFORM6\"] = \"data format of field: variable length array\"\n",
    "\n",
    "        matrix_bintablehdu.header[\"EXTNAME\"] = (\"MATRIX\",\"name of this binary table extension\")\n",
    "        matrix_bintablehdu.header[\"TELESCOP\"] = (\"COSI\",\"mission/satellite name\")\n",
    "        matrix_bintablehdu.header[\"INSTRUME\"] = (\"COSI\",\"instrument/detector name\")\n",
    "        matrix_bintablehdu.header[\"FILTER\"] = (\"NONE\",\"filter in use\")\n",
    "        matrix_bintablehdu.header[\"CHANTYPE\"] = (\"PI\",\"total number of detector channels\")\n",
    "        matrix_bintablehdu.header[\"DETCHANS\"] = (len(self.Em_lo),\"total number of detector channels\")\n",
    "        matrix_bintablehdu.header[\"HDUCLASS\"] = (\"OGIP\",\"format conforms to OGIP standard\")\n",
    "        matrix_bintablehdu.header[\"HDUCLAS1\"] = (\"RESPONSE\",\"dataset relates to spectral response\")\n",
    "        matrix_bintablehdu.header[\"HDUCLAS2\"] = (\"RSP_MATRIX\",\"dataset is a spectral response matrix\")\n",
    "        matrix_bintablehdu.header[\"HDUVERS\"] = (\"1.3.0\",\"version of format\")\n",
    "        matrix_bintablehdu.header[\"TLMIN4\"] = (0,\"minimum value legally allowed in column 4\")\n",
    "        \n",
    "        ## Create binary table HDU for EBOUNDS\n",
    "        channels = np.int16(np.arange(len(self.Em_lo)))\n",
    "        e_min = np.float32(self.Em_lo)\n",
    "        e_max = np.float32(self.Em_hi)\n",
    "\n",
    "        col1_channels = fits.Column(name=\"CHANNEL\", format=\"I\", array=channels)\n",
    "        col2_e_min = fits.Column(name=\"E_MIN\", format=\"E\",unit=\"keV\", array=e_min)\n",
    "        col3_e_max = fits.Column(name=\"E_MAX\", format=\"E\",unit=\"keV\", array=e_max)\n",
    "        cols = fits.ColDefs([col1_channels, col2_e_min, col3_e_max])\n",
    "        ebounds_bintablehdu = fits.BinTableHDU.from_columns(cols)\n",
    "\n",
    "        ebounds_bintablehdu.header.comments[\"TTYPE1\"] = \"label for field   1\"\n",
    "        ebounds_bintablehdu.header.comments[\"TFORM1\"] = \"data format of field: 2-byte INTEGER\"\n",
    "        ebounds_bintablehdu.header.comments[\"TTYPE2\"] = \"label for field   2\"\n",
    "        ebounds_bintablehdu.header.comments[\"TFORM2\"] = \"data format of field: 4-byte REAL\"\n",
    "        ebounds_bintablehdu.header.comments[\"TUNIT2\"] = \"physical unit of field\"\n",
    "        ebounds_bintablehdu.header.comments[\"TTYPE3\"] = \"label for field   3\"\n",
    "        ebounds_bintablehdu.header.comments[\"TFORM3\"] = \"data format of field: 4-byte REAL\"\n",
    "        ebounds_bintablehdu.header.comments[\"TUNIT3\"] = \"physical unit of field\"\n",
    "\n",
    "        ebounds_bintablehdu.header[\"EXTNAME\"] = (\"EBOUNDS\",\"name of this binary table extension\")\n",
    "        ebounds_bintablehdu.header[\"TELESCOP\"] = (\"COSI\",\"mission/satellite\")\n",
    "        ebounds_bintablehdu.header[\"INSTRUME\"] = (\"COSI\",\"nstrument/detector name\")\n",
    "        ebounds_bintablehdu.header[\"FILTER\"] = (\"NONE\",\"filter in use\")\n",
    "        ebounds_bintablehdu.header[\"CHANTYPE\"] = (\"PI\",\"channel type (PHA or PI)\")\n",
    "        ebounds_bintablehdu.header[\"DETCHANS\"] = (len(self.Em_lo),\"total number of detector channels\")\n",
    "        ebounds_bintablehdu.header[\"HDUCLASS\"] = (\"OGIP\",\"format conforms to OGIP standard\")\n",
    "        ebounds_bintablehdu.header[\"HDUCLAS1\"] = (\"RESPONSE\",\"dataset relates to spectral response\")\n",
    "        ebounds_bintablehdu.header[\"HDUCLAS2\"] = (\"EBOUNDS\",\"dataset is a spectral response matrix\")\n",
    "        ebounds_bintablehdu.header[\"HDUVERS\"] = (\"1.2.0\",\"version of format\")\n",
    "        \n",
    "        new_rmfhdus = fits.HDUList([primaryhdu, matrix_bintablehdu,ebounds_bintablehdu])\n",
    "        new_rmfhdus.writeto(f'{self.out_name}.rmf', overwrite=True)\n",
    "        \n",
    "        return\n",
    "    \n",
    "    def get_pha(self, src_counts, errors, rmf_file = None, arf_file = None, bkg_file = \"None\", exposure_time = None, dts = None, telescope=\"COSI\", instrument=\"COSI\"):\n",
    "        \n",
    "        \"\"\"\n",
    "        Generate the pha file that can be read by XSPEC. This file stores the counts info of the source\n",
    "        \n",
    "        Parameters\n",
    "        ----------\n",
    "        src_counts : np.array; the counts in each energy band. If you have src_counts with unit counts/kev/s, you must\n",
    "                     convert it to counts by multiplying it with exposure time and the energy band width\n",
    "        errors : np.array; the error for counts. It has the same unit requirement as src_counts\n",
    "        rmf_file : str; the rmf file name\n",
    "        arf_file : str; the arf file name\n",
    "        bkg_file : str; the background file name. If the src_counts is source counts only, you don't need to edit this parameter\n",
    "        exposure_time : number; the exposure time for this source observation\n",
    "        dts : numpy array or str; it's used to calculate the exposure time. It has the same effect as exposure_time. If both \n",
    "              exposure_time and dts are given, dts will write over the exposure_time\n",
    "        telescope : str; the name of the telecope. Default is COSI.\n",
    "        instrument : str; the name of the instrument. Default is COSI.\n",
    "        \n",
    "        Returns\n",
    "        -------\n",
    "        None\n",
    "        \"\"\"\n",
    "        \n",
    "        self.src_counts = src_counts\n",
    "        self.errors = errors\n",
    "        self.bkg_file = bkg_file\n",
    "        \n",
    "        if rmf_file != None:\n",
    "            self.rmf_file = rmf_file\n",
    "        else:\n",
    "            self.rmf_file = f'{self.out_name}.rmf'\n",
    "            \n",
    "        if arf_file != None:\n",
    "            self.arf_file = arf_file\n",
    "        else:\n",
    "            self.arf_file = f'{self.out_name}.arf'\n",
    "\n",
    "        if exposure_time != None:\n",
    "            self.exposure_time = exposure_time\n",
    "        if dts != None:\n",
    "            self.dts = self.__str_or_array(dts)\n",
    "            self.exposure_time = self.dts.sum()\n",
    "        self.telescope = telescope\n",
    "        self.instrument = instrument\n",
    "        self.channel_number = len(self.src_counts)\n",
    "        \n",
    "        # define other hardcoded inputs\n",
    "        copyright_string=\"  FITS (Flexible Image Transport System) format is defined in 'Astronomy and Astrophysics', volume 376, page 359; bibcode: 2001A&A...376..359H \"\n",
    "        channels = np.arange(self.channel_number)\n",
    "        \n",
    "        # Create PrimaryHDU\n",
    "        primaryhdu = fits.PrimaryHDU() # create an empty primary HDU\n",
    "        primaryhdu.header[\"BITPIX\"] = -32 # since it's an empty HDU, I can just change the data type by resetting the BIPTIX value\n",
    "        primaryhdu.header[\"COMMENT\"] = copyright_string # add comments\n",
    "        primaryhdu.header[\"TELESCOP\"] = telescope # add telescope keyword valie\n",
    "        primaryhdu.header[\"INSTRUME\"] = instrument # add instrument keyword valie\n",
    "        primaryhdu.header # print headers and their values\n",
    "        \n",
    "        # Create binary table HDU\n",
    "        a1 = np.array(channels,dtype=\"int32\") # I guess I need to convert the dtype to match the format J\n",
    "        a2 = np.array(self.src_counts,dtype=\"int64\")  # int32 is not enough for counts\n",
    "        a3 = np.array(self.errors,dtype=\"int64\") # int32 is not enough for errors\n",
    "        col1 = fits.Column(name=\"CHANNEL\", format=\"J\", array=a1)\n",
    "        col2 = fits.Column(name=\"COUNTS\", format=\"K\", array=a2,unit=\"count\")\n",
    "        col3 = fits.Column(name=\"STAT_ERR\", format=\"K\", array=a3,unit=\"count\")\n",
    "        cols = fits.ColDefs([col1, col2, col3]) # create a ColDefs (column-definitions) object for all columns\n",
    "        bintablehdu = fits.BinTableHDU.from_columns(cols) # create a binary table HDU object\n",
    "\n",
    "        #add other BinTableHDU hear keywords,their values, and comments\n",
    "        bintablehdu.header.comments[\"TTYPE1\"] = \"label for field 1\"\n",
    "        bintablehdu.header.comments[\"TFORM1\"] = \"data format of field: 32-bit integer\"\n",
    "        bintablehdu.header.comments[\"TTYPE2\"] = \"label for field 2\"\n",
    "        bintablehdu.header.comments[\"TFORM2\"] = \"data format of field: 32-bit integer\"\n",
    "        bintablehdu.header.comments[\"TUNIT2\"] = \"physical unit of field 2\"\n",
    "\n",
    "\n",
    "        bintablehdu.header[\"EXTNAME\"] = (\"SPECTRUM\",\"name of this binary table extension\")\n",
    "        bintablehdu.header[\"TELESCOP\"] = (self.telescope,\"telescope/mission name\")\n",
    "        bintablehdu.header[\"INSTRUME\"] = (self.instrument,\"instrument/detector name\")\n",
    "        bintablehdu.header[\"FILTER\"] = (\"NONE\",\"filter type if any\")\n",
    "        bintablehdu.header[\"EXPOSURE\"] = (self.exposure_time,\"integration time in seconds\")\n",
    "        bintablehdu.header[\"BACKFILE\"] = (self.bkg_file,\"background filename\")\n",
    "        bintablehdu.header[\"BACKSCAL\"] = (1,\"background scaling factor\")\n",
    "        bintablehdu.header[\"CORRFILE\"] = (\"NONE\",\"associated correction filename\")\n",
    "        bintablehdu.header[\"CORRSCAL\"] = (1,\"correction file scaling factor\")\n",
    "        bintablehdu.header[\"CORRSCAL\"] = (1,\"correction file scaling factor\")\n",
    "        bintablehdu.header[\"RESPFILE\"] = (self.rmf_file,\"associated rmf filename\")\n",
    "        bintablehdu.header[\"ANCRFILE\"] = (self.arf_file,\"associated arf filename\")\n",
    "        bintablehdu.header[\"AREASCAL\"] = (1,\"area scaling factor\")\n",
    "        bintablehdu.header[\"STAT_ERR\"] = (0,\"statistical error specified if any\")\n",
    "        bintablehdu.header[\"SYS_ERR\"] = (0,\"systematic error specified if any\")\n",
    "        bintablehdu.header[\"GROUPING\"] = (0,\"grouping of the data has been defined if any\")\n",
    "        bintablehdu.header[\"QUALITY\"] = (0,\"data quality information specified\")\n",
    "        bintablehdu.header[\"HDUCLASS\"] = (\"OGIP\",\"format conforms to OGIP standard\")\n",
    "        bintablehdu.header[\"HDUCLAS1\"] = (\"SPECTRUM\",\"PHA dataset\")\n",
    "        bintablehdu.header[\"HDUVERS\"] = (\"1.2.1\",\"version of format\")\n",
    "        bintablehdu.header[\"POISSERR\"] = (False,\"Poissonian errors to be assumed, T as True\")\n",
    "        bintablehdu.header[\"CHANTYPE\"] = (\"PI\",\"channel type (PHA or PI)\")\n",
    "        bintablehdu.header[\"DETCHANS\"] = (self.channel_number,\"total number of detector channels\")\n",
    "        \n",
    "        new_phahdus = fits.HDUList([primaryhdu, bintablehdu])\n",
    "        new_phahdus.writeto(f'{self.out_name}.pha', overwrite=True)\n",
    "        \n",
    "        return\n",
    "    \n",
    "\n",
    "    def plot_arf(self, file_name = None, save_name = None, dpi = 300):\n",
    "        \n",
    "        \"\"\"\n",
    "        Read the arf fits file, plot and save it.\n",
    "        \n",
    "        Parameters\n",
    "        ----------\n",
    "        file_name: str; the directory if the arf fits file. \n",
    "        save_name: str; the name of the saved image of effective area\n",
    "        dpi: int; the dpi of the saved image\n",
    "        \n",
    "        Returns\n",
    "        -------\n",
    "        None\n",
    "        \"\"\"\n",
    "        \n",
    "        if file_name != None:\n",
    "            self.file_name = file_name\n",
    "        else:\n",
    "            self.file_name = f'{self.out_name}.arf'\n",
    "            \n",
    "        if save_name != None:\n",
    "            self.save_name = save_name\n",
    "        else:\n",
    "            self.save_name = self.out_name\n",
    "            \n",
    "        self.dpi = dpi\n",
    "            \n",
    "        self.arf = fits.open(self.file_name) # read file\n",
    "        \n",
    "        # SPECRESP HDU\n",
    "        self.specresp_hdu = self.arf[\"SPECRESP\"]\n",
    "        \n",
    "        self.areas = np.array(self.specresp_hdu.data[\"SPECRESP\"])\n",
    "        self.Em_lo = np.array(self.specresp_hdu.data[\"ENERG_LO\"])\n",
    "        self.Em_hi = np.array(self.specresp_hdu.data[\"ENERG_HI\"])\n",
    "        \n",
    "        E_center = (self.Em_lo+self.Em_hi)/2\n",
    "        E_edges = np.append(self.Em_lo,self.Em_hi[-1])\n",
    "        \n",
    "        fig, ax = plt.subplots()\n",
    "        ax.hist(E_center,E_edges,weights=self.areas,histtype='step')\n",
    "        \n",
    "        ax.set_title(\"Effective area\")\n",
    "        ax.set_xlabel(\"Energy[$keV$]\")\n",
    "        ax.set_ylabel(r\"Effective area [$cm^2$]\")\n",
    "        ax.set_xscale(\"log\")\n",
    "        fig.savefig(f\"Effective area for {self.save_name}.png\", bbox_inches = \"tight\", pad_inches=0.1, dpi=self.dpi)\n",
    "        #fig.show()\n",
    "        \n",
    "        return\n",
    "        \n",
    "    \n",
    "    def plot_rmf(self, file_name = None, save_name = None, dpi = 300):\n",
    "        \n",
    "        \"\"\"\n",
    "        Read the rmf fits file, plot and save it.\n",
    "        \n",
    "        Parameters\n",
    "        ----------\n",
    "        file_name: str; the directory if the rmf fits file. \n",
    "        save_name: str; the name of the saved image of effective area\n",
    "        dpi: int; the dpi of the saved image\n",
    "        \n",
    "        Returns\n",
    "        -------\n",
    "        None\n",
    "        \"\"\"\n",
    "        \n",
    "        if file_name != None:\n",
    "            self.file_name = file_name\n",
    "        else:\n",
    "            self.file_name = f'{self.out_name}.rmf'\n",
    "            \n",
    "        if save_name != None:\n",
    "            self.save_name = save_name\n",
    "        else:\n",
    "            self.save_name = self.out_name\n",
    "            \n",
    "        self.dpi = dpi\n",
    "        \n",
    "        # Read rmf file\n",
    "        self.rmf = fits.open(self.file_name) # read file\n",
    "        \n",
    "        # Read the ENOUNDS information\n",
    "        ebounds_ext = self.rmf[\"EBOUNDS\"]\n",
    "        channel_low = ebounds_ext.data[\"E_MIN\"] # energy bin lower edges for channels (channels are just incident energy bins)\n",
    "        channel_high = ebounds_ext.data[\"E_MAX\"] # energy bin higher edges for channels (channels are just incident energy bins)\n",
    "        \n",
    "        # Read the MATRIX extension\n",
    "        matrix_ext = self.rmf['MATRIX']\n",
    "        #print(repr(matrix_hdu.header[:60]))\n",
    "        energy_low = matrix_ext.data[\"ENERG_LO\"] # energy bin lower edges for measured energies\n",
    "        energy_high = matrix_ext.data[\"ENERG_HI\"] # energy bin higher edges for measured energies\n",
    "        data = matrix_ext.data\n",
    "        \n",
    "        # Create a 2-d numpy array and store probability data into the redistribution matrix\n",
    "        rmf_matrix = np.zeros((len(energy_low),len(channel_low))) # create an empty matrix\n",
    "        for i in np.arange(data.shape[0]): # i is the measured energy index, examine the matrix_ext.data rows by rows\n",
    "            if data[i][5].sum() == 0: # if the sum of probabilities is zero, then skip since there is no data at all\n",
    "                pass\n",
    "            else:\n",
    "                #measured_energy_index = np.argwhere(energy_low == data[157][0])[0][0]\n",
    "                f_chan = data[i][3] # get the starting channel of each subsets\n",
    "                n_chann = data[i][4] # get the number of channels in each subsets\n",
    "                matrix = data[i][5] # get the probabilities of this row (incident energy)\n",
    "                indices = []\n",
    "                for k in f_chan:\n",
    "                    channels = 0\n",
    "                    channels = np.arange(k,k + n_chann[np.argwhere(f_chan == k)]).tolist() # generate the cha\n",
    "                    indices += channels # fappend the channels togeter\n",
    "                indices = np.array(indices)\n",
    "                for m in indices:\n",
    "                    rmf_matrix[i][m] = matrix[np.argwhere(indices == m)[0][0]] # write the probabilities into the empty matrix\n",
    "                    \n",
    "                    \n",
    "        # plot the redistribution matrix\n",
    "        xcenter = np.divide(energy_low+energy_high,2)\n",
    "        x_center_coords = np.repeat(xcenter, 10)\n",
    "        y_center_coords = np.tile(xcenter, 10)\n",
    "        energy_all_edges = np.append(energy_low,energy_high[-1])\n",
    "        #bin_edges = np.array([incident_energy_bins,incident_energy_bins]) # doesn't work\n",
    "        bin_edges = np.vstack((energy_all_edges, energy_all_edges))\n",
    "        #print(bin_edges)\n",
    "\n",
    "        self.probability = []\n",
    "        for i in np.arange(10):\n",
    "            for j in np.arange(10):\n",
    "                self.probability.append(rmf_matrix[i][j])\n",
    "        #print(type(probability))\n",
    "\n",
    "        plt.hist2d(x=x_center_coords,y=y_center_coords,weights=self.probability,bins=bin_edges, norm=LogNorm())\n",
    "        plt.xscale('log')\n",
    "        plt.yscale('log')\n",
    "        plt.xlabel(\"Incident energy [$keV$]\")\n",
    "        plt.ylabel(\"Measured energy [$keV$]\")\n",
    "        plt.title(\"Redistribution matrix\")\n",
    "        #plt.xlim([70,10000])\n",
    "        #plt.ylim([70,10000])\n",
    "        plt.colorbar(norm=LogNorm())\n",
    "        plt.savefig(f\"Redistribution matrix for {self.save_name}.png\", bbox_inches = \"tight\", pad_inches=0.1, dpi=300)\n",
    "        #plt.show()\n",
    "        \n",
    "        return\n",
    "\n",
    "        \n",
    "\n",
    "        \n",
    "            \n",
    "    "
   ]
  },
  {
   "cell_type": "code",
   "execution_count": 10,
   "id": "4ec12bc7-835d-484b-b13a-6d73321e3f1a",
   "metadata": {},
   "outputs": [
    {
     "name": "stdout",
     "output_type": "stream",
     "text": [
      "Y\n"
     ]
    }
   ],
   "source": [
    "if not isinstance(np.array([1,2,3]), np.ndarray) or not isinstance([1,2,3],str):\n",
    "    print(\"Y\")"
   ]
  },
  {
   "cell_type": "code",
   "execution_count": null,
   "id": "2744c625-befb-4e43-b6a2-d4d318600f6c",
   "metadata": {},
   "outputs": [],
   "source": []
  }
 ],
 "metadata": {
  "kernelspec": {
   "display_name": "Python 3 (ipykernel)",
   "language": "python",
   "name": "python3"
  },
  "language_info": {
   "codemirror_mode": {
    "name": "ipython",
    "version": 3
   },
   "file_extension": ".py",
   "mimetype": "text/x-python",
   "name": "python",
   "nbconvert_exporter": "python",
   "pygments_lexer": "ipython3",
   "version": "3.10.6"
  }
 },
 "nbformat": 4,
 "nbformat_minor": 5
}
