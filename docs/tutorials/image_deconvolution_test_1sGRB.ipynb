{
 "cells": [
  {
   "cell_type": "markdown",
   "metadata": {},
   "source": [
    "# Image Deconvolution\n",
    "- ver.0.0.1\n",
    "- 2023 Apr 21\n",
    "- H. Yoneda\n",
    "- using 1s GRB simulation data from source_injector.ipynb"
   ]
  },
  {
   "cell_type": "code",
   "execution_count": null,
   "metadata": {},
   "outputs": [],
   "source": [
    "import astropy.units as u\n",
    "import matplotlib.pyplot as plt\n",
    "import numpy as np\n",
    "\n",
    "from mhealpy import HealpixMap\n",
    "from cosipy.image_deconvolution import dataIO\n",
    "from cosipy.image_deconvolution import ImageDeconvolution"
   ]
  },
  {
   "cell_type": "code",
   "execution_count": null,
   "metadata": {},
   "outputs": [],
   "source": [
    "from cosipy import test_data"
   ]
  },
  {
   "cell_type": "code",
   "execution_count": null,
   "metadata": {},
   "outputs": [],
   "source": [
    "event_filepath = test_data.path / \"data_pl.h5\"\n",
    "bkg_filepath = test_data.path / \"bkg_pl.h5\"\n",
    "response_filepath = test_data.path / \"FlatContinuumIsotropic.LowRes.binnedimaging.imagingresponse.area.nside8.cosipy.h5\"\n",
    "\n",
    "\n",
    "duration = 1 * u.s"
   ]
  },
  {
   "cell_type": "markdown",
   "metadata": {},
   "source": [
    "## load files\n",
    "\n",
    "- Need the dataIO library for the event and background files"
   ]
  },
  {
   "cell_type": "code",
   "execution_count": null,
   "metadata": {},
   "outputs": [],
   "source": [
    "dataloader = dataIO(event_filepath = event_filepath, \n",
    "                    bkg_filepath = bkg_filepath, \n",
    "                    response_filepath = response_filepath, \n",
    "                    duration = duration)"
   ]
  },
  {
   "cell_type": "code",
   "execution_count": null,
   "metadata": {
    "scrolled": true
   },
   "outputs": [],
   "source": [
    "dataloader.response.axes[\"Ei\"].edges"
   ]
  },
  {
   "cell_type": "code",
   "execution_count": null,
   "metadata": {},
   "outputs": [],
   "source": [
    "dataloader.response.axes.labels"
   ]
  },
  {
   "cell_type": "code",
   "execution_count": null,
   "metadata": {},
   "outputs": [],
   "source": [
    "dataloader.response.axes['Phi'].widths"
   ]
  },
  {
   "cell_type": "code",
   "execution_count": null,
   "metadata": {},
   "outputs": [],
   "source": []
  },
  {
   "cell_type": "markdown",
   "metadata": {},
   "source": [
    "## load data"
   ]
  },
  {
   "cell_type": "code",
   "execution_count": null,
   "metadata": {},
   "outputs": [],
   "source": [
    "image_deconvolution = ImageDeconvolution()"
   ]
  },
  {
   "cell_type": "code",
   "execution_count": null,
   "metadata": {},
   "outputs": [],
   "source": [
    "image_deconvolution.set_data(dataloader)"
   ]
  },
  {
   "cell_type": "markdown",
   "metadata": {},
   "source": [
    "## load parameterfile"
   ]
  },
  {
   "cell_type": "code",
   "execution_count": null,
   "metadata": {},
   "outputs": [],
   "source": [
    "parameter_filepath = test_data.path / \"imagedeconvolution_parfile_itr10.yml\"\n",
    "\n",
    "image_deconvolution.read_parameterfile(parameter_filepath)"
   ]
  },
  {
   "cell_type": "code",
   "execution_count": null,
   "metadata": {},
   "outputs": [],
   "source": []
  },
  {
   "cell_type": "markdown",
   "metadata": {},
   "source": [
    "## sparse matrix?"
   ]
  },
  {
   "cell_type": "code",
   "execution_count": null,
   "metadata": {},
   "outputs": [],
   "source": [
    "image_deconvolution.use_sparse = False"
   ]
  },
  {
   "cell_type": "markdown",
   "metadata": {},
   "source": [
    "## initialization\n",
    "- produce an initial flux map etc."
   ]
  },
  {
   "cell_type": "code",
   "execution_count": null,
   "metadata": {},
   "outputs": [],
   "source": [
    "image_deconvolution.initialize()"
   ]
  },
  {
   "cell_type": "markdown",
   "metadata": {},
   "source": [
    "## run deconvolution"
   ]
  },
  {
   "cell_type": "code",
   "execution_count": null,
   "metadata": {
    "scrolled": false
   },
   "outputs": [],
   "source": [
    "%%time\n",
    "\n",
    "all_result = image_deconvolution.run_deconvolution()"
   ]
  },
  {
   "cell_type": "markdown",
   "metadata": {},
   "source": [
    "## analyze the result\n"
   ]
  },
  {
   "cell_type": "code",
   "execution_count": null,
   "metadata": {},
   "outputs": [],
   "source": [
    "print(all_result)"
   ]
  },
  {
   "cell_type": "markdown",
   "metadata": {},
   "source": [
    "### likelihood"
   ]
  },
  {
   "cell_type": "code",
   "execution_count": null,
   "metadata": {},
   "outputs": [],
   "source": [
    "x, y = [], []\n",
    "\n",
    "for _ in all_result:\n",
    "    x.append(_['iteration'])\n",
    "    y.append(_['loglikelihood'])\n",
    "    \n",
    "plt.plot(x, y)\n",
    "plt.xlabel(\"iteration\")\n",
    "plt.ylabel(\"loglikelihood\")"
   ]
  },
  {
   "cell_type": "markdown",
   "metadata": {},
   "source": [
    "### alpha"
   ]
  },
  {
   "cell_type": "code",
   "execution_count": null,
   "metadata": {},
   "outputs": [],
   "source": [
    "x, y = [], []\n",
    "\n",
    "for _ in all_result:\n",
    "    x.append(_['iteration'])\n",
    "    y.append(_['alpha'])\n",
    "    \n",
    "plt.plot(x, y)\n",
    "plt.xlabel(\"iteration\")\n",
    "plt.ylabel(\"alpha\")"
   ]
  },
  {
   "cell_type": "markdown",
   "metadata": {},
   "source": [
    "### image"
   ]
  },
  {
   "cell_type": "code",
   "execution_count": null,
   "metadata": {
    "scrolled": true
   },
   "outputs": [],
   "source": [
    "for _ in all_result:\n",
    "    iteration = _['iteration']\n",
    "    image = _['model_map']\n",
    "        \n",
    "    for energy_band in range(5):\n",
    "        map_healpxmap = HealpixMap(data = image[:,energy_band], unit = image.unit)\n",
    "\n",
    "        map_healpxmap.plot()\n",
    "        plt.title(label = \"iteration = {}, energyband = {}\".format(iteration, energy_band))\n",
    "        plt.show()"
   ]
  },
  {
   "cell_type": "markdown",
   "metadata": {},
   "source": [
    "### delta_image"
   ]
  },
  {
   "cell_type": "code",
   "execution_count": null,
   "metadata": {
    "scrolled": true
   },
   "outputs": [],
   "source": [
    "for _ in all_result:\n",
    "    iteration = _['iteration']\n",
    "    image = _['delta_map']\n",
    "        \n",
    "    for energy_band in range(5):\n",
    "        map_healpxmap = HealpixMap(data = image[:,energy_band], unit = image.unit)\n",
    "\n",
    "        map_healpxmap.plot()\n",
    "        plt.title(label = \"iteration = {}, energyband = {}\".format(iteration, energy_band))\n",
    "        plt.show()"
   ]
  },
  {
   "cell_type": "markdown",
   "metadata": {},
   "source": [
    "### flux"
   ]
  },
  {
   "cell_type": "code",
   "execution_count": null,
   "metadata": {},
   "outputs": [],
   "source": [
    "iteration = []\n",
    "integrated_flux = []\n",
    "integrated_flux_each_band = [[],[],[],[],[]]\n",
    "\n",
    "for _ in all_result:\n",
    "    iteration.append(_['iteration'])\n",
    "    image = _['model_map']\n",
    "\n",
    "    integrated_flux.append( np.sum(image) / image.unit)\n",
    "\n",
    "    for energy_band in range(5):\n",
    "        integrated_flux_each_band[energy_band].append( np.sum(image[:,energy_band]) / image.unit)\n",
    "        \n",
    "plt.plot(iteration, integrated_flux, label = 'total')\n",
    "plt.xlabel(\"iteration\")\n",
    "plt.ylabel(\"integrated flux\")\n",
    "plt.yscale(\"log\")\n",
    "\n",
    "for energy_band in range(5):\n",
    "    plt.plot(iteration, integrated_flux_each_band[energy_band], label = \"energyband = {}\".format(energy_band))\n",
    "    \n",
    "plt.legend()"
   ]
  },
  {
   "cell_type": "markdown",
   "metadata": {},
   "source": [
    "### flux delta"
   ]
  },
  {
   "cell_type": "code",
   "execution_count": null,
   "metadata": {},
   "outputs": [],
   "source": [
    "iteration = []\n",
    "delta_integrated_flux = []\n",
    "delta_integrated_flux_each_band = [[],[],[],[],[]]\n",
    "\n",
    "for _ in all_result:\n",
    "    iteration.append(_['iteration'])\n",
    "    delta_image = _['delta_map']\n",
    "\n",
    "    delta_integrated_flux.append( np.sum(delta_image) / delta_image.unit)\n",
    "\n",
    "    for energy_band in range(5):\n",
    "        delta_integrated_flux_each_band[energy_band].append( np.sum(delta_image[:,energy_band]) / delta_image.unit)\n",
    "        \n",
    "plt.plot(iteration, delta_integrated_flux, label = 'total')\n",
    "plt.xlabel(\"iteration\")\n",
    "plt.ylabel(\"delta integrated flux\")\n",
    "plt.ylim(-0.08, 0.08)\n",
    "\n",
    "for energy_band in range(5):\n",
    "    plt.plot(iteration, delta_integrated_flux_each_band[energy_band], label = \"energyband = {}\".format(energy_band))\n",
    "    \n",
    "plt.legend()"
   ]
  },
  {
   "cell_type": "markdown",
   "metadata": {},
   "source": [
    "## comparision with the truth value"
   ]
  },
  {
   "cell_type": "code",
   "execution_count": null,
   "metadata": {},
   "outputs": [],
   "source": [
    "from gammapy.modeling.models import PowerLawSpectralModel\n",
    "\n",
    "spectrum = PowerLawSpectralModel(index = 1.7,\n",
    "                                 amplitude = 1e-1 / u.cm / u.cm / u.s / u.keV,\n",
    "                                 reference = 1 * u.keV)\n",
    "\n",
    "integrated_flux_truth = spectrum.integral(100 * u.keV, 5000.0 * u.keV)\n",
    "pixel_area = 4 * 3.1415 * u.sr / all_result[0]['model_map'].axes['NuLambda'].npix\n",
    "\n",
    "print(\"truth:\", integrated_flux_truth)\n",
    "\n",
    "print(\"deconvolution:\", integrated_flux[-1] * pixel_area * u.cm**-2 * u.s**-1 * u.sr**-1)"
   ]
  },
  {
   "cell_type": "code",
   "execution_count": null,
   "metadata": {},
   "outputs": [],
   "source": [
    "integrated_flux_each_band_truth = []\n",
    "\n",
    "for energy_band in range(5):\n",
    "    emin, emax = dataloader.response.axes[\"Ei\"].bounds[energy_band]\n",
    "\n",
    "    integrated_flux_each_band_truth.append(spectrum.integral(emin, emax))\n",
    "    pixel_area = 4 * 3.1415 * u.sr / all_result[0]['model_map'].axes['NuLambda'].npix\n",
    "    \n",
    "    print(emin, emax)\n",
    "    print(\"    truth:\", integrated_flux_each_band_truth[energy_band])\n",
    "    print(\"    deconvolution:\", integrated_flux_each_band[energy_band][-1] * pixel_area * u.cm**-2 * u.s**-1 * u.sr**-1)"
   ]
  },
  {
   "cell_type": "code",
   "execution_count": null,
   "metadata": {},
   "outputs": [],
   "source": [
    "iteration = []\n",
    "integrated_flux = []\n",
    "integrated_flux_each_band = [[],[],[],[],[]]\n",
    "\n",
    "for _ in all_result:\n",
    "    iteration.append(_['iteration'])\n",
    "    image = _['model_map']\n",
    "\n",
    "    integrated_flux.append( np.sum(image) / image.unit)\n",
    "\n",
    "    for energy_band in range(5):\n",
    "        integrated_flux_each_band[energy_band].append( np.sum(image[:,energy_band]) / image.unit)\n",
    "        \n",
    "plt.plot(iteration, integrated_flux * pixel_area, label = 'total', color = 'black')\n",
    "plt.plot(iteration, np.full(len(iteration), integrated_flux_truth), color = 'black', linestyle = \"--\")\n",
    "plt.xlabel(\"iteration\")\n",
    "plt.ylabel(\"integrated flux\")\n",
    "plt.yscale(\"log\")\n",
    "\n",
    "\n",
    "colors = ['b', 'g', 'r', 'c', 'm']\n",
    "for energy_band in range(5):\n",
    "    plt.plot(iteration, integrated_flux_each_band[energy_band] * pixel_area, label = \"energyband = {}\".format(energy_band), color = colors[energy_band])\n",
    "    plt.plot(iteration, np.full(len(iteration), integrated_flux_each_band_truth[energy_band]), color = colors[energy_band], linestyle = \"--\")\n",
    "    \n",
    "plt.legend()"
   ]
  },
  {
   "cell_type": "code",
   "execution_count": null,
   "metadata": {},
   "outputs": [],
   "source": []
  }
 ],
 "metadata": {
  "kernelspec": {
   "display_name": "cosipy",
   "language": "python",
   "name": "cosipy"
  },
  "language_info": {
   "codemirror_mode": {
    "name": "ipython",
    "version": 3
   },
   "file_extension": ".py",
   "mimetype": "text/x-python",
   "name": "python",
   "nbconvert_exporter": "python",
   "pygments_lexer": "ipython3",
   "version": "3.8.13"
  }
 },
 "nbformat": 4,
 "nbformat_minor": 5
}
