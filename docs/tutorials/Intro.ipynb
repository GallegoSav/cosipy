{
 "cells": [
  {
   "cell_type": "markdown",
   "id": "2ea99ac1",
   "metadata": {},
   "source": [
    "# Quick start"
   ]
  },
  {
   "cell_type": "markdown",
   "id": "377a3f46",
   "metadata": {},
   "source": [
    "Work in progress"
   ]
  },
  {
   "cell_type": "code",
   "execution_count": 3,
   "id": "c4e5754b",
   "metadata": {},
   "outputs": [],
   "source": [
    "from cosipy import SpecResponse\n",
    "\n",
    "rsp = SpecResponse()"
   ]
  },
  {
   "cell_type": "code",
   "execution_count": null,
   "id": "37da30f7",
   "metadata": {},
   "outputs": [],
   "source": []
  }
 ],
 "metadata": {
  "kernelspec": {
   "display_name": "Python 3",
   "language": "python",
   "name": "python3"
  },
  "language_info": {
   "codemirror_mode": {
    "name": "ipython",
    "version": 3
   },
   "file_extension": ".py",
   "mimetype": "text/x-python",
   "name": "python",
   "nbconvert_exporter": "python",
   "pygments_lexer": "ipython3",
   "version": "3.7.12"
  }
 },
 "nbformat": 4,
 "nbformat_minor": 5
}
