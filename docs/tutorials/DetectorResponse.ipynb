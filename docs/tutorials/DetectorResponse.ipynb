{
 "cells": [
  {
   "cell_type": "markdown",
   "id": "a3e92e8e-7c4e-41ae-9fea-040dada717b2",
   "metadata": {},
   "source": [
    "# Full detector response"
   ]
  },
  {
   "cell_type": "markdown",
   "id": "693f2144-561f-4699-9624-1122b9f730e3",
   "metadata": {},
   "source": [
    "The detector response provides us with the the following information:\n",
    "- The effective area at given energy for given direction. This allows us to convert from counts to physical quantities like flux\n",
    "- The expected distribution of measured energy and other reconstructed quantities. This allows us to account for all sorts of detector effects when we do our analysis.\n",
    "\n",
    "This tutorial will show you how to handle detector response and extrat useful information from it:"
   ]
  },
  {
   "cell_type": "markdown",
   "id": "d2a3629d-b7a0-4c2e-bfc5-786b17ed06f8",
   "metadata": {},
   "source": [
    "## Opening a full detector response"
   ]
  },
  {
   "cell_type": "markdown",
   "id": "a571dd15-b4f7-4f3e-9ab1-ac399afb6c3c",
   "metadata": {},
   "source": [
    "The response of the instrument in encoded in a series of matrices cointained in a file. you can open the file like this:"
   ]
  },
  {
   "cell_type": "code",
   "execution_count": 1,
   "id": "b501768d-edbd-4022-a9fd-237615e57836",
   "metadata": {},
   "outputs": [],
   "source": [
    "from cosipy import test_data\n",
    "\n",
    "response_path = test_data.path / \"test_full_detector_response.h5\""
   ]
  },
  {
   "cell_type": "code",
   "execution_count": 2,
   "id": "a7c37c72-a197-4e87-849a-93bf491eac88",
   "metadata": {},
   "outputs": [
    {
     "name": "stdout",
     "output_type": "stream",
     "text": [
      "/Users/israel/work/software/cosipy/cosipy/test_data/test_full_detector_response.h5\n"
     ]
    }
   ],
   "source": [
    "from cosipy.response import FullDetectorResponse\n",
    "\n",
    "response = FullDetectorResponse.open(response_path)\n",
    "\n",
    "print(response.filename)\n",
    "\n",
    "response.close()"
   ]
  },
  {
   "cell_type": "markdown",
   "id": "02ab5663-6255-47f6-938a-be52dbb1ba2e",
   "metadata": {},
   "source": [
    "Or if you don't want to worry about closing the file, use a context manager statement:"
   ]
  },
  {
   "cell_type": "code",
   "execution_count": 3,
   "id": "f5921a20-9560-4bfd-be91-29490aac144a",
   "metadata": {},
   "outputs": [
    {
     "name": "stdout",
     "output_type": "stream",
     "text": [
      "FILENAME: '/Users/israel/work/software/cosipy/cosipy/test_data/test_full_detector_response.h5'\n",
      "NPIX: 12\n",
      "NSIDE: 1\n",
      "SCHEME: 'RING'\n",
      "AXES:\n",
      "  Ei:\n",
      "    DESCRIPTION: 'Initial simulated energy'\n",
      "    TYPE: 'log'\n",
      "    UNIT: 'keV'\n",
      "    NBINS: 10\n",
      "    EDGES: [150.0 keV, 220.0 keV, 325.0 keV, 480.0 keV, 520.0 keV, 765.0 keV, 1120.0 keV, 1650.0 keV, 2350.0 keV, 3450.0 keV, 5000.0 keV]\n",
      "  Em:\n",
      "    DESCRIPTION: 'Measured energy'\n",
      "    TYPE: 'log'\n",
      "    UNIT: 'keV'\n",
      "    NBINS: 10\n",
      "    EDGES: [150.0 keV, 220.0 keV, 325.0 keV, 480.0 keV, 520.0 keV, 765.0 keV, 1120.0 keV, 1650.0 keV, 2350.0 keV, 3450.0 keV, 5000.0 keV]\n",
      "  Phi:\n",
      "    DESCRIPTION: 'Compton angle'\n",
      "    TYPE: 'linear'\n",
      "    UNIT: 'deg'\n",
      "    NBINS: 30\n",
      "    EDGES: [0.0 deg, 6.0 deg, 12.0 deg, 18.0 deg, 24.0 deg, 30.0 deg, 36.0 deg, 42.0 deg, 48.0 deg, 54.0 deg, 60.0 deg, 66.0 deg, 72.0 deg, 78.0 deg, 84.0 deg, 90.0 deg, 96.0 deg, 102.0 deg, 108.0 deg, 114.0 deg, 120.0 deg, 126.0 deg, 132.0 deg, 138.0 deg, 144.0 deg, 150.0 deg, 156.0 deg, 162.0 deg, 168.0 deg, 174.0 deg, 180.0 deg]\n",
      "  PsiChi:\n",
      "    DESCRIPTION: 'Location in the Compton Data Space'\n",
      "    TYPE: 'healpix'\n",
      "    NPIX: 12\n",
      "    NSIDE: 1\n",
      "    SCHEME: 'RING'\n",
      "  SigmaTau:\n",
      "    DESCRIPTION: 'Electron recoil angle'\n",
      "    TYPE: 'healpix'\n",
      "    NPIX: 12\n",
      "    NSIDE: 1\n",
      "    SCHEME: 'RING'\n",
      "  Dist:\n",
      "    DESCRIPTION: 'Distance from first interaction'\n",
      "    TYPE: 'linear'\n",
      "    UNIT: 'cm'\n",
      "    NBINS: 1\n",
      "    EDGES: [0.0 cm, 1000.0 cm]\n",
      "\n"
     ]
    }
   ],
   "source": [
    "with FullDetectorResponse.open(response_path) as response:\n",
    "\n",
    "    print(repr(response))"
   ]
  },
  {
   "cell_type": "markdown",
   "id": "f6750d71-cc53-4aef-b023-835a646a2ff2",
   "metadata": {},
   "source": [
    "Although opening a detector response does not load the matrices, it loads all the header information above. This allows us to pass it around for various analysis at a very low cost."
   ]
  },
  {
   "cell_type": "markdown",
   "id": "b7b4c8fa-4565-4a51-932f-3feecafa42d4",
   "metadata": {},
   "source": [
    "## Detector response matrix"
   ]
  },
  {
   "cell_type": "markdown",
   "id": "c69e16d8-4822-43ec-bc4e-135abe25d6fd",
   "metadata": {},
   "source": [
    "The full --i.e. all-sky-- detector response is encoded in a HEALPix grid. For each pixel there is a multidimensional matrix describing the response of the instrument for that particular direction in the spacefraft coordinates. For this response has the following grid:"
   ]
  },
  {
   "cell_type": "code",
   "execution_count": 4,
   "id": "cad81d6b-7c7b-41d5-9868-da58d25d4a3d",
   "metadata": {},
   "outputs": [
    {
     "name": "stdout",
     "output_type": "stream",
     "text": [
      "NSIDE = 1\n",
      "SCHEME = RING\n",
      "NPIX = 12\n",
      "Pixel size = 58.63 deg\n"
     ]
    }
   ],
   "source": [
    "import numpy as np\n",
    "import astropy.units as u\n",
    "\n",
    "with FullDetectorResponse.open(response_path) as response:\n",
    "    \n",
    "    print(f\"NSIDE = {response.nside}\")\n",
    "    print(f\"SCHEME = {response.scheme}\")\n",
    "    print(f\"NPIX = {response.npix}\")\n",
    "    print(f\"Pixel size = {np.sqrt(response.pixarea()).to(u.deg):.2f}\")"
   ]
  },
  {
   "cell_type": "markdown",
   "id": "5c18a7b2-0190-4027-afe7-2f631fc245e1",
   "metadata": {},
   "source": [
    "To retrieve the detector response matrix for a given pixel simply use the `[]` operator"
   ]
  },
  {
   "cell_type": "code",
   "execution_count": 5,
   "id": "d4972c53-f653-4694-8190-8524362b6ef7",
   "metadata": {},
   "outputs": [
    {
     "name": "stdout",
     "output_type": "stream",
     "text": [
      "Pixel 0 centered at <SkyCoord (SpacecraftFrame: attitude=None, obstime=None, location=None): (lon, lat) in deg\n",
      "    (45., 41.8103149)>\n"
     ]
    }
   ],
   "source": [
    "with FullDetectorResponse.open(response_path) as response:\n",
    "    \n",
    "    print(f\"Pixel 0 centered at {response.pix2skycoord(0)}\")\n",
    "    drm = response[0]"
   ]
  },
  {
   "cell_type": "markdown",
   "id": "9bf2f221-0300-4dd1-8dc7-eb4e0e694997",
   "metadata": {},
   "source": [
    "Or better, get the interpolated matrix for a given direction. In this case, for the on-axis response:"
   ]
  },
  {
   "cell_type": "code",
   "execution_count": 6,
   "id": "5a621225-5619-4d43-9670-b4bd03b1d801",
   "metadata": {},
   "outputs": [],
   "source": [
    "from cosipy.coordinates import SpacecraftFrame\n",
    "from astropy.coordinates import SkyCoord\n",
    "\n",
    "with FullDetectorResponse.open(response_path) as response:\n",
    "    \n",
    "    drm = response.get_interp_response(SkyCoord(lon = 0*u.deg, lat = 0*u.deg, frame = SpacecraftFrame()))"
   ]
  },
  {
   "cell_type": "markdown",
   "id": "05e40223-2d93-4a82-95b3-c30d00499742",
   "metadata": {},
   "source": [
    "The matrix has multiple dimensions, including real photon initial energy, the measured energy, the Compton data space, and possibly other:"
   ]
  },
  {
   "cell_type": "code",
   "execution_count": 7,
   "id": "6680c76c-3483-462e-bb40-5a00b282cdba",
   "metadata": {},
   "outputs": [
    {
     "data": {
      "text/plain": [
       "array(['Ei', 'Em', 'Phi', 'PsiChi', 'SigmaTau', 'Dist'], dtype='<U8')"
      ]
     },
     "execution_count": 7,
     "metadata": {},
     "output_type": "execute_result"
    }
   ],
   "source": [
    "drm.axes.labels"
   ]
  },
  {
   "cell_type": "markdown",
   "id": "27c94056-4f04-42d6-a8da-7446fc1b4fb4",
   "metadata": {},
   "source": [
    "However, one of the most common operation is to get the effective area and the energy dispersion matrix. This is encoded in a reduced detector response, which is the projection of the full matrix into the initial and measured energy axes:"
   ]
  },
  {
   "cell_type": "code",
   "execution_count": 8,
   "id": "f01ec609-f10e-4db1-8d3e-c2f454fde894",
   "metadata": {},
   "outputs": [
    {
     "data": {
      "image/png": "[encoded data removed]",
      "text/plain": [
       "<Figure size 432x288 with 2 Axes>"
      ]
     },
     "metadata": {
      "needs_background": "light"
     },
     "output_type": "display_data"
    }
   ],
   "source": [
    "drm.get_spectral_response().plot();"
   ]
  },
  {
   "cell_type": "markdown",
   "id": "f37ad594-0be7-41f0-b7ec-16e2251a78b8",
   "metadata": {},
   "source": [
    "You can further project it into the initial energy to get the effective area:"
   ]
  },
  {
   "cell_type": "code",
   "execution_count": 9,
   "id": "a20f628e-b891-4dcb-b305-8a94c01f2d4a",
   "metadata": {},
   "outputs": [
    {
     "data": {
      "image/png": "[encoded data removed]",
      "text/plain": [
       "<Figure size 432x288 with 1 Axes>"
      ]
     },
     "metadata": {
      "needs_background": "light"
     },
     "output_type": "display_data"
    }
   ],
   "source": [
    "ax,plot = drm.get_effective_area().plot();\n",
    "\n",
    "ax.set_ylabel(f'Aeff [{drm.unit}]');"
   ]
  },
  {
   "cell_type": "markdown",
   "id": "64edb047-2d80-4011-9fa3-665a1bdd282e",
   "metadata": {},
   "source": [
    "Get the interpolated effective area"
   ]
  },
  {
   "cell_type": "code",
   "execution_count": 10,
   "id": "6ad17044-46a6-4646-b5d2-1cec399228f2",
   "metadata": {},
   "outputs": [
    {
     "data": {
      "text/latex": [
       "$1.1467121 \\; \\mathrm{cm^{2}}$"
      ],
      "text/plain": [
       "<Quantity 1.14671213 cm2>"
      ]
     },
     "execution_count": 10,
     "metadata": {},
     "output_type": "execute_result"
    }
   ],
   "source": [
    "drm.get_effective_area(511*u.keV)"
   ]
  },
  {
   "cell_type": "markdown",
   "id": "983b731f-1dad-434a-8430-544c76b0e862",
   "metadata": {},
   "source": [
    "Or the energy dispersion matrix"
   ]
  },
  {
   "cell_type": "code",
   "execution_count": 11,
   "id": "2003abb9-c2a5-487f-b869-f0e4b46bc053",
   "metadata": {},
   "outputs": [
    {
     "data": {
      "image/png": "[encoded data removed]",
      "text/plain": [
       "<Figure size 432x288 with 2 Axes>"
      ]
     },
     "metadata": {
      "needs_background": "light"
     },
     "output_type": "display_data"
    }
   ],
   "source": [
    "drm.get_dispersion_matrix().plot();"
   ]
  },
  {
   "cell_type": "markdown",
   "id": "aac9aaff-8b5b-4ce6-a84e-5552ea0ac5ad",
   "metadata": {},
   "source": [
    "## Point source response"
   ]
  },
  {
   "cell_type": "markdown",
   "id": "11dea16f-bd87-4e62-80a4-28e9e5ccf9c6",
   "metadata": {},
   "source": [
    "One we have the response, usually the next step if to get the expected excess for a specific source. We first mock the path of a source across the field of view of the instrument. This is encoded in another HEALPix map containing the (weighted) time a source spent on each pixel:"
   ]
  },
  {
   "cell_type": "code",
   "execution_count": 12,
   "id": "8573d4e0-a4ac-446f-87ba-62144c87d182",
   "metadata": {},
   "outputs": [],
   "source": [
    "from mhealpy import HealpixMap\n",
    "\n",
    "t_tot = 12*u.hr\n",
    "t_nsamples = 1000\n",
    "t = np.linspace(0,t_tot,t_nsamples)\n",
    "\n",
    "theta = t*(180*u.deg/u.day)\n",
    "phi = t*(180*u.deg/u.hour)\n",
    "\n",
    "path = SkyCoord(lon = phi, lat = 90*u.deg - theta, frame = SpacecraftFrame())\n",
    "\n",
    "with FullDetectorResponse.open(response_path) as response:\n",
    "    \n",
    "    exposure_map = HealpixMap(base = response, \n",
    "                              unit = u.s, \n",
    "                              coordsys = SpacecraftFrame())\n",
    "\n",
    "    for coord in path:\n",
    "        \n",
    "        # This takes care of the interpolation without having to load the pixel DRM multiple times from file\n",
    "        pixels, weights = exposure_map.get_interp_weights(coord)\n",
    "        \n",
    "        for p,w in zip(pixels, weights):\n",
    "            exposure_map[p] += w*t_tot/t_nsamples\n",
    "    "
   ]
  },
  {
   "cell_type": "markdown",
   "id": "21e74fac-275a-473d-a358-73197f17d7f6",
   "metadata": {},
   "source": [
    "In this tutorial we're using a light but coarse detector response. For a real analysis involving imaging, the pixel size should be appropiate for the angular resolution."
   ]
  },
  {
   "cell_type": "code",
   "execution_count": 13,
   "id": "48790543-01bd-4d6b-9022-f4b35f478a98",
   "metadata": {},
   "outputs": [
    {
     "data": {
      "image/png": "[encoded data removed]",
      "text/plain": [
       "<Figure size 600x600 with 2 Axes>"
      ]
     },
     "metadata": {
      "needs_background": "light"
     },
     "output_type": "display_data"
    }
   ],
   "source": [
    "# We need to specify an attitude because plot() plots the map into celestial coordinates. \n",
    "# Here we asume they are aligned with the spacecraft coordinates\n",
    "from cosipy.coordinates import Attitude\n",
    "\n",
    "exposure_map.plot(coord = SpacecraftFrame(attitude = Attitude.identity()));"
   ]
  },
  {
   "cell_type": "markdown",
   "id": "17277018-0380-4daf-bf41-fe1fac44d0ab",
   "metadata": {},
   "source": [
    "We can now convolve the exposure maps with the full detector response, and get a PointSourceResponse"
   ]
  },
  {
   "cell_type": "code",
   "execution_count": 14,
   "id": "bbbdccbc-e99b-41f2-8c6f-9d1f682c7241",
   "metadata": {},
   "outputs": [],
   "source": [
    "with FullDetectorResponse.open(response_path) as response:\n",
    "    psr = response.get_point_source_response(exposure_map)"
   ]
  },
  {
   "cell_type": "markdown",
   "id": "f3b07ba4-4dde-4811-98fb-9ca041a20828",
   "metadata": {},
   "source": [
    "Note that a PointSourceResponse only depends on the path of the source, not on the spectrum of the source. It has units of area*time"
   ]
  },
  {
   "cell_type": "code",
   "execution_count": 15,
   "id": "a3aec101-6a0e-4fd6-8c07-a788fb805bfc",
   "metadata": {},
   "outputs": [
    {
     "data": {
      "text/latex": [
       "$\\mathrm{cm^{2}\\,s}$"
      ],
      "text/plain": [
       "Unit(\"cm2 s\")"
      ]
     },
     "execution_count": 15,
     "metadata": {},
     "output_type": "execute_result"
    }
   ],
   "source": [
    "psr.unit"
   ]
  },
  {
   "cell_type": "markdown",
   "id": "3b449fdf-4bdf-4b67-a654-7d13911176b7",
   "metadata": {},
   "source": [
    "Finally, we convolve a spectrum to get the spected excess for each _measured_ energy bin:"
   ]
  },
  {
   "cell_type": "code",
   "execution_count": 16,
   "id": "b63a5de6-882f-427b-a595-e12f7a824f92",
   "metadata": {},
   "outputs": [],
   "source": [
    "from gammapy.modeling.models import PowerLawSpectralModel\n",
    "\n",
    "spectrum = PowerLawSpectralModel(index = 2.2,\n",
    "                                 amplitude = 10**-3 / u.cm / u.cm / u.s / u.keV,\n",
    "                                 reference = 100 * u.keV)\n",
    "    \n",
    "expectation = psr.get_expectation(spectrum)"
   ]
  },
  {
   "cell_type": "code",
   "execution_count": 17,
   "id": "bf4f12fc-1631-4856-8738-0f803e6e1a73",
   "metadata": {},
   "outputs": [
    {
     "data": {
      "text/plain": [
       "Text(0, 0.5, 'Expected counts')"
      ]
     },
     "execution_count": 17,
     "metadata": {},
     "output_type": "execute_result"
    },
    {
     "data": {
      "image/png": "[encoded data removed]",
      "text/plain": [
       "<Figure size 432x288 with 1 Axes>"
      ]
     },
     "metadata": {
      "needs_background": "light"
     },
     "output_type": "display_data"
    }
   ],
   "source": [
    "ax, plot = expectation.project('Em').plot()\n",
    "\n",
    "ax.set_ylabel('Expected counts')"
   ]
  },
  {
   "cell_type": "markdown",
   "id": "894e2cba-1671-4608-adbb-fb3a9d996d0c",
   "metadata": {},
   "source": [
    "Try changing the spectrum and se how the expected excess changes."
   ]
  },
  {
   "cell_type": "code",
   "execution_count": 18,
   "id": "12abd81d-7057-4630-8ae7-909f022a9cac",
   "metadata": {},
   "outputs": [
    {
     "data": {
      "text/plain": [
       "Text(0, 0.5, 'Expected counts')"
      ]
     },
     "execution_count": 18,
     "metadata": {},
     "output_type": "execute_result"
    },
    {
     "data": {
      "image/png": "[encoded data removed]",
      "text/plain": [
       "<Figure size 432x288 with 1 Axes>"
      ]
     },
     "metadata": {
      "needs_background": "light"
     },
     "output_type": "display_data"
    }
   ],
   "source": [
    "spectrum = PowerLawSpectralModel(index = 3,\n",
    "                                 amplitude = 10**-3 / u.cm / u.cm / u.s / u.keV,\n",
    "                                 reference = 100 * u.keV)\n",
    "    \n",
    "expectation = psr.get_expectation(spectrum)\n",
    "\n",
    "ax, plot = expectation.project('Em').plot()\n",
    "\n",
    "ax.set_ylabel('Expected counts')"
   ]
  }
 ],
 "metadata": {
  "kernelspec": {
   "display_name": "Python 3 (ipykernel)",
   "language": "python",
   "name": "python3"
  },
  "language_info": {
   "codemirror_mode": {
    "name": "ipython",
    "version": 3
   },
   "file_extension": ".py",
   "mimetype": "text/x-python",
   "name": "python",
   "nbconvert_exporter": "python",
   "pygments_lexer": "ipython3",
   "version": "3.8.1"
  }
 },
 "nbformat": 4,
 "nbformat_minor": 5
}
