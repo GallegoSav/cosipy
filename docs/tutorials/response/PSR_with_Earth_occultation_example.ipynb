{
 "cells": [
  {
   "cell_type": "markdown",
   "id": "30f0be8e-fcf6-48dd-b1ce-471518cbd421",
   "metadata": {},
   "source": [
    "# Point Source Response with Earth Occultation"
   ]
  },
  {
   "cell_type": "code",
   "execution_count": 40,
   "id": "1b5af751-2243-4366-8be8-14e1091cf71a",
   "metadata": {},
   "outputs": [],
   "source": [
    "# Imports\n",
    "from cosipy.spacecraftfile import SpacecraftFile\n",
    "from cosipy.response import FullDetectorResponse\n",
    "from cosipy.util import fetch_wasabi_file\n",
    "import astropy.units as u\n",
    "from astropy.coordinates import SkyCoord\n",
    "import numpy as np"
   ]
  },
  {
   "cell_type": "markdown",
   "id": "120eeb60-7f17-4e97-83df-45b2f7aea854",
   "metadata": {},
   "source": [
    "Load orientation file:"
   ]
  },
  {
   "cell_type": "code",
   "execution_count": 23,
   "id": "064aad90-a5b4-4fb7-9a36-a7bd43f95db7",
   "metadata": {},
   "outputs": [],
   "source": [
    "ori_file = \"/discover/nobackup/ckarwin/COSI/Data_Challenge/DC3/orientation_files/DC3_final_530km_3_month_with_slew_15sbins_GalacticEarth.ori\"\n",
    "ori = SpacecraftFile.parse_from_file(ori_file)"
   ]
  },
  {
   "cell_type": "markdown",
   "id": "55314d24-d738-45e6-9f09-4035ad18ea76",
   "metadata": {},
   "source": [
    "Define coordinate of source (Crab):"
   ]
  },
  {
   "cell_type": "code",
   "execution_count": 24,
   "id": "59969bd5-5a3d-456f-a534-43a175781c3d",
   "metadata": {},
   "outputs": [],
   "source": [
    "coord = SkyCoord(l=184.56*u.deg,b=-5.78*u.deg,frame=\"galactic\")"
   ]
  },
  {
   "cell_type": "markdown",
   "id": "3cbaa450-2719-4abc-83bf-eedccea347be",
   "metadata": {},
   "source": [
    "Calculate scatt map for given coordinate:"
   ]
  },
  {
   "cell_type": "code",
   "execution_count": 25,
   "id": "8e89f3f9-aa47-47c6-acbb-a2fd1537cc53",
   "metadata": {},
   "outputs": [],
   "source": [
    "scatt_map = ori.get_scatt_map_earth_occ(coord, nside = 16, coordsys = 'galactic')"
   ]
  },
  {
   "cell_type": "markdown",
   "id": "e2c4ccf0-7543-4980-8256-3876cc454b5c",
   "metadata": {},
   "source": [
    "Calculate psr:"
   ]
  },
  {
   "cell_type": "code",
   "execution_count": 26,
   "id": "fe07ffb2-e7c0-423b-894c-b3c161d3464a",
   "metadata": {},
   "outputs": [],
   "source": [
    "response_path = \"/discover/nobackup/ckarwin/COSI/Data_Challenge/DC2/Response/Continuum/\"\n",
    "response_file = response_path + \"SMEXv12.Continuum.HEALPixO3_10bins_log_flat.binnedimaging.imagingresponse.nonsparse_nside8.area.good_chunks_unzip.h5\"\n",
    "with FullDetectorResponse.open(response_file) as response:\n",
    "    psr = response.get_point_source_response(coord = coord, scatt_map = scatt_map, Earth_occ=True)"
   ]
  },
  {
   "cell_type": "markdown",
   "id": "75e50ee7-8f24-47f8-8c2a-7e99fa722891",
   "metadata": {},
   "source": [
    "### Now let's do a simple test:\n",
    "Load test orientation file: the z-axis of the instrument points to the Galactic center for 30 seconds. For the first 15 seconds, the instrument is in front of Earth, and then for the last 15.1 seconds the instrument is behind Earth. This should be reflected in the scatt map."
   ]
  },
  {
   "cell_type": "code",
   "execution_count": 30,
   "id": "6d14166f-887b-4097-bf62-cbc84cca0502",
   "metadata": {},
   "outputs": [],
   "source": [
    "ori_file = \"/discover/nobackup/ckarwin/COSI/Data_Challenge/DC3/orientation_files/test_earth_occ.ori\"\n",
    "ori = SpacecraftFile.parse_from_file(ori_file)"
   ]
  },
  {
   "cell_type": "code",
   "execution_count": 31,
   "id": "99efa500-4018-4fdb-9793-363a192cff81",
   "metadata": {},
   "outputs": [],
   "source": [
    "coord = SkyCoord(l=0*u.deg,b=0*u.deg,frame=\"galactic\")"
   ]
  },
  {
   "cell_type": "code",
   "execution_count": 32,
   "id": "9303a803-bc70-46b6-a0c3-6684e12ce2c5",
   "metadata": {},
   "outputs": [],
   "source": [
    "scatt_map = ori.get_scatt_map_earth_occ(coord, nside = 16, coordsys = 'galactic')"
   ]
  },
  {
   "cell_type": "code",
   "execution_count": 39,
   "id": "60b0962f-ab6a-4155-be56-fd1e510b5ed0",
   "metadata": {},
   "outputs": [
    {
     "data": {
      "text/plain": [
       "15.099999904632568"
      ]
     },
     "execution_count": 39,
     "metadata": {},
     "output_type": "execute_result"
    }
   ],
   "source": [
    "np.sum(scatt_map.contents.todense())"
   ]
  },
  {
   "cell_type": "markdown",
   "id": "02f41dc8-e0dd-45e1-a7a8-b9e172b49f66",
   "metadata": {},
   "source": [
    "Now let's compare to the method without Earth occultation:"
   ]
  },
  {
   "cell_type": "code",
   "execution_count": 42,
   "id": "ae170591-675a-45fd-96cd-30328c898a9b",
   "metadata": {},
   "outputs": [],
   "source": [
    "scatt_map = ori.get_scatt_map(nside = 16, coordsys = 'galactic')"
   ]
  },
  {
   "cell_type": "code",
   "execution_count": 43,
   "id": "864e1006-2f82-4f1c-b27f-b448b5cba3ef",
   "metadata": {},
   "outputs": [
    {
     "data": {
      "text/plain": [
       "30.0"
      ]
     },
     "execution_count": 43,
     "metadata": {},
     "output_type": "execute_result"
    }
   ],
   "source": [
    "np.sum(scatt_map.contents.todense())"
   ]
  }
 ],
 "metadata": {
  "kernelspec": {
   "display_name": "Python [conda env:COSIPY]",
   "language": "python",
   "name": "conda-env-COSIPY-py"
  },
  "language_info": {
   "codemirror_mode": {
    "name": "ipython",
    "version": 3
   },
   "file_extension": ".py",
   "mimetype": "text/x-python",
   "name": "python",
   "nbconvert_exporter": "python",
   "pygments_lexer": "ipython3",
   "version": "3.10.15"
  }
 },
 "nbformat": 4,
 "nbformat_minor": 5
}
