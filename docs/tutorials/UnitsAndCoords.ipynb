{
 "cells": [
  {
   "cell_type": "markdown",
   "id": "008905e4-b109-40e2-a5dd-a84661facbcf",
   "metadata": {},
   "source": [
    "# Units and coordinates"
   ]
  },
  {
   "cell_type": "markdown",
   "id": "d6e9e6d5-74c0-46b7-9f56-e3d5ba5ef716",
   "metadata": {},
   "source": [
    "`cosipy` uses astropy's units and coordinates. "
   ]
  },
  {
   "cell_type": "markdown",
   "id": "527f1a43-6cbc-4073-89ac-244ccaeffc6a",
   "metadata": {},
   "source": [
    "## SpacecraftFrame"
   ]
  },
  {
   "cell_type": "markdown",
   "id": "41625679-0183-41aa-bd36-ead380a64261",
   "metadata": {},
   "source": [
    "SkyCoord objects are instantiated by passing a location with specified units and a coordinate frame. `cosipy` defines the custom coordinate system `SpacecraftFrame` that uses the spacecraft as the frame of reference. \n",
    "\n",
    "To create a coordinate with this frame you can simply do:"
   ]
  },
  {
   "cell_type": "code",
   "execution_count": 1,
   "id": "208d0790-d8d1-4fb6-924c-2dfe538d47a3",
   "metadata": {},
   "outputs": [],
   "source": [
    "import astropy.units as u\n",
    "from astropy.coordinates import SkyCoord\n",
    "from cosipy.coordinates import SpacecraftFrame\n",
    "\n",
    "c = SkyCoord(lon = 45*u.deg, lat = 10*u.deg, frame = SpacecraftFrame())"
   ]
  },
  {
   "cell_type": "markdown",
   "id": "9de40239-c363-4064-affd-855ac6b581f2",
   "metadata": {},
   "source": [
    "This allows you to know the reference frame of the coordinate, e.g."
   ]
  },
  {
   "cell_type": "code",
   "execution_count": 2,
   "id": "dc55239e-1e2c-4464-b960-c694dac535f8",
   "metadata": {},
   "outputs": [
    {
     "data": {
      "text/plain": [
       "<SpacecraftFrame Coordinate (attitude=None, obstime=None, location=None): (lon, lat) in deg\n",
       "    (45., 10.)>"
      ]
     },
     "execution_count": 2,
     "metadata": {},
     "output_type": "execute_result"
    }
   ],
   "source": [
    "c.frame"
   ]
  },
  {
   "cell_type": "markdown",
   "id": "ababfe87-4822-4928-b154-433afca6b2ee",
   "metadata": {},
   "source": [
    "However, in order to transform it to other coordinates you need to specify the orientation of the spacecraft with respect to the ICRS reference frame --i.e. the attitude. "
   ]
  },
  {
   "cell_type": "markdown",
   "id": "9f36c441-6f76-4264-b801-42d4ad72b8ac",
   "metadata": {},
   "source": [
    "<div class=\"alert alert-info\">\n",
    "DEVELOPERS: During flight I'd expect to recieve a quaternion as part of the telemetry. This is used by GBM, for example, since it is more compact than a rotation matrix and behaves better than Euler rotation angles.\n",
    "</div>"
   ]
  },
  {
   "cell_type": "code",
   "execution_count": 3,
   "id": "47696663-45a8-4e9e-bc52-1300df153de9",
   "metadata": {},
   "outputs": [],
   "source": [
    "from cosipy.coordinates import Attitude\n",
    "\n",
    "attitude = Attitude.from_rotvec(45*u.deg*[0,1,0])\n",
    "\n",
    "c = SkyCoord(lon = 45*u.deg, lat = 10*u.deg, frame = SpacecraftFrame(attitude = attitude))"
   ]
  },
  {
   "cell_type": "markdown",
   "id": "03918215-78e5-490c-9a7b-02c9368f7fb7",
   "metadata": {},
   "source": [
    "Once this is specified, we can transform from/to any other frame supported by astropy"
   ]
  },
  {
   "cell_type": "code",
   "execution_count": 4,
   "id": "0f43088e-0749-4b59-aafa-046e0df510a4",
   "metadata": {},
   "outputs": [
    {
     "data": {
      "text/plain": [
       "<SkyCoord (ICRS): (ra, dec) in deg\n",
       "    (48.54153446, -21.69194144)>"
      ]
     },
     "execution_count": 4,
     "metadata": {},
     "output_type": "execute_result"
    }
   ],
   "source": [
    "c.transform_to('icrs')"
   ]
  },
  {
   "cell_type": "code",
   "execution_count": 5,
   "id": "08dffbfe-831f-4129-a448-203194ac06e3",
   "metadata": {},
   "outputs": [
    {
     "data": {
      "text/plain": [
       "<SkyCoord (Galactic): (l, b) in deg\n",
       "    (211.32571205, -57.16686803)>"
      ]
     },
     "execution_count": 5,
     "metadata": {},
     "output_type": "execute_result"
    }
   ],
   "source": [
    "c.transform_to('galactic')"
   ]
  },
  {
   "cell_type": "code",
   "execution_count": 6,
   "id": "7b8ac889-c645-4da3-83d1-486f6bd62cbe",
   "metadata": {},
   "outputs": [
    {
     "data": {
      "text/plain": [
       "<SkyCoord (SpacecraftFrame: attitude=<quat = [0.         0.38268343 0.         0.92387953], frame = icrs>, obstime=None, location=None): (lon, lat) in deg\n",
       "    (62.86143232, 30.95858198)>"
      ]
     },
     "execution_count": 6,
     "metadata": {},
     "output_type": "execute_result"
    }
   ],
   "source": [
    "c = SkyCoord(ra = 50*u.deg, dec = 5*u.deg)\n",
    "\n",
    "c.transform_to(SpacecraftFrame(attitude = attitude))"
   ]
  },
  {
   "cell_type": "markdown",
   "id": "3084fc31-3683-47b9-8bef-e42e3220e971",
   "metadata": {},
   "source": [
    "Although it does not play a role in this particular coordinates transformation, the observation time and location with respect of the Earth can also be specified in case it is needed by any other algorithm:"
   ]
  },
  {
   "cell_type": "code",
   "execution_count": 7,
   "id": "3bb13667-8ebf-4bea-8ea8-695f2d0dc1e2",
   "metadata": {},
   "outputs": [],
   "source": [
    "from astropy.time import Time\n",
    "from astropy.coordinates import EarthLocation\n",
    "\n",
    "frame = SpacecraftFrame(attitude = attitude,\n",
    "                        obstime = Time('2026-01-01T00:00:00'),\n",
    "                        location = EarthLocation(lon = 10*u.deg, lat = 46*u.deg, height = 400*u.km))\n",
    "\n",
    "c = SkyCoord(lon = 45*u.deg, lat = 10*u.deg, frame = frame)"
   ]
  },
  {
   "cell_type": "code",
   "execution_count": 8,
   "id": "3672a151-321c-4891-9b5c-0e263e22cb60",
   "metadata": {},
   "outputs": [
    {
     "data": {
      "text/plain": [
       "<Time object: scale='utc' format='isot' value=2026-01-01T00:00:00.000>"
      ]
     },
     "execution_count": 8,
     "metadata": {},
     "output_type": "execute_result"
    }
   ],
   "source": [
    "c.frame.obstime"
   ]
  },
  {
   "cell_type": "code",
   "execution_count": null,
   "id": "9fa21283-ccb5-4aff-aa5c-b6c9c96a3478",
   "metadata": {},
   "outputs": [],
   "source": []
  }
 ],
 "metadata": {
  "kernelspec": {
   "display_name": "Python 3 (ipykernel)",
   "language": "python",
   "name": "python3"
  },
  "language_info": {
   "codemirror_mode": {
    "name": "ipython",
    "version": 3
   },
   "file_extension": ".py",
   "mimetype": "text/x-python",
   "name": "python",
   "nbconvert_exporter": "python",
   "pygments_lexer": "ipython3",
   "version": "3.8.1"
  }
 },
 "nbformat": 4,
 "nbformat_minor": 5
}
