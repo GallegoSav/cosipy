{
 "cells": [
  {
   "cell_type": "markdown",
   "id": "74a86fb5-4e54-4e3f-b349-3e60fbdd0279",
   "metadata": {
    "tags": []
   },
   "source": [
    "# Line source spectral fitting example (GRB)"
   ]
  },
  {
   "cell_type": "markdown",
   "id": "e7df3443-3ce1-43f3-90b5-1bceb7bc9af0",
   "metadata": {},
   "source": [
    "**To run this, you need the detector response (Isotropic.511keV.p.binnedimaging.imagingresponse_nside16.area.h5), binned data (grb_bkg_binned_data_511.hdf5, grb_binned_data_511.hdf5, & bkg_binned_data_full_511.hdf5), and orientation file (20280301_first_2hrs.ori) saved in cosipy/cosipy/test_data. These files can be found on the COSI Pipeline Google Drive.**\n",
    "\n",
    "**Steps for binning data from .tra files are at the bottom.**"
   ]
  },
  {
   "cell_type": "markdown",
   "id": "ba543558-7de9-494c-8b72-8cdd368676e9",
   "metadata": {},
   "source": [
    "This notebook fits the spectrum of a GRB simulated using MEGAlib and combined with background which is constant in time.\n",
    "\n",
    "[3ML](https://threeml.readthedocs.io/) is a high-level interface that allows multiple datasets from different instruments to be used coherently to fit the parameters of source model. A source model typically consists of a list of sources with parametrized spectral shapes, sky locations and, for extended sources, shape. Polarization is also possible. A \"coherent\" analysis, in this context, means that the source model parameters are fitted using all available datasets simultanously, rather than performing individual fits and finding a well-suited common model a posteriori. \n",
    "\n",
    "In order for a dataset to be included in 3ML, each instrument needs to provide a \"plugin\". Each plugin is responsible for reading the data, convolving the source model (provided by 3ML) with the instrument response, and returning a likelihood. In our case, we'll compute a binned Poisson likelihood:\n",
    "\n",
    "$$\n",
    "\\log \\mathcal{L}(\\mathbf{x}) = \\sum_i \\log \\frac{\\lambda_i(\\mathbf{x})^{d_i} \\exp (-\\lambda_i)}{d_i!}\n",
    "$$\n",
    "\n",
    "where $d_i$ are the counts on each bin and $\\lambda_i$ are the expected counts given a source model with parameters $\\mathbf{x}$. \n",
    "\n",
    "In this example, we will fit a single point source with a known location. We'll assume the background is known and fixed up to a scaling factor. Finally, we will fit a Band function:\n",
    "\n",
    "$$\n",
    "f(x) = K \\begin{cases} \\left(\\frac{x}{E_{piv}}\\right)^{\\alpha} \\exp \\left(-\\frac{(2+\\alpha)\n",
    "       * x}{x_{p}}\\right) & x \\leq (\\alpha-\\beta) \\frac{x_{p}}{(\\alpha+2)} \\\\ \\left(\\frac{x}{E_{piv}}\\right)^{\\beta}\n",
    "       * \\exp (\\beta-\\alpha)\\left[\\frac{(\\alpha-\\beta) x_{p}}{E_{piv}(2+\\alpha)}\\right]^{\\alpha-\\beta}\n",
    "       * &x>(\\alpha-\\beta) \\frac{x_{p}}{(\\alpha+2)} \\end{cases}\n",
    "$$\n",
    "\n",
    "\n",
    "where $K$ (normalization), $\\alpha$ & $\\beta$ (spectral indeces), and $x_p$ (peak energy) are the free parameters, while $E_{piv}$ is the pivot energy which is fixed (and arbitrary).\n",
    "\n",
    "Considering these assumptions:\n",
    "\n",
    "$$\n",
    "\\lambda_i(\\mathbf{x}) = B*b_i + s_i(\\mathbf{x})\n",
    "$$\n",
    "\n",
    "where $B*b_i$ are the estimated counts due to background in each bin with $B$ the amplitude and $b_i$ the shape of the background, and $s_i$ are the corresponding expected counts from the source, the goal is then to find the values of $\\mathbf{x} = [K, \\alpha, \\beta, x_p]$ and $B$ that maximize $\\mathcal{L}$. These are the best estimations of the parameters.\n",
    "\n",
    "The final module needs to also fit the time-dependent background, handle multiple point-like and extended sources, as well as all the spectral models supported by 3ML. Eventually, it will also fit the polarization angle. However, this simple example already contains all the necessary pieces to do a fit."
   ]
  },
  {
   "cell_type": "code",
   "execution_count": 1,
   "id": "ce42ab82-3bbd-4729-8f84-a4e32eb3bb24",
   "metadata": {},
   "outputs": [
    {
     "data": {
      "text/html": [
       "<pre style=\"white-space:pre;overflow-x:auto;line-height:normal;font-family:Menlo,'DejaVu Sans Mono',consolas,'Courier New',monospace\"><span style=\"color: #00ff00; text-decoration-color: #00ff00\">23:59:19 </span><span style=\"color: #af5fd7; text-decoration-color: #af5fd7\">WARNING </span> <span style=\"color: #c6c6c6; text-decoration-color: #c6c6c6; font-weight: bold\"> The naima package is not available. Models that depend on it will not be         </span><a href=\"file:///Users/eneights/opt/anaconda3/envs/cosipy/lib/python3.9/site-packages/astromodels/functions/functions_1D/functions.py\" target=\"_blank\"><span style=\"color: #7f7f7f; text-decoration-color: #7f7f7f\">functions.py</span></a><span style=\"color: #7f7f7f; text-decoration-color: #7f7f7f\">:</span><a href=\"file:///Users/eneights/opt/anaconda3/envs/cosipy/lib/python3.9/site-packages/astromodels/functions/functions_1D/functions.py#48\" target=\"_blank\"><span style=\"color: #7f7f7f; text-decoration-color: #7f7f7f\">48</span></a>\n",
       "<span style=\"color: #00ff00; text-decoration-color: #00ff00\">         </span>         <span style=\"color: #c6c6c6; text-decoration-color: #c6c6c6; font-weight: bold\">available                                                                         </span><span style=\"color: #7f7f7f; text-decoration-color: #7f7f7f\">               </span>\n",
       "</pre>\n"
      ],
      "text/plain": [
       "\u001b[38;5;46m23:59:19\u001b[0m\u001b[38;5;46m \u001b[0m\u001b[38;5;134mWARNING \u001b[0m \u001b[1;38;5;251m The naima package is not available. Models that depend on it will not be        \u001b[0m\u001b[1;38;5;251m \u001b[0m\u001b]8;id=130042;file:///Users/eneights/opt/anaconda3/envs/cosipy/lib/python3.9/site-packages/astromodels/functions/functions_1D/functions.py\u001b\\\u001b[2mfunctions.py\u001b[0m\u001b]8;;\u001b\\\u001b[2m:\u001b[0m\u001b]8;id=310006;file:///Users/eneights/opt/anaconda3/envs/cosipy/lib/python3.9/site-packages/astromodels/functions/functions_1D/functions.py#48\u001b\\\u001b[2m48\u001b[0m\u001b]8;;\u001b\\\n",
       "\u001b[38;5;46m         \u001b[0m         \u001b[1;38;5;251mavailable                                                                        \u001b[0m\u001b[1;38;5;251m \u001b[0m\u001b[2m               \u001b[0m\n"
      ]
     },
     "metadata": {},
     "output_type": "display_data"
    },
    {
     "data": {
      "text/html": [
       "<pre style=\"white-space:pre;overflow-x:auto;line-height:normal;font-family:Menlo,'DejaVu Sans Mono',consolas,'Courier New',monospace\"><span style=\"color: #00ff00; text-decoration-color: #00ff00\">         </span><span style=\"color: #af5fd7; text-decoration-color: #af5fd7\">WARNING </span> <span style=\"color: #c6c6c6; text-decoration-color: #c6c6c6; font-weight: bold\"> The GSL library or the pygsl wrapper cannot be loaded. Models that depend on it  </span><a href=\"file:///Users/eneights/opt/anaconda3/envs/cosipy/lib/python3.9/site-packages/astromodels/functions/functions_1D/functions.py\" target=\"_blank\"><span style=\"color: #7f7f7f; text-decoration-color: #7f7f7f\">functions.py</span></a><span style=\"color: #7f7f7f; text-decoration-color: #7f7f7f\">:</span><a href=\"file:///Users/eneights/opt/anaconda3/envs/cosipy/lib/python3.9/site-packages/astromodels/functions/functions_1D/functions.py#69\" target=\"_blank\"><span style=\"color: #7f7f7f; text-decoration-color: #7f7f7f\">69</span></a>\n",
       "<span style=\"color: #00ff00; text-decoration-color: #00ff00\">         </span>         <span style=\"color: #c6c6c6; text-decoration-color: #c6c6c6; font-weight: bold\">will not be available.                                                            </span><span style=\"color: #7f7f7f; text-decoration-color: #7f7f7f\">               </span>\n",
       "</pre>\n"
      ],
      "text/plain": [
       "\u001b[38;5;46m        \u001b[0m\u001b[38;5;46m \u001b[0m\u001b[38;5;134mWARNING \u001b[0m \u001b[1;38;5;251m The GSL library or the pygsl wrapper cannot be loaded. Models that depend on it \u001b[0m\u001b[1;38;5;251m \u001b[0m\u001b]8;id=559360;file:///Users/eneights/opt/anaconda3/envs/cosipy/lib/python3.9/site-packages/astromodels/functions/functions_1D/functions.py\u001b\\\u001b[2mfunctions.py\u001b[0m\u001b]8;;\u001b\\\u001b[2m:\u001b[0m\u001b]8;id=734608;file:///Users/eneights/opt/anaconda3/envs/cosipy/lib/python3.9/site-packages/astromodels/functions/functions_1D/functions.py#69\u001b\\\u001b[2m69\u001b[0m\u001b]8;;\u001b\\\n",
       "\u001b[38;5;46m         \u001b[0m         \u001b[1;38;5;251mwill not be available.                                                           \u001b[0m\u001b[1;38;5;251m \u001b[0m\u001b[2m               \u001b[0m\n"
      ]
     },
     "metadata": {},
     "output_type": "display_data"
    },
    {
     "data": {
      "text/html": [
       "<pre style=\"white-space:pre;overflow-x:auto;line-height:normal;font-family:Menlo,'DejaVu Sans Mono',consolas,'Courier New',monospace\"><span style=\"color: #00ff00; text-decoration-color: #00ff00\">         </span><span style=\"color: #af5fd7; text-decoration-color: #af5fd7\">WARNING </span> <span style=\"color: #c6c6c6; text-decoration-color: #c6c6c6; font-weight: bold\"> We have set the min_value of K to </span><span style=\"color: #c0c0c0; text-decoration-color: #c0c0c0; font-weight: bold\">1e-99</span><span style=\"color: #c6c6c6; text-decoration-color: #c6c6c6; font-weight: bold\"> because there was a postive transform   </span><a href=\"file:///Users/eneights/opt/anaconda3/envs/cosipy/lib/python3.9/site-packages/astromodels/core/parameter.py\" target=\"_blank\"><span style=\"color: #7f7f7f; text-decoration-color: #7f7f7f\">parameter.py</span></a><span style=\"color: #7f7f7f; text-decoration-color: #7f7f7f\">:</span><a href=\"file:///Users/eneights/opt/anaconda3/envs/cosipy/lib/python3.9/site-packages/astromodels/core/parameter.py#704\" target=\"_blank\"><span style=\"color: #7f7f7f; text-decoration-color: #7f7f7f\">704</span></a>\n",
       "</pre>\n"
      ],
      "text/plain": [
       "\u001b[38;5;46m        \u001b[0m\u001b[38;5;46m \u001b[0m\u001b[38;5;134mWARNING \u001b[0m \u001b[1;38;5;251m We have set the min_value of K to \u001b[0m\u001b[1;37m1e-99\u001b[0m\u001b[1;38;5;251m because there was a postive transform  \u001b[0m\u001b[1;38;5;251m \u001b[0m\u001b]8;id=140301;file:///Users/eneights/opt/anaconda3/envs/cosipy/lib/python3.9/site-packages/astromodels/core/parameter.py\u001b\\\u001b[2mparameter.py\u001b[0m\u001b]8;;\u001b\\\u001b[2m:\u001b[0m\u001b]8;id=841806;file:///Users/eneights/opt/anaconda3/envs/cosipy/lib/python3.9/site-packages/astromodels/core/parameter.py#704\u001b\\\u001b[2m704\u001b[0m\u001b]8;;\u001b\\\n"
      ]
     },
     "metadata": {},
     "output_type": "display_data"
    },
    {
     "data": {
      "text/html": [
       "<pre style=\"white-space:pre;overflow-x:auto;line-height:normal;font-family:Menlo,'DejaVu Sans Mono',consolas,'Courier New',monospace\"><span style=\"color: #00ff00; text-decoration-color: #00ff00\">         </span><span style=\"color: #af5fd7; text-decoration-color: #af5fd7\">WARNING </span> <span style=\"color: #c6c6c6; text-decoration-color: #c6c6c6; font-weight: bold\"> We have set the min_value of K to </span><span style=\"color: #c0c0c0; text-decoration-color: #c0c0c0; font-weight: bold\">1e-99</span><span style=\"color: #c6c6c6; text-decoration-color: #c6c6c6; font-weight: bold\"> because there was a postive transform   </span><a href=\"file:///Users/eneights/opt/anaconda3/envs/cosipy/lib/python3.9/site-packages/astromodels/core/parameter.py\" target=\"_blank\"><span style=\"color: #7f7f7f; text-decoration-color: #7f7f7f\">parameter.py</span></a><span style=\"color: #7f7f7f; text-decoration-color: #7f7f7f\">:</span><a href=\"file:///Users/eneights/opt/anaconda3/envs/cosipy/lib/python3.9/site-packages/astromodels/core/parameter.py#704\" target=\"_blank\"><span style=\"color: #7f7f7f; text-decoration-color: #7f7f7f\">704</span></a>\n",
       "</pre>\n"
      ],
      "text/plain": [
       "\u001b[38;5;46m        \u001b[0m\u001b[38;5;46m \u001b[0m\u001b[38;5;134mWARNING \u001b[0m \u001b[1;38;5;251m We have set the min_value of K to \u001b[0m\u001b[1;37m1e-99\u001b[0m\u001b[1;38;5;251m because there was a postive transform  \u001b[0m\u001b[1;38;5;251m \u001b[0m\u001b]8;id=37767;file:///Users/eneights/opt/anaconda3/envs/cosipy/lib/python3.9/site-packages/astromodels/core/parameter.py\u001b\\\u001b[2mparameter.py\u001b[0m\u001b]8;;\u001b\\\u001b[2m:\u001b[0m\u001b]8;id=404493;file:///Users/eneights/opt/anaconda3/envs/cosipy/lib/python3.9/site-packages/astromodels/core/parameter.py#704\u001b\\\u001b[2m704\u001b[0m\u001b]8;;\u001b\\\n"
      ]
     },
     "metadata": {},
     "output_type": "display_data"
    },
    {
     "data": {
      "text/html": [
       "<pre style=\"white-space:pre;overflow-x:auto;line-height:normal;font-family:Menlo,'DejaVu Sans Mono',consolas,'Courier New',monospace\"><span style=\"color: #00ff00; text-decoration-color: #00ff00\">         </span><span style=\"color: #af5fd7; text-decoration-color: #af5fd7\">WARNING </span> <span style=\"color: #c6c6c6; text-decoration-color: #c6c6c6; font-weight: bold\"> We have set the min_value of K to </span><span style=\"color: #c0c0c0; text-decoration-color: #c0c0c0; font-weight: bold\">1e-99</span><span style=\"color: #c6c6c6; text-decoration-color: #c6c6c6; font-weight: bold\"> because there was a postive transform   </span><a href=\"file:///Users/eneights/opt/anaconda3/envs/cosipy/lib/python3.9/site-packages/astromodels/core/parameter.py\" target=\"_blank\"><span style=\"color: #7f7f7f; text-decoration-color: #7f7f7f\">parameter.py</span></a><span style=\"color: #7f7f7f; text-decoration-color: #7f7f7f\">:</span><a href=\"file:///Users/eneights/opt/anaconda3/envs/cosipy/lib/python3.9/site-packages/astromodels/core/parameter.py#704\" target=\"_blank\"><span style=\"color: #7f7f7f; text-decoration-color: #7f7f7f\">704</span></a>\n",
       "</pre>\n"
      ],
      "text/plain": [
       "\u001b[38;5;46m        \u001b[0m\u001b[38;5;46m \u001b[0m\u001b[38;5;134mWARNING \u001b[0m \u001b[1;38;5;251m We have set the min_value of K to \u001b[0m\u001b[1;37m1e-99\u001b[0m\u001b[1;38;5;251m because there was a postive transform  \u001b[0m\u001b[1;38;5;251m \u001b[0m\u001b]8;id=961701;file:///Users/eneights/opt/anaconda3/envs/cosipy/lib/python3.9/site-packages/astromodels/core/parameter.py\u001b\\\u001b[2mparameter.py\u001b[0m\u001b]8;;\u001b\\\u001b[2m:\u001b[0m\u001b]8;id=142254;file:///Users/eneights/opt/anaconda3/envs/cosipy/lib/python3.9/site-packages/astromodels/core/parameter.py#704\u001b\\\u001b[2m704\u001b[0m\u001b]8;;\u001b\\\n"
      ]
     },
     "metadata": {},
     "output_type": "display_data"
    },
    {
     "data": {
      "text/html": [
       "<pre style=\"white-space:pre;overflow-x:auto;line-height:normal;font-family:Menlo,'DejaVu Sans Mono',consolas,'Courier New',monospace\"><span style=\"color: #00ff00; text-decoration-color: #00ff00\">         </span><span style=\"color: #af5fd7; text-decoration-color: #af5fd7\">WARNING </span> <span style=\"color: #c6c6c6; text-decoration-color: #c6c6c6; font-weight: bold\"> We have set the min_value of K to </span><span style=\"color: #c0c0c0; text-decoration-color: #c0c0c0; font-weight: bold\">1e-99</span><span style=\"color: #c6c6c6; text-decoration-color: #c6c6c6; font-weight: bold\"> because there was a postive transform   </span><a href=\"file:///Users/eneights/opt/anaconda3/envs/cosipy/lib/python3.9/site-packages/astromodels/core/parameter.py\" target=\"_blank\"><span style=\"color: #7f7f7f; text-decoration-color: #7f7f7f\">parameter.py</span></a><span style=\"color: #7f7f7f; text-decoration-color: #7f7f7f\">:</span><a href=\"file:///Users/eneights/opt/anaconda3/envs/cosipy/lib/python3.9/site-packages/astromodels/core/parameter.py#704\" target=\"_blank\"><span style=\"color: #7f7f7f; text-decoration-color: #7f7f7f\">704</span></a>\n",
       "</pre>\n"
      ],
      "text/plain": [
       "\u001b[38;5;46m        \u001b[0m\u001b[38;5;46m \u001b[0m\u001b[38;5;134mWARNING \u001b[0m \u001b[1;38;5;251m We have set the min_value of K to \u001b[0m\u001b[1;37m1e-99\u001b[0m\u001b[1;38;5;251m because there was a postive transform  \u001b[0m\u001b[1;38;5;251m \u001b[0m\u001b]8;id=712821;file:///Users/eneights/opt/anaconda3/envs/cosipy/lib/python3.9/site-packages/astromodels/core/parameter.py\u001b\\\u001b[2mparameter.py\u001b[0m\u001b]8;;\u001b\\\u001b[2m:\u001b[0m\u001b]8;id=181574;file:///Users/eneights/opt/anaconda3/envs/cosipy/lib/python3.9/site-packages/astromodels/core/parameter.py#704\u001b\\\u001b[2m704\u001b[0m\u001b]8;;\u001b\\\n"
      ]
     },
     "metadata": {},
     "output_type": "display_data"
    },
    {
     "data": {
      "text/html": [
       "<pre style=\"white-space:pre;overflow-x:auto;line-height:normal;font-family:Menlo,'DejaVu Sans Mono',consolas,'Courier New',monospace\"><span style=\"color: #00ff00; text-decoration-color: #00ff00\">         </span><span style=\"color: #af5fd7; text-decoration-color: #af5fd7\">WARNING </span> <span style=\"color: #c6c6c6; text-decoration-color: #c6c6c6; font-weight: bold\"> We have set the min_value of F to </span><span style=\"color: #c0c0c0; text-decoration-color: #c0c0c0; font-weight: bold\">1e-99</span><span style=\"color: #c6c6c6; text-decoration-color: #c6c6c6; font-weight: bold\"> because there was a postive transform   </span><a href=\"file:///Users/eneights/opt/anaconda3/envs/cosipy/lib/python3.9/site-packages/astromodels/core/parameter.py\" target=\"_blank\"><span style=\"color: #7f7f7f; text-decoration-color: #7f7f7f\">parameter.py</span></a><span style=\"color: #7f7f7f; text-decoration-color: #7f7f7f\">:</span><a href=\"file:///Users/eneights/opt/anaconda3/envs/cosipy/lib/python3.9/site-packages/astromodels/core/parameter.py#704\" target=\"_blank\"><span style=\"color: #7f7f7f; text-decoration-color: #7f7f7f\">704</span></a>\n",
       "</pre>\n"
      ],
      "text/plain": [
       "\u001b[38;5;46m        \u001b[0m\u001b[38;5;46m \u001b[0m\u001b[38;5;134mWARNING \u001b[0m \u001b[1;38;5;251m We have set the min_value of F to \u001b[0m\u001b[1;37m1e-99\u001b[0m\u001b[1;38;5;251m because there was a postive transform  \u001b[0m\u001b[1;38;5;251m \u001b[0m\u001b]8;id=812175;file:///Users/eneights/opt/anaconda3/envs/cosipy/lib/python3.9/site-packages/astromodels/core/parameter.py\u001b\\\u001b[2mparameter.py\u001b[0m\u001b]8;;\u001b\\\u001b[2m:\u001b[0m\u001b]8;id=161915;file:///Users/eneights/opt/anaconda3/envs/cosipy/lib/python3.9/site-packages/astromodels/core/parameter.py#704\u001b\\\u001b[2m704\u001b[0m\u001b]8;;\u001b\\\n"
      ]
     },
     "metadata": {},
     "output_type": "display_data"
    },
    {
     "data": {
      "text/html": [
       "<pre style=\"white-space:pre;overflow-x:auto;line-height:normal;font-family:Menlo,'DejaVu Sans Mono',consolas,'Courier New',monospace\"><span style=\"color: #00ff00; text-decoration-color: #00ff00\">         </span><span style=\"color: #af5fd7; text-decoration-color: #af5fd7\">WARNING </span> <span style=\"color: #c6c6c6; text-decoration-color: #c6c6c6; font-weight: bold\"> We have set the min_value of K to </span><span style=\"color: #c0c0c0; text-decoration-color: #c0c0c0; font-weight: bold\">1e-99</span><span style=\"color: #c6c6c6; text-decoration-color: #c6c6c6; font-weight: bold\"> because there was a postive transform   </span><a href=\"file:///Users/eneights/opt/anaconda3/envs/cosipy/lib/python3.9/site-packages/astromodels/core/parameter.py\" target=\"_blank\"><span style=\"color: #7f7f7f; text-decoration-color: #7f7f7f\">parameter.py</span></a><span style=\"color: #7f7f7f; text-decoration-color: #7f7f7f\">:</span><a href=\"file:///Users/eneights/opt/anaconda3/envs/cosipy/lib/python3.9/site-packages/astromodels/core/parameter.py#704\" target=\"_blank\"><span style=\"color: #7f7f7f; text-decoration-color: #7f7f7f\">704</span></a>\n",
       "</pre>\n"
      ],
      "text/plain": [
       "\u001b[38;5;46m        \u001b[0m\u001b[38;5;46m \u001b[0m\u001b[38;5;134mWARNING \u001b[0m \u001b[1;38;5;251m We have set the min_value of K to \u001b[0m\u001b[1;37m1e-99\u001b[0m\u001b[1;38;5;251m because there was a postive transform  \u001b[0m\u001b[1;38;5;251m \u001b[0m\u001b]8;id=160944;file:///Users/eneights/opt/anaconda3/envs/cosipy/lib/python3.9/site-packages/astromodels/core/parameter.py\u001b\\\u001b[2mparameter.py\u001b[0m\u001b]8;;\u001b\\\u001b[2m:\u001b[0m\u001b]8;id=145843;file:///Users/eneights/opt/anaconda3/envs/cosipy/lib/python3.9/site-packages/astromodels/core/parameter.py#704\u001b\\\u001b[2m704\u001b[0m\u001b]8;;\u001b\\\n"
      ]
     },
     "metadata": {},
     "output_type": "display_data"
    },
    {
     "data": {
      "text/html": [
       "<pre style=\"white-space:pre;overflow-x:auto;line-height:normal;font-family:Menlo,'DejaVu Sans Mono',consolas,'Courier New',monospace\"><span style=\"color: #00ff00; text-decoration-color: #00ff00\">23:59:19 </span><span style=\"color: #00ffaf; text-decoration-color: #00ffaf\">INFO    </span> <span style=\"color: #c6c6c6; text-decoration-color: #c6c6c6; font-weight: bold\"> Starting 3ML!                                                                     </span><a href=\"file:///Users/eneights/opt/anaconda3/envs/cosipy/lib/python3.9/site-packages/threeML/__init__.py\" target=\"_blank\"><span style=\"color: #7f7f7f; text-decoration-color: #7f7f7f\">__init__.py</span></a><span style=\"color: #7f7f7f; text-decoration-color: #7f7f7f\">:</span><a href=\"file:///Users/eneights/opt/anaconda3/envs/cosipy/lib/python3.9/site-packages/threeML/__init__.py#35\" target=\"_blank\"><span style=\"color: #7f7f7f; text-decoration-color: #7f7f7f\">35</span></a>\n",
       "</pre>\n"
      ],
      "text/plain": [
       "\u001b[38;5;46m23:59:19\u001b[0m\u001b[38;5;46m \u001b[0m\u001b[38;5;49mINFO    \u001b[0m \u001b[1;38;5;251m Starting 3ML!                                                                    \u001b[0m\u001b[1;38;5;251m \u001b[0m\u001b]8;id=568476;file:///Users/eneights/opt/anaconda3/envs/cosipy/lib/python3.9/site-packages/threeML/__init__.py\u001b\\\u001b[2m__init__.py\u001b[0m\u001b]8;;\u001b\\\u001b[2m:\u001b[0m\u001b]8;id=341048;file:///Users/eneights/opt/anaconda3/envs/cosipy/lib/python3.9/site-packages/threeML/__init__.py#35\u001b\\\u001b[2m35\u001b[0m\u001b]8;;\u001b\\\n"
      ]
     },
     "metadata": {},
     "output_type": "display_data"
    },
    {
     "data": {
      "text/html": [
       "<pre style=\"white-space:pre;overflow-x:auto;line-height:normal;font-family:Menlo,'DejaVu Sans Mono',consolas,'Courier New',monospace\"><span style=\"color: #00ff00; text-decoration-color: #00ff00\">         </span><span style=\"color: #af5fd7; text-decoration-color: #af5fd7\">WARNING </span> <span style=\"color: #c6c6c6; text-decoration-color: #c6c6c6; font-weight: bold\"> WARNINGs here are </span><span style=\"color: #800000; text-decoration-color: #800000; font-weight: bold\">NOT</span><span style=\"color: #c6c6c6; text-decoration-color: #c6c6c6; font-weight: bold\"> errors                                                      </span><a href=\"file:///Users/eneights/opt/anaconda3/envs/cosipy/lib/python3.9/site-packages/threeML/__init__.py\" target=\"_blank\"><span style=\"color: #7f7f7f; text-decoration-color: #7f7f7f\">__init__.py</span></a><span style=\"color: #7f7f7f; text-decoration-color: #7f7f7f\">:</span><a href=\"file:///Users/eneights/opt/anaconda3/envs/cosipy/lib/python3.9/site-packages/threeML/__init__.py#36\" target=\"_blank\"><span style=\"color: #7f7f7f; text-decoration-color: #7f7f7f\">36</span></a>\n",
       "</pre>\n"
      ],
      "text/plain": [
       "\u001b[38;5;46m        \u001b[0m\u001b[38;5;46m \u001b[0m\u001b[38;5;134mWARNING \u001b[0m \u001b[1;38;5;251m WARNINGs here are \u001b[0m\u001b[1;31mNOT\u001b[0m\u001b[1;38;5;251m errors                                                     \u001b[0m\u001b[1;38;5;251m \u001b[0m\u001b]8;id=91370;file:///Users/eneights/opt/anaconda3/envs/cosipy/lib/python3.9/site-packages/threeML/__init__.py\u001b\\\u001b[2m__init__.py\u001b[0m\u001b]8;;\u001b\\\u001b[2m:\u001b[0m\u001b]8;id=277311;file:///Users/eneights/opt/anaconda3/envs/cosipy/lib/python3.9/site-packages/threeML/__init__.py#36\u001b\\\u001b[2m36\u001b[0m\u001b]8;;\u001b\\\n"
      ]
     },
     "metadata": {},
     "output_type": "display_data"
    },
    {
     "data": {
      "text/html": [
       "<pre style=\"white-space:pre;overflow-x:auto;line-height:normal;font-family:Menlo,'DejaVu Sans Mono',consolas,'Courier New',monospace\"><span style=\"color: #00ff00; text-decoration-color: #00ff00\">         </span><span style=\"color: #af5fd7; text-decoration-color: #af5fd7\">WARNING </span> <span style=\"color: #c6c6c6; text-decoration-color: #c6c6c6; font-weight: bold\"> but are inform you about optional packages that can be installed                  </span><a href=\"file:///Users/eneights/opt/anaconda3/envs/cosipy/lib/python3.9/site-packages/threeML/__init__.py\" target=\"_blank\"><span style=\"color: #7f7f7f; text-decoration-color: #7f7f7f\">__init__.py</span></a><span style=\"color: #7f7f7f; text-decoration-color: #7f7f7f\">:</span><a href=\"file:///Users/eneights/opt/anaconda3/envs/cosipy/lib/python3.9/site-packages/threeML/__init__.py#37\" target=\"_blank\"><span style=\"color: #7f7f7f; text-decoration-color: #7f7f7f\">37</span></a>\n",
       "</pre>\n"
      ],
      "text/plain": [
       "\u001b[38;5;46m        \u001b[0m\u001b[38;5;46m \u001b[0m\u001b[38;5;134mWARNING \u001b[0m \u001b[1;38;5;251m but are inform you about optional packages that can be installed                 \u001b[0m\u001b[1;38;5;251m \u001b[0m\u001b]8;id=643335;file:///Users/eneights/opt/anaconda3/envs/cosipy/lib/python3.9/site-packages/threeML/__init__.py\u001b\\\u001b[2m__init__.py\u001b[0m\u001b]8;;\u001b\\\u001b[2m:\u001b[0m\u001b]8;id=722180;file:///Users/eneights/opt/anaconda3/envs/cosipy/lib/python3.9/site-packages/threeML/__init__.py#37\u001b\\\u001b[2m37\u001b[0m\u001b]8;;\u001b\\\n"
      ]
     },
     "metadata": {},
     "output_type": "display_data"
    },
    {
     "data": {
      "text/html": [
       "<pre style=\"white-space:pre;overflow-x:auto;line-height:normal;font-family:Menlo,'DejaVu Sans Mono',consolas,'Courier New',monospace\"><span style=\"color: #00ff00; text-decoration-color: #00ff00\">         </span><span style=\"color: #af5fd7; text-decoration-color: #af5fd7\">WARNING </span> <span style=\"color: #c6c6c6; text-decoration-color: #c6c6c6; font-weight: bold\"> </span><span style=\"color: #800000; text-decoration-color: #800000; font-weight: bold\"> to disable these messages, turn off start_warning in your config file</span><span style=\"color: #c6c6c6; text-decoration-color: #c6c6c6; font-weight: bold\">            </span><a href=\"file:///Users/eneights/opt/anaconda3/envs/cosipy/lib/python3.9/site-packages/threeML/__init__.py\" target=\"_blank\"><span style=\"color: #7f7f7f; text-decoration-color: #7f7f7f\">__init__.py</span></a><span style=\"color: #7f7f7f; text-decoration-color: #7f7f7f\">:</span><a href=\"file:///Users/eneights/opt/anaconda3/envs/cosipy/lib/python3.9/site-packages/threeML/__init__.py#40\" target=\"_blank\"><span style=\"color: #7f7f7f; text-decoration-color: #7f7f7f\">40</span></a>\n",
       "</pre>\n"
      ],
      "text/plain": [
       "\u001b[38;5;46m        \u001b[0m\u001b[38;5;46m \u001b[0m\u001b[38;5;134mWARNING \u001b[0m \u001b[1;38;5;251m \u001b[0m\u001b[1;31m to disable these messages, turn off start_warning in your config file\u001b[0m\u001b[1;38;5;251m           \u001b[0m\u001b[1;38;5;251m \u001b[0m\u001b]8;id=59356;file:///Users/eneights/opt/anaconda3/envs/cosipy/lib/python3.9/site-packages/threeML/__init__.py\u001b\\\u001b[2m__init__.py\u001b[0m\u001b]8;;\u001b\\\u001b[2m:\u001b[0m\u001b]8;id=500331;file:///Users/eneights/opt/anaconda3/envs/cosipy/lib/python3.9/site-packages/threeML/__init__.py#40\u001b\\\u001b[2m40\u001b[0m\u001b]8;;\u001b\\\n"
      ]
     },
     "metadata": {},
     "output_type": "display_data"
    },
    {
     "data": {
      "text/html": [
       "<pre style=\"white-space:pre;overflow-x:auto;line-height:normal;font-family:Menlo,'DejaVu Sans Mono',consolas,'Courier New',monospace\"><span style=\"color: #00ff00; text-decoration-color: #00ff00\">         </span><span style=\"color: #af5fd7; text-decoration-color: #af5fd7\">WARNING </span> <span style=\"color: #c6c6c6; text-decoration-color: #c6c6c6; font-weight: bold\"> ROOT minimizer not available                                                </span><a href=\"file:///Users/eneights/opt/anaconda3/envs/cosipy/lib/python3.9/site-packages/threeML/minimizer/minimization.py\" target=\"_blank\"><span style=\"color: #7f7f7f; text-decoration-color: #7f7f7f\">minimization.py</span></a><span style=\"color: #7f7f7f; text-decoration-color: #7f7f7f\">:</span><a href=\"file:///Users/eneights/opt/anaconda3/envs/cosipy/lib/python3.9/site-packages/threeML/minimizer/minimization.py#1345\" target=\"_blank\"><span style=\"color: #7f7f7f; text-decoration-color: #7f7f7f\">1345</span></a>\n",
       "</pre>\n"
      ],
      "text/plain": [
       "\u001b[38;5;46m        \u001b[0m\u001b[38;5;46m \u001b[0m\u001b[38;5;134mWARNING \u001b[0m \u001b[1;38;5;251m ROOT minimizer not available                                               \u001b[0m\u001b[1;38;5;251m \u001b[0m\u001b]8;id=696880;file:///Users/eneights/opt/anaconda3/envs/cosipy/lib/python3.9/site-packages/threeML/minimizer/minimization.py\u001b\\\u001b[2mminimization.py\u001b[0m\u001b]8;;\u001b\\\u001b[2m:\u001b[0m\u001b]8;id=95505;file:///Users/eneights/opt/anaconda3/envs/cosipy/lib/python3.9/site-packages/threeML/minimizer/minimization.py#1345\u001b\\\u001b[2m1345\u001b[0m\u001b]8;;\u001b\\\n"
      ]
     },
     "metadata": {},
     "output_type": "display_data"
    },
    {
     "data": {
      "text/html": [
       "<pre style=\"white-space:pre;overflow-x:auto;line-height:normal;font-family:Menlo,'DejaVu Sans Mono',consolas,'Courier New',monospace\"><span style=\"color: #00ff00; text-decoration-color: #00ff00\">         </span><span style=\"color: #af5fd7; text-decoration-color: #af5fd7\">WARNING </span> <span style=\"color: #c6c6c6; text-decoration-color: #c6c6c6; font-weight: bold\"> Multinest minimizer not available                                           </span><a href=\"file:///Users/eneights/opt/anaconda3/envs/cosipy/lib/python3.9/site-packages/threeML/minimizer/minimization.py\" target=\"_blank\"><span style=\"color: #7f7f7f; text-decoration-color: #7f7f7f\">minimization.py</span></a><span style=\"color: #7f7f7f; text-decoration-color: #7f7f7f\">:</span><a href=\"file:///Users/eneights/opt/anaconda3/envs/cosipy/lib/python3.9/site-packages/threeML/minimizer/minimization.py#1357\" target=\"_blank\"><span style=\"color: #7f7f7f; text-decoration-color: #7f7f7f\">1357</span></a>\n",
       "</pre>\n"
      ],
      "text/plain": [
       "\u001b[38;5;46m        \u001b[0m\u001b[38;5;46m \u001b[0m\u001b[38;5;134mWARNING \u001b[0m \u001b[1;38;5;251m Multinest minimizer not available                                          \u001b[0m\u001b[1;38;5;251m \u001b[0m\u001b]8;id=719197;file:///Users/eneights/opt/anaconda3/envs/cosipy/lib/python3.9/site-packages/threeML/minimizer/minimization.py\u001b\\\u001b[2mminimization.py\u001b[0m\u001b]8;;\u001b\\\u001b[2m:\u001b[0m\u001b]8;id=691183;file:///Users/eneights/opt/anaconda3/envs/cosipy/lib/python3.9/site-packages/threeML/minimizer/minimization.py#1357\u001b\\\u001b[2m1357\u001b[0m\u001b]8;;\u001b\\\n"
      ]
     },
     "metadata": {},
     "output_type": "display_data"
    },
    {
     "data": {
      "text/html": [
       "<pre style=\"white-space:pre;overflow-x:auto;line-height:normal;font-family:Menlo,'DejaVu Sans Mono',consolas,'Courier New',monospace\"><span style=\"color: #00ff00; text-decoration-color: #00ff00\">         </span><span style=\"color: #af5fd7; text-decoration-color: #af5fd7\">WARNING </span> <span style=\"color: #c6c6c6; text-decoration-color: #c6c6c6; font-weight: bold\"> PyGMO is not available                                                      </span><a href=\"file:///Users/eneights/opt/anaconda3/envs/cosipy/lib/python3.9/site-packages/threeML/minimizer/minimization.py\" target=\"_blank\"><span style=\"color: #7f7f7f; text-decoration-color: #7f7f7f\">minimization.py</span></a><span style=\"color: #7f7f7f; text-decoration-color: #7f7f7f\">:</span><a href=\"file:///Users/eneights/opt/anaconda3/envs/cosipy/lib/python3.9/site-packages/threeML/minimizer/minimization.py#1369\" target=\"_blank\"><span style=\"color: #7f7f7f; text-decoration-color: #7f7f7f\">1369</span></a>\n",
       "</pre>\n"
      ],
      "text/plain": [
       "\u001b[38;5;46m        \u001b[0m\u001b[38;5;46m \u001b[0m\u001b[38;5;134mWARNING \u001b[0m \u001b[1;38;5;251m PyGMO is not available                                                     \u001b[0m\u001b[1;38;5;251m \u001b[0m\u001b]8;id=18839;file:///Users/eneights/opt/anaconda3/envs/cosipy/lib/python3.9/site-packages/threeML/minimizer/minimization.py\u001b\\\u001b[2mminimization.py\u001b[0m\u001b]8;;\u001b\\\u001b[2m:\u001b[0m\u001b]8;id=498828;file:///Users/eneights/opt/anaconda3/envs/cosipy/lib/python3.9/site-packages/threeML/minimizer/minimization.py#1369\u001b\\\u001b[2m1369\u001b[0m\u001b]8;;\u001b\\\n"
      ]
     },
     "metadata": {},
     "output_type": "display_data"
    },
    {
     "data": {
      "text/html": [
       "<pre style=\"white-space:pre;overflow-x:auto;line-height:normal;font-family:Menlo,'DejaVu Sans Mono',consolas,'Courier New',monospace\"><span style=\"color: #00ff00; text-decoration-color: #00ff00\">         </span><span style=\"color: #af5fd7; text-decoration-color: #af5fd7\">WARNING </span> <span style=\"color: #c6c6c6; text-decoration-color: #c6c6c6; font-weight: bold\"> The cthreeML package is not installed. You will not be able to use plugins which  </span><a href=\"file:///Users/eneights/opt/anaconda3/envs/cosipy/lib/python3.9/site-packages/threeML/__init__.py\" target=\"_blank\"><span style=\"color: #7f7f7f; text-decoration-color: #7f7f7f\">__init__.py</span></a><span style=\"color: #7f7f7f; text-decoration-color: #7f7f7f\">:</span><a href=\"file:///Users/eneights/opt/anaconda3/envs/cosipy/lib/python3.9/site-packages/threeML/__init__.py#94\" target=\"_blank\"><span style=\"color: #7f7f7f; text-decoration-color: #7f7f7f\">94</span></a>\n",
       "<span style=\"color: #00ff00; text-decoration-color: #00ff00\">         </span>         <span style=\"color: #c6c6c6; text-decoration-color: #c6c6c6; font-weight: bold\">require the C/C++ interface (currently HAWC)                                       </span><span style=\"color: #7f7f7f; text-decoration-color: #7f7f7f\">              </span>\n",
       "</pre>\n"
      ],
      "text/plain": [
       "\u001b[38;5;46m        \u001b[0m\u001b[38;5;46m \u001b[0m\u001b[38;5;134mWARNING \u001b[0m \u001b[1;38;5;251m The cthreeML package is not installed. You will not be able to use plugins which \u001b[0m\u001b[1;38;5;251m \u001b[0m\u001b]8;id=640317;file:///Users/eneights/opt/anaconda3/envs/cosipy/lib/python3.9/site-packages/threeML/__init__.py\u001b\\\u001b[2m__init__.py\u001b[0m\u001b]8;;\u001b\\\u001b[2m:\u001b[0m\u001b]8;id=634009;file:///Users/eneights/opt/anaconda3/envs/cosipy/lib/python3.9/site-packages/threeML/__init__.py#94\u001b\\\u001b[2m94\u001b[0m\u001b]8;;\u001b\\\n",
       "\u001b[38;5;46m         \u001b[0m         \u001b[1;38;5;251mrequire the C/C++ interface \u001b[0m\u001b[1;38;5;251m(\u001b[0m\u001b[1;38;5;251mcurrently HAWC\u001b[0m\u001b[1;38;5;251m)\u001b[0m\u001b[1;38;5;251m                                      \u001b[0m\u001b[1;38;5;251m \u001b[0m\u001b[2m              \u001b[0m\n"
      ]
     },
     "metadata": {},
     "output_type": "display_data"
    },
    {
     "data": {
      "text/html": [
       "<pre style=\"white-space:pre;overflow-x:auto;line-height:normal;font-family:Menlo,'DejaVu Sans Mono',consolas,'Courier New',monospace\"><span style=\"color: #00ff00; text-decoration-color: #00ff00\">         </span><span style=\"color: #af5fd7; text-decoration-color: #af5fd7\">WARNING </span> <span style=\"color: #c6c6c6; text-decoration-color: #c6c6c6; font-weight: bold\"> Could not import plugin HAWCLike.py. Do you have the relative instrument         </span><a href=\"file:///Users/eneights/opt/anaconda3/envs/cosipy/lib/python3.9/site-packages/threeML/__init__.py\" target=\"_blank\"><span style=\"color: #7f7f7f; text-decoration-color: #7f7f7f\">__init__.py</span></a><span style=\"color: #7f7f7f; text-decoration-color: #7f7f7f\">:</span><a href=\"file:///Users/eneights/opt/anaconda3/envs/cosipy/lib/python3.9/site-packages/threeML/__init__.py#144\" target=\"_blank\"><span style=\"color: #7f7f7f; text-decoration-color: #7f7f7f\">144</span></a>\n",
       "<span style=\"color: #00ff00; text-decoration-color: #00ff00\">         </span>         <span style=\"color: #c6c6c6; text-decoration-color: #c6c6c6; font-weight: bold\">software installed and configured?                                                </span><span style=\"color: #7f7f7f; text-decoration-color: #7f7f7f\">               </span>\n",
       "</pre>\n"
      ],
      "text/plain": [
       "\u001b[38;5;46m        \u001b[0m\u001b[38;5;46m \u001b[0m\u001b[38;5;134mWARNING \u001b[0m \u001b[1;38;5;251m Could not import plugin HAWCLike.py. Do you have the relative instrument        \u001b[0m\u001b[1;38;5;251m \u001b[0m\u001b]8;id=943556;file:///Users/eneights/opt/anaconda3/envs/cosipy/lib/python3.9/site-packages/threeML/__init__.py\u001b\\\u001b[2m__init__.py\u001b[0m\u001b]8;;\u001b\\\u001b[2m:\u001b[0m\u001b]8;id=800043;file:///Users/eneights/opt/anaconda3/envs/cosipy/lib/python3.9/site-packages/threeML/__init__.py#144\u001b\\\u001b[2m144\u001b[0m\u001b]8;;\u001b\\\n",
       "\u001b[38;5;46m         \u001b[0m         \u001b[1;38;5;251msoftware installed and configured?                                               \u001b[0m\u001b[1;38;5;251m \u001b[0m\u001b[2m               \u001b[0m\n"
      ]
     },
     "metadata": {},
     "output_type": "display_data"
    },
    {
     "data": {
      "text/html": [
       "<pre style=\"white-space:pre;overflow-x:auto;line-height:normal;font-family:Menlo,'DejaVu Sans Mono',consolas,'Courier New',monospace\"><span style=\"color: #00ff00; text-decoration-color: #00ff00\">         </span><span style=\"color: #af5fd7; text-decoration-color: #af5fd7\">WARNING </span> <span style=\"color: #c6c6c6; text-decoration-color: #c6c6c6; font-weight: bold\"> Could not import plugin FermiLATLike.py. Do you have the relative instrument     </span><a href=\"file:///Users/eneights/opt/anaconda3/envs/cosipy/lib/python3.9/site-packages/threeML/__init__.py\" target=\"_blank\"><span style=\"color: #7f7f7f; text-decoration-color: #7f7f7f\">__init__.py</span></a><span style=\"color: #7f7f7f; text-decoration-color: #7f7f7f\">:</span><a href=\"file:///Users/eneights/opt/anaconda3/envs/cosipy/lib/python3.9/site-packages/threeML/__init__.py#144\" target=\"_blank\"><span style=\"color: #7f7f7f; text-decoration-color: #7f7f7f\">144</span></a>\n",
       "<span style=\"color: #00ff00; text-decoration-color: #00ff00\">         </span>         <span style=\"color: #c6c6c6; text-decoration-color: #c6c6c6; font-weight: bold\">software installed and configured?                                                </span><span style=\"color: #7f7f7f; text-decoration-color: #7f7f7f\">               </span>\n",
       "</pre>\n"
      ],
      "text/plain": [
       "\u001b[38;5;46m        \u001b[0m\u001b[38;5;46m \u001b[0m\u001b[38;5;134mWARNING \u001b[0m \u001b[1;38;5;251m Could not import plugin FermiLATLike.py. Do you have the relative instrument    \u001b[0m\u001b[1;38;5;251m \u001b[0m\u001b]8;id=304308;file:///Users/eneights/opt/anaconda3/envs/cosipy/lib/python3.9/site-packages/threeML/__init__.py\u001b\\\u001b[2m__init__.py\u001b[0m\u001b]8;;\u001b\\\u001b[2m:\u001b[0m\u001b]8;id=398368;file:///Users/eneights/opt/anaconda3/envs/cosipy/lib/python3.9/site-packages/threeML/__init__.py#144\u001b\\\u001b[2m144\u001b[0m\u001b]8;;\u001b\\\n",
       "\u001b[38;5;46m         \u001b[0m         \u001b[1;38;5;251msoftware installed and configured?                                               \u001b[0m\u001b[1;38;5;251m \u001b[0m\u001b[2m               \u001b[0m\n"
      ]
     },
     "metadata": {},
     "output_type": "display_data"
    },
    {
     "data": {
      "text/html": [
       "<pre style=\"white-space:pre;overflow-x:auto;line-height:normal;font-family:Menlo,'DejaVu Sans Mono',consolas,'Courier New',monospace\"><span style=\"color: #00ff00; text-decoration-color: #00ff00\">         </span><span style=\"color: #af5fd7; text-decoration-color: #af5fd7\">WARNING </span> <span style=\"color: #c6c6c6; text-decoration-color: #c6c6c6; font-weight: bold\"> No fermitools installed                                              </span><a href=\"file:///Users/eneights/opt/anaconda3/envs/cosipy/lib/python3.9/site-packages/threeML/utils/data_builders/fermi/lat_transient_builder.py\" target=\"_blank\"><span style=\"color: #7f7f7f; text-decoration-color: #7f7f7f\">lat_transient_builder.py</span></a><span style=\"color: #7f7f7f; text-decoration-color: #7f7f7f\">:</span><a href=\"file:///Users/eneights/opt/anaconda3/envs/cosipy/lib/python3.9/site-packages/threeML/utils/data_builders/fermi/lat_transient_builder.py#44\" target=\"_blank\"><span style=\"color: #7f7f7f; text-decoration-color: #7f7f7f\">44</span></a>\n",
       "</pre>\n"
      ],
      "text/plain": [
       "\u001b[38;5;46m        \u001b[0m\u001b[38;5;46m \u001b[0m\u001b[38;5;134mWARNING \u001b[0m \u001b[1;38;5;251m No fermitools installed                                             \u001b[0m\u001b[1;38;5;251m \u001b[0m\u001b]8;id=835055;file:///Users/eneights/opt/anaconda3/envs/cosipy/lib/python3.9/site-packages/threeML/utils/data_builders/fermi/lat_transient_builder.py\u001b\\\u001b[2mlat_transient_builder.py\u001b[0m\u001b]8;;\u001b\\\u001b[2m:\u001b[0m\u001b]8;id=986923;file:///Users/eneights/opt/anaconda3/envs/cosipy/lib/python3.9/site-packages/threeML/utils/data_builders/fermi/lat_transient_builder.py#44\u001b\\\u001b[2m44\u001b[0m\u001b]8;;\u001b\\\n"
      ]
     },
     "metadata": {},
     "output_type": "display_data"
    },
    {
     "data": {
      "text/html": [
       "<pre style=\"white-space:pre;overflow-x:auto;line-height:normal;font-family:Menlo,'DejaVu Sans Mono',consolas,'Courier New',monospace\"><span style=\"color: #00ff00; text-decoration-color: #00ff00\">         </span><span style=\"color: #af5fd7; text-decoration-color: #af5fd7\">WARNING </span> <span style=\"color: #c6c6c6; text-decoration-color: #c6c6c6; font-weight: bold\"> Env. variable OMP_NUM_THREADS is not set. Please set it to </span><span style=\"color: #c0c0c0; text-decoration-color: #c0c0c0; font-weight: bold\">1</span><span style=\"color: #c6c6c6; text-decoration-color: #c6c6c6; font-weight: bold\"> for optimal         </span><a href=\"file:///Users/eneights/opt/anaconda3/envs/cosipy/lib/python3.9/site-packages/threeML/__init__.py\" target=\"_blank\"><span style=\"color: #7f7f7f; text-decoration-color: #7f7f7f\">__init__.py</span></a><span style=\"color: #7f7f7f; text-decoration-color: #7f7f7f\">:</span><a href=\"file:///Users/eneights/opt/anaconda3/envs/cosipy/lib/python3.9/site-packages/threeML/__init__.py#387\" target=\"_blank\"><span style=\"color: #7f7f7f; text-decoration-color: #7f7f7f\">387</span></a>\n",
       "<span style=\"color: #00ff00; text-decoration-color: #00ff00\">         </span>         <span style=\"color: #c6c6c6; text-decoration-color: #c6c6c6; font-weight: bold\">performances in 3ML                                                               </span><span style=\"color: #7f7f7f; text-decoration-color: #7f7f7f\">               </span>\n",
       "</pre>\n"
      ],
      "text/plain": [
       "\u001b[38;5;46m        \u001b[0m\u001b[38;5;46m \u001b[0m\u001b[38;5;134mWARNING \u001b[0m \u001b[1;38;5;251m Env. variable OMP_NUM_THREADS is not set. Please set it to \u001b[0m\u001b[1;37m1\u001b[0m\u001b[1;38;5;251m for optimal        \u001b[0m\u001b[1;38;5;251m \u001b[0m\u001b]8;id=559233;file:///Users/eneights/opt/anaconda3/envs/cosipy/lib/python3.9/site-packages/threeML/__init__.py\u001b\\\u001b[2m__init__.py\u001b[0m\u001b]8;;\u001b\\\u001b[2m:\u001b[0m\u001b]8;id=178244;file:///Users/eneights/opt/anaconda3/envs/cosipy/lib/python3.9/site-packages/threeML/__init__.py#387\u001b\\\u001b[2m387\u001b[0m\u001b]8;;\u001b\\\n",
       "\u001b[38;5;46m         \u001b[0m         \u001b[1;38;5;251mperformances in 3ML                                                              \u001b[0m\u001b[1;38;5;251m \u001b[0m\u001b[2m               \u001b[0m\n"
      ]
     },
     "metadata": {},
     "output_type": "display_data"
    },
    {
     "data": {
      "text/html": [
       "<pre style=\"white-space:pre;overflow-x:auto;line-height:normal;font-family:Menlo,'DejaVu Sans Mono',consolas,'Courier New',monospace\"><span style=\"color: #00ff00; text-decoration-color: #00ff00\">         </span><span style=\"color: #af5fd7; text-decoration-color: #af5fd7\">WARNING </span> <span style=\"color: #c6c6c6; text-decoration-color: #c6c6c6; font-weight: bold\"> Env. variable MKL_NUM_THREADS is not set. Please set it to </span><span style=\"color: #c0c0c0; text-decoration-color: #c0c0c0; font-weight: bold\">1</span><span style=\"color: #c6c6c6; text-decoration-color: #c6c6c6; font-weight: bold\"> for optimal         </span><a href=\"file:///Users/eneights/opt/anaconda3/envs/cosipy/lib/python3.9/site-packages/threeML/__init__.py\" target=\"_blank\"><span style=\"color: #7f7f7f; text-decoration-color: #7f7f7f\">__init__.py</span></a><span style=\"color: #7f7f7f; text-decoration-color: #7f7f7f\">:</span><a href=\"file:///Users/eneights/opt/anaconda3/envs/cosipy/lib/python3.9/site-packages/threeML/__init__.py#387\" target=\"_blank\"><span style=\"color: #7f7f7f; text-decoration-color: #7f7f7f\">387</span></a>\n",
       "<span style=\"color: #00ff00; text-decoration-color: #00ff00\">         </span>         <span style=\"color: #c6c6c6; text-decoration-color: #c6c6c6; font-weight: bold\">performances in 3ML                                                               </span><span style=\"color: #7f7f7f; text-decoration-color: #7f7f7f\">               </span>\n",
       "</pre>\n"
      ],
      "text/plain": [
       "\u001b[38;5;46m        \u001b[0m\u001b[38;5;46m \u001b[0m\u001b[38;5;134mWARNING \u001b[0m \u001b[1;38;5;251m Env. variable MKL_NUM_THREADS is not set. Please set it to \u001b[0m\u001b[1;37m1\u001b[0m\u001b[1;38;5;251m for optimal        \u001b[0m\u001b[1;38;5;251m \u001b[0m\u001b]8;id=711084;file:///Users/eneights/opt/anaconda3/envs/cosipy/lib/python3.9/site-packages/threeML/__init__.py\u001b\\\u001b[2m__init__.py\u001b[0m\u001b]8;;\u001b\\\u001b[2m:\u001b[0m\u001b]8;id=986399;file:///Users/eneights/opt/anaconda3/envs/cosipy/lib/python3.9/site-packages/threeML/__init__.py#387\u001b\\\u001b[2m387\u001b[0m\u001b]8;;\u001b\\\n",
       "\u001b[38;5;46m         \u001b[0m         \u001b[1;38;5;251mperformances in 3ML                                                              \u001b[0m\u001b[1;38;5;251m \u001b[0m\u001b[2m               \u001b[0m\n"
      ]
     },
     "metadata": {},
     "output_type": "display_data"
    },
    {
     "data": {
      "text/html": [
       "<pre style=\"white-space:pre;overflow-x:auto;line-height:normal;font-family:Menlo,'DejaVu Sans Mono',consolas,'Courier New',monospace\"><span style=\"color: #00ff00; text-decoration-color: #00ff00\">         </span><span style=\"color: #af5fd7; text-decoration-color: #af5fd7\">WARNING </span> <span style=\"color: #c6c6c6; text-decoration-color: #c6c6c6; font-weight: bold\"> Env. variable NUMEXPR_NUM_THREADS is not set. Please set it to </span><span style=\"color: #c0c0c0; text-decoration-color: #c0c0c0; font-weight: bold\">1</span><span style=\"color: #c6c6c6; text-decoration-color: #c6c6c6; font-weight: bold\"> for optimal     </span><a href=\"file:///Users/eneights/opt/anaconda3/envs/cosipy/lib/python3.9/site-packages/threeML/__init__.py\" target=\"_blank\"><span style=\"color: #7f7f7f; text-decoration-color: #7f7f7f\">__init__.py</span></a><span style=\"color: #7f7f7f; text-decoration-color: #7f7f7f\">:</span><a href=\"file:///Users/eneights/opt/anaconda3/envs/cosipy/lib/python3.9/site-packages/threeML/__init__.py#387\" target=\"_blank\"><span style=\"color: #7f7f7f; text-decoration-color: #7f7f7f\">387</span></a>\n",
       "<span style=\"color: #00ff00; text-decoration-color: #00ff00\">         </span>         <span style=\"color: #c6c6c6; text-decoration-color: #c6c6c6; font-weight: bold\">performances in 3ML                                                               </span><span style=\"color: #7f7f7f; text-decoration-color: #7f7f7f\">               </span>\n",
       "</pre>\n"
      ],
      "text/plain": [
       "\u001b[38;5;46m        \u001b[0m\u001b[38;5;46m \u001b[0m\u001b[38;5;134mWARNING \u001b[0m \u001b[1;38;5;251m Env. variable NUMEXPR_NUM_THREADS is not set. Please set it to \u001b[0m\u001b[1;37m1\u001b[0m\u001b[1;38;5;251m for optimal    \u001b[0m\u001b[1;38;5;251m \u001b[0m\u001b]8;id=170357;file:///Users/eneights/opt/anaconda3/envs/cosipy/lib/python3.9/site-packages/threeML/__init__.py\u001b\\\u001b[2m__init__.py\u001b[0m\u001b]8;;\u001b\\\u001b[2m:\u001b[0m\u001b]8;id=125057;file:///Users/eneights/opt/anaconda3/envs/cosipy/lib/python3.9/site-packages/threeML/__init__.py#387\u001b\\\u001b[2m387\u001b[0m\u001b]8;;\u001b\\\n",
       "\u001b[38;5;46m         \u001b[0m         \u001b[1;38;5;251mperformances in 3ML                                                              \u001b[0m\u001b[1;38;5;251m \u001b[0m\u001b[2m               \u001b[0m\n"
      ]
     },
     "metadata": {},
     "output_type": "display_data"
    }
   ],
   "source": [
    "from cosipy import COSILike, test_data, BinnedData\n",
    "from cosipy.spacecraftfile import SpacecraftFile\n",
    "from cosipy.response.FullDetectorResponse import FullDetectorResponse\n",
    "\n",
    "from scoords import SpacecraftFrame\n",
    "\n",
    "from astropy.time import Time\n",
    "import astropy.units as u\n",
    "from astropy.coordinates import SkyCoord\n",
    "\n",
    "import numpy as np\n",
    "import matplotlib.pyplot as plt\n",
    "\n",
    "from threeML import Constant, DiracDelta, PointSource, Model, JointLikelihood, DataList\n",
    "from astromodels import Parameter"
   ]
  },
  {
   "cell_type": "markdown",
   "id": "8d1c0168-9823-4eb7-930e-5dc61d6448ca",
   "metadata": {},
   "source": [
    "## Read in binned data"
   ]
  },
  {
   "cell_type": "markdown",
   "id": "d898bbd7-9ed0-4a27-bd5a-67414178733d",
   "metadata": {},
   "source": [
    "Read in the spacecraft orientation file & select the beginning and end times of the GRB"
   ]
  },
  {
   "cell_type": "code",
   "execution_count": 2,
   "id": "ed2c03a0-63e3-4044-9e16-50f0f17996af",
   "metadata": {},
   "outputs": [],
   "source": [
    "ori = SpacecraftFile.parse_from_file(test_data.path / \"20280301_first_2hrs.ori\")\n",
    "tmin = Time(1835479878.0,format = 'unix')\n",
    "tmax = Time(1835479880.0,format = 'unix')\n",
    "sc_orientation = ori.source_interval(tmin, tmax)\n",
    "sc_orientation.frame = 'icrs'"
   ]
  },
  {
   "cell_type": "markdown",
   "id": "f579870f-c854-450d-84e8-f1d5ef0753d1",
   "metadata": {},
   "source": [
    "Create BinnedData objects for the GRB only, GRB+background, and background only. The GRB only simulation is not used for the spectral fit, but can be used to compare the fitted spectrum to the source simulation"
   ]
  },
  {
   "cell_type": "code",
   "execution_count": 3,
   "id": "3b5faaa1-1874-4d43-a6ae-7e1b0aaabb26",
   "metadata": {},
   "outputs": [],
   "source": [
    "grb = BinnedData(test_data.path / \"grb_511.yaml\")\n",
    "grb_bkg = BinnedData(test_data.path / \"grb_511.yaml\")\n",
    "bkg = BinnedData(test_data.path / \"background_511.yaml\")"
   ]
  },
  {
   "cell_type": "markdown",
   "id": "cf8b5ab1-7452-493e-b516-73fa72e455e5",
   "metadata": {},
   "source": [
    "Load binned .hdf5 files"
   ]
  },
  {
   "cell_type": "code",
   "execution_count": 4,
   "id": "620159d2-f01a-453e-9e4c-075c99740086",
   "metadata": {},
   "outputs": [],
   "source": [
    "grb.load_binned_data_from_hdf5(binned_data=test_data.path / \"grb_binned_data_511.hdf5\")\n",
    "grb_bkg.load_binned_data_from_hdf5(binned_data=test_data.path / \"grb_bkg_binned_data_511.hdf5\")\n",
    "bkg.load_binned_data_from_hdf5(binned_data=test_data.path / \"bkg_binned_data_full_511.hdf5\")"
   ]
  },
  {
   "cell_type": "markdown",
   "id": "a6bdaee8-45d7-41df-9835-413c1e397c12",
   "metadata": {},
   "source": [
    "Define the path to the detector response"
   ]
  },
  {
   "cell_type": "code",
   "execution_count": 5,
   "id": "acccab93-7f9c-4167-a8f9-eedcf74b8a05",
   "metadata": {},
   "outputs": [],
   "source": [
    "dr = str(test_data.path / \"Isotropic.511keV.p.binnedimaging.imagingresponse_nside16.area.h5\") # path to detector response"
   ]
  },
  {
   "cell_type": "markdown",
   "id": "31b5dbd7-8a50-43db-af66-7b8601f7e2fd",
   "metadata": {
    "tags": []
   },
   "source": [
    "## Perform spectral fit (constant function)"
   ]
  },
  {
   "cell_type": "markdown",
   "id": "7441f3f1-ebe6-467f-b8ab-1baa70f20b15",
   "metadata": {},
   "source": [
    "Set background parameter, which is used to fit the amplitude of the background, and instantiate the COSI 3ML plugin"
   ]
  },
  {
   "cell_type": "code",
   "execution_count": 6,
   "id": "a9f21e74-5f62-4030-9815-6c77ebaab16f",
   "metadata": {},
   "outputs": [],
   "source": [
    "bkg_par = Parameter(\"background_cosi\",                                        # background parameter\n",
    "                    2.8e-4,                                                   # initial value of parameter\n",
    "                    min_value=0,                                              # minimum value of parameter\n",
    "                    max_value=5,                                              # maximum value of parameter\n",
    "                    delta=0.05,                                               # initial step used by fitting engine\n",
    "                    desc=\"Background parameter for cosi\")\n",
    "\n",
    "cosi = COSILike(\"cosi\",                                                       # COSI 3ML plugin\n",
    "                dr = dr,                                                      # detector response\n",
    "                data = grb_bkg.binned_data.project('Em', 'Phi', 'PsiChi'),    # data (source+background)\n",
    "                bkg = bkg.binned_data.project('Em', 'Phi', 'PsiChi'),         # background model \n",
    "                sc_orientation = sc_orientation,                              # spacecraft orientation\n",
    "                nuisance_param = bkg_par,                                     # background parameter\n",
    "                alt_like=True)                                                # uses alternate log likelihood function (temporary fix for line fitting)"
   ]
  },
  {
   "cell_type": "markdown",
   "id": "e6d55283-abb0-4295-9e5c-80a5c717f0ba",
   "metadata": {},
   "source": [
    "Define a point source at the known location with a constant spectrum and add it to the model"
   ]
  },
  {
   "cell_type": "code",
   "execution_count": 7,
   "id": "98b2d026-c24d-4cfe-8b7b-41415fce5d16",
   "metadata": {},
   "outputs": [],
   "source": [
    "l = 340.\n",
    "b = 45.\n",
    "\n",
    "k = 5/4 / u.keV / u.s / u.cm / u.cm         # Setting parameters to something reasonable helps the fitting to converge\n",
    "spectrum = Constant(k=k.value)\n",
    "spectrum.k.unit = k.unit\n",
    "\n",
    "source = PointSource(\"source\",                     # Name of source (arbitrary, but needs to be unique)\n",
    "                     l = l,                        # Longitude (deg)\n",
    "                     b = b,                        # Latitude (deg)\n",
    "                     spectral_shape = spectrum)    # Spectral model\n",
    "\n",
    "# Optional: free the position parameters\n",
    "#source.position.l.free = True\n",
    "#source.position.b.free = True\n",
    "\n",
    "model = Model(source)                              # Model with single source. If we had multiple sources, we would do Model(source1, source2, ...)\n",
    "\n",
    "# Optional: if you want to call get_log_like manually, then you also need to set the model manually\n",
    "# 3ML does this internally during the fit though\n",
    "cosi.set_model(model)"
   ]
  },
  {
   "cell_type": "markdown",
   "id": "27ded6d5-4551-4623-8483-b3f4e8b02040",
   "metadata": {},
   "source": [
    "Gather all plugins and combine with the model in a JointLikelihood object, then perform maximum likelihood fit"
   ]
  },
  {
   "cell_type": "code",
   "execution_count": 8,
   "id": "d56d3ad6-7226-437a-a037-57fbcd80d196",
   "metadata": {
    "scrolled": true,
    "tags": []
   },
   "outputs": [
    {
     "data": {
      "text/html": [
       "<pre style=\"white-space:pre;overflow-x:auto;line-height:normal;font-family:Menlo,'DejaVu Sans Mono',consolas,'Courier New',monospace\"><span style=\"color: #00ff00; text-decoration-color: #00ff00\">00:00:00 </span><span style=\"color: #00ffaf; text-decoration-color: #00ffaf\">INFO    </span> <span style=\"color: #c6c6c6; text-decoration-color: #c6c6c6; font-weight: bold\"> set the minimizer to minuit                                             </span><a href=\"file:///Users/eneights/opt/anaconda3/envs/cosipy/lib/python3.9/site-packages/threeML/classicMLE/joint_likelihood.py\" target=\"_blank\"><span style=\"color: #7f7f7f; text-decoration-color: #7f7f7f\">joint_likelihood.py</span></a><span style=\"color: #7f7f7f; text-decoration-color: #7f7f7f\">:</span><a href=\"file:///Users/eneights/opt/anaconda3/envs/cosipy/lib/python3.9/site-packages/threeML/classicMLE/joint_likelihood.py#1042\" target=\"_blank\"><span style=\"color: #7f7f7f; text-decoration-color: #7f7f7f\">1042</span></a>\n",
       "</pre>\n"
      ],
      "text/plain": [
       "\u001b[38;5;46m00:00:00\u001b[0m\u001b[38;5;46m \u001b[0m\u001b[38;5;49mINFO    \u001b[0m \u001b[1;38;5;251m set the minimizer to minuit                                            \u001b[0m\u001b[1;38;5;251m \u001b[0m\u001b]8;id=506108;file:///Users/eneights/opt/anaconda3/envs/cosipy/lib/python3.9/site-packages/threeML/classicMLE/joint_likelihood.py\u001b\\\u001b[2mjoint_likelihood.py\u001b[0m\u001b]8;;\u001b\\\u001b[2m:\u001b[0m\u001b]8;id=753580;file:///Users/eneights/opt/anaconda3/envs/cosipy/lib/python3.9/site-packages/threeML/classicMLE/joint_likelihood.py#1042\u001b\\\u001b[2m1042\u001b[0m\u001b]8;;\u001b\\\n"
      ]
     },
     "metadata": {},
     "output_type": "display_data"
    },
    {
     "name": "stderr",
     "output_type": "stream",
     "text": [
      "\n",
      "WARNING RuntimeWarning: divide by zero encountered in log\n",
      "\n",
      "\n",
      "WARNING RuntimeWarning: invalid value encountered in multiply\n",
      "\n",
      "\n",
      "WARNING RuntimeWarning: invalid value encountered in multiply\n",
      "\n",
      "\n",
      "WARNING RuntimeWarning: divide by zero encountered in log\n",
      "\n",
      "\n",
      "WARNING RuntimeWarning: invalid value encountered in multiply\n",
      "\n",
      "\n",
      "WARNING RuntimeWarning: invalid value encountered in multiply\n",
      "\n",
      "\n",
      "WARNING RuntimeWarning: divide by zero encountered in log\n",
      "\n",
      "\n",
      "WARNING RuntimeWarning: invalid value encountered in multiply\n",
      "\n",
      "\n",
      "WARNING RuntimeWarning: invalid value encountered in multiply\n",
      "\n",
      "\n",
      "WARNING RuntimeWarning: divide by zero encountered in log\n",
      "\n",
      "\n",
      "WARNING RuntimeWarning: invalid value encountered in multiply\n",
      "\n",
      "\n",
      "WARNING RuntimeWarning: invalid value encountered in multiply\n",
      "\n",
      "\n",
      "WARNING RuntimeWarning: divide by zero encountered in log\n",
      "\n",
      "\n",
      "WARNING RuntimeWarning: invalid value encountered in multiply\n",
      "\n",
      "\n",
      "WARNING RuntimeWarning: invalid value encountered in multiply\n",
      "\n",
      "\n",
      "WARNING RuntimeWarning: divide by zero encountered in log\n",
      "\n",
      "\n",
      "WARNING RuntimeWarning: invalid value encountered in multiply\n",
      "\n",
      "\n",
      "WARNING RuntimeWarning: invalid value encountered in multiply\n",
      "\n",
      "\n",
      "WARNING RuntimeWarning: divide by zero encountered in log\n",
      "\n",
      "\n",
      "WARNING RuntimeWarning: invalid value encountered in multiply\n",
      "\n",
      "\n",
      "WARNING RuntimeWarning: invalid value encountered in multiply\n",
      "\n",
      "\n",
      "WARNING RuntimeWarning: divide by zero encountered in log\n",
      "\n",
      "\n",
      "WARNING RuntimeWarning: invalid value encountered in multiply\n",
      "\n",
      "\n",
      "WARNING RuntimeWarning: invalid value encountered in multiply\n",
      "\n",
      "\n",
      "WARNING RuntimeWarning: divide by zero encountered in log\n",
      "\n",
      "\n",
      "WARNING RuntimeWarning: invalid value encountered in multiply\n",
      "\n",
      "\n",
      "WARNING RuntimeWarning: invalid value encountered in multiply\n",
      "\n",
      "\n",
      "WARNING RuntimeWarning: divide by zero encountered in log\n",
      "\n",
      "\n",
      "WARNING RuntimeWarning: invalid value encountered in multiply\n",
      "\n",
      "\n",
      "WARNING RuntimeWarning: invalid value encountered in multiply\n",
      "\n",
      "\n",
      "WARNING RuntimeWarning: divide by zero encountered in log\n",
      "\n",
      "\n",
      "WARNING RuntimeWarning: invalid value encountered in multiply\n",
      "\n",
      "\n",
      "WARNING RuntimeWarning: invalid value encountered in multiply\n",
      "\n",
      "\n",
      "WARNING RuntimeWarning: divide by zero encountered in log\n",
      "\n",
      "\n",
      "WARNING RuntimeWarning: invalid value encountered in multiply\n",
      "\n",
      "\n",
      "WARNING RuntimeWarning: invalid value encountered in multiply\n",
      "\n",
      "\n",
      "WARNING RuntimeWarning: divide by zero encountered in log\n",
      "\n",
      "\n",
      "WARNING RuntimeWarning: invalid value encountered in multiply\n",
      "\n",
      "\n",
      "WARNING RuntimeWarning: invalid value encountered in multiply\n",
      "\n",
      "\n",
      "WARNING RuntimeWarning: divide by zero encountered in log\n",
      "\n",
      "\n",
      "WARNING RuntimeWarning: invalid value encountered in multiply\n",
      "\n",
      "\n",
      "WARNING RuntimeWarning: invalid value encountered in multiply\n",
      "\n",
      "\n",
      "WARNING RuntimeWarning: divide by zero encountered in log\n",
      "\n",
      "\n",
      "WARNING RuntimeWarning: invalid value encountered in multiply\n",
      "\n",
      "\n",
      "WARNING RuntimeWarning: invalid value encountered in multiply\n",
      "\n",
      "\n",
      "WARNING RuntimeWarning: divide by zero encountered in log\n",
      "\n",
      "\n",
      "WARNING RuntimeWarning: invalid value encountered in multiply\n",
      "\n",
      "\n",
      "WARNING RuntimeWarning: invalid value encountered in multiply\n",
      "\n",
      "\n",
      "WARNING RuntimeWarning: divide by zero encountered in log\n",
      "\n",
      "\n",
      "WARNING RuntimeWarning: invalid value encountered in multiply\n",
      "\n",
      "\n",
      "WARNING RuntimeWarning: invalid value encountered in multiply\n",
      "\n",
      "\n",
      "WARNING RuntimeWarning: divide by zero encountered in log\n",
      "\n",
      "\n",
      "WARNING RuntimeWarning: invalid value encountered in multiply\n",
      "\n",
      "\n",
      "WARNING RuntimeWarning: invalid value encountered in multiply\n",
      "\n",
      "\n",
      "WARNING RuntimeWarning: divide by zero encountered in log\n",
      "\n",
      "\n",
      "WARNING RuntimeWarning: invalid value encountered in multiply\n",
      "\n",
      "\n",
      "WARNING RuntimeWarning: invalid value encountered in multiply\n",
      "\n",
      "\n",
      "WARNING RuntimeWarning: divide by zero encountered in log\n",
      "\n",
      "\n",
      "WARNING RuntimeWarning: invalid value encountered in multiply\n",
      "\n",
      "\n",
      "WARNING RuntimeWarning: invalid value encountered in multiply\n",
      "\n",
      "\n",
      "WARNING RuntimeWarning: divide by zero encountered in log\n",
      "\n",
      "\n",
      "WARNING RuntimeWarning: invalid value encountered in multiply\n",
      "\n",
      "\n",
      "WARNING RuntimeWarning: invalid value encountered in multiply\n",
      "\n",
      "\n",
      "WARNING RuntimeWarning: divide by zero encountered in log\n",
      "\n",
      "\n",
      "WARNING RuntimeWarning: invalid value encountered in multiply\n",
      "\n",
      "\n",
      "WARNING RuntimeWarning: invalid value encountered in multiply\n",
      "\n",
      "\n",
      "WARNING RuntimeWarning: divide by zero encountered in log\n",
      "\n",
      "\n",
      "WARNING RuntimeWarning: invalid value encountered in multiply\n",
      "\n",
      "\n",
      "WARNING RuntimeWarning: invalid value encountered in multiply\n",
      "\n",
      "\n",
      "WARNING RuntimeWarning: divide by zero encountered in log\n",
      "\n",
      "\n",
      "WARNING RuntimeWarning: invalid value encountered in multiply\n",
      "\n",
      "\n",
      "WARNING RuntimeWarning: invalid value encountered in multiply\n",
      "\n",
      "\n",
      "WARNING RuntimeWarning: divide by zero encountered in log\n",
      "\n",
      "\n",
      "WARNING RuntimeWarning: invalid value encountered in multiply\n",
      "\n",
      "\n",
      "WARNING RuntimeWarning: invalid value encountered in multiply\n",
      "\n",
      "\n",
      "WARNING RuntimeWarning: divide by zero encountered in log\n",
      "\n",
      "\n",
      "WARNING RuntimeWarning: invalid value encountered in multiply\n",
      "\n",
      "\n",
      "WARNING RuntimeWarning: invalid value encountered in multiply\n",
      "\n",
      "\n",
      "WARNING RuntimeWarning: divide by zero encountered in log\n",
      "\n",
      "\n",
      "WARNING RuntimeWarning: invalid value encountered in multiply\n",
      "\n",
      "\n",
      "WARNING RuntimeWarning: invalid value encountered in multiply\n",
      "\n",
      "\n",
      "WARNING RuntimeWarning: divide by zero encountered in log\n",
      "\n",
      "\n",
      "WARNING RuntimeWarning: invalid value encountered in multiply\n",
      "\n",
      "\n",
      "WARNING RuntimeWarning: invalid value encountered in multiply\n",
      "\n",
      "\n",
      "WARNING RuntimeWarning: divide by zero encountered in log\n",
      "\n",
      "\n",
      "WARNING RuntimeWarning: invalid value encountered in multiply\n",
      "\n",
      "\n",
      "WARNING RuntimeWarning: invalid value encountered in multiply\n",
      "\n",
      "\n",
      "WARNING RuntimeWarning: divide by zero encountered in log\n",
      "\n",
      "\n",
      "WARNING RuntimeWarning: invalid value encountered in multiply\n",
      "\n",
      "\n",
      "WARNING RuntimeWarning: invalid value encountered in multiply\n",
      "\n",
      "\n",
      "WARNING RuntimeWarning: divide by zero encountered in log\n",
      "\n",
      "\n",
      "WARNING RuntimeWarning: invalid value encountered in multiply\n",
      "\n",
      "\n",
      "WARNING RuntimeWarning: invalid value encountered in multiply\n",
      "\n",
      "\n",
      "WARNING RuntimeWarning: divide by zero encountered in log\n",
      "\n",
      "\n",
      "WARNING RuntimeWarning: invalid value encountered in multiply\n",
      "\n",
      "\n",
      "WARNING RuntimeWarning: invalid value encountered in multiply\n",
      "\n",
      "\n",
      "WARNING RuntimeWarning: divide by zero encountered in log\n",
      "\n",
      "\n",
      "WARNING RuntimeWarning: invalid value encountered in multiply\n",
      "\n",
      "\n",
      "WARNING RuntimeWarning: invalid value encountered in multiply\n",
      "\n",
      "\n",
      "WARNING RuntimeWarning: divide by zero encountered in log\n",
      "\n",
      "\n",
      "WARNING RuntimeWarning: invalid value encountered in multiply\n",
      "\n",
      "\n",
      "WARNING RuntimeWarning: invalid value encountered in multiply\n",
      "\n",
      "\n",
      "WARNING RuntimeWarning: divide by zero encountered in log\n",
      "\n",
      "\n",
      "WARNING RuntimeWarning: invalid value encountered in multiply\n",
      "\n",
      "\n",
      "WARNING RuntimeWarning: invalid value encountered in multiply\n",
      "\n",
      "\n",
      "WARNING RuntimeWarning: divide by zero encountered in log\n",
      "\n",
      "\n",
      "WARNING RuntimeWarning: invalid value encountered in multiply\n",
      "\n",
      "\n",
      "WARNING RuntimeWarning: invalid value encountered in multiply\n",
      "\n",
      "\n",
      "WARNING RuntimeWarning: divide by zero encountered in log\n",
      "\n",
      "\n",
      "WARNING RuntimeWarning: invalid value encountered in multiply\n",
      "\n",
      "\n",
      "WARNING RuntimeWarning: invalid value encountered in multiply\n",
      "\n",
      "\n",
      "WARNING RuntimeWarning: divide by zero encountered in log\n",
      "\n",
      "\n",
      "WARNING RuntimeWarning: invalid value encountered in multiply\n",
      "\n",
      "\n",
      "WARNING RuntimeWarning: invalid value encountered in multiply\n",
      "\n",
      "\n",
      "WARNING RuntimeWarning: divide by zero encountered in log\n",
      "\n",
      "\n",
      "WARNING RuntimeWarning: invalid value encountered in multiply\n",
      "\n",
      "\n",
      "WARNING RuntimeWarning: invalid value encountered in multiply\n",
      "\n",
      "\n",
      "WARNING RuntimeWarning: divide by zero encountered in log\n",
      "\n",
      "\n",
      "WARNING RuntimeWarning: invalid value encountered in multiply\n",
      "\n",
      "\n",
      "WARNING RuntimeWarning: invalid value encountered in multiply\n",
      "\n",
      "\n",
      "WARNING RuntimeWarning: divide by zero encountered in log\n",
      "\n",
      "\n",
      "WARNING RuntimeWarning: invalid value encountered in multiply\n",
      "\n",
      "\n",
      "WARNING RuntimeWarning: invalid value encountered in multiply\n",
      "\n",
      "\n",
      "WARNING RuntimeWarning: divide by zero encountered in log\n",
      "\n",
      "\n",
      "WARNING RuntimeWarning: invalid value encountered in multiply\n",
      "\n",
      "\n",
      "WARNING RuntimeWarning: invalid value encountered in multiply\n",
      "\n",
      "\n",
      "WARNING RuntimeWarning: divide by zero encountered in log\n",
      "\n",
      "\n",
      "WARNING RuntimeWarning: invalid value encountered in multiply\n",
      "\n",
      "\n",
      "WARNING RuntimeWarning: invalid value encountered in multiply\n",
      "\n",
      "\n",
      "WARNING RuntimeWarning: divide by zero encountered in log\n",
      "\n",
      "\n",
      "WARNING RuntimeWarning: invalid value encountered in multiply\n",
      "\n",
      "\n",
      "WARNING RuntimeWarning: invalid value encountered in multiply\n",
      "\n",
      "\n",
      "WARNING RuntimeWarning: divide by zero encountered in log\n",
      "\n",
      "\n",
      "WARNING RuntimeWarning: invalid value encountered in multiply\n",
      "\n",
      "\n",
      "WARNING RuntimeWarning: invalid value encountered in multiply\n",
      "\n",
      "\n",
      "WARNING RuntimeWarning: divide by zero encountered in log\n",
      "\n",
      "\n",
      "WARNING RuntimeWarning: invalid value encountered in multiply\n",
      "\n",
      "\n",
      "WARNING RuntimeWarning: invalid value encountered in multiply\n",
      "\n",
      "\n",
      "WARNING RuntimeWarning: divide by zero encountered in log\n",
      "\n",
      "\n",
      "WARNING RuntimeWarning: invalid value encountered in multiply\n",
      "\n",
      "\n",
      "WARNING RuntimeWarning: invalid value encountered in multiply\n",
      "\n",
      "\n",
      "WARNING RuntimeWarning: divide by zero encountered in log\n",
      "\n",
      "\n",
      "WARNING RuntimeWarning: invalid value encountered in multiply\n",
      "\n",
      "\n",
      "WARNING RuntimeWarning: invalid value encountered in multiply\n",
      "\n",
      "\n",
      "WARNING RuntimeWarning: divide by zero encountered in log\n",
      "\n",
      "\n",
      "WARNING RuntimeWarning: invalid value encountered in multiply\n",
      "\n",
      "\n",
      "WARNING RuntimeWarning: invalid value encountered in multiply\n",
      "\n"
     ]
    },
    {
     "data": {
      "text/html": [
       "<pre style=\"white-space:pre;overflow-x:auto;line-height:normal;font-family:Menlo,'DejaVu Sans Mono',consolas,'Courier New',monospace\"><span style=\"color: #00ff00; text-decoration-color: #00ff00\">00:00:03 </span><span style=\"color: #af5fd7; text-decoration-color: #af5fd7\">WARNING </span> <span style=\"color: #c6c6c6; text-decoration-color: #c6c6c6; font-weight: bold\"> get_number_of_data_points not implemented, values for statistical        </span><a href=\"file:///Users/eneights/opt/anaconda3/envs/cosipy/lib/python3.9/site-packages/threeML/plugin_prototype.py\" target=\"_blank\"><span style=\"color: #7f7f7f; text-decoration-color: #7f7f7f\">plugin_prototype.py</span></a><span style=\"color: #7f7f7f; text-decoration-color: #7f7f7f\">:</span><a href=\"file:///Users/eneights/opt/anaconda3/envs/cosipy/lib/python3.9/site-packages/threeML/plugin_prototype.py#128\" target=\"_blank\"><span style=\"color: #7f7f7f; text-decoration-color: #7f7f7f\">128</span></a>\n",
       "<span style=\"color: #00ff00; text-decoration-color: #00ff00\">         </span>         <span style=\"color: #c6c6c6; text-decoration-color: #c6c6c6; font-weight: bold\">measurements such as AIC or BIC are unreliable                            </span><span style=\"color: #7f7f7f; text-decoration-color: #7f7f7f\">                       </span>\n",
       "</pre>\n"
      ],
      "text/plain": [
       "\u001b[38;5;46m00:00:03\u001b[0m\u001b[38;5;46m \u001b[0m\u001b[38;5;134mWARNING \u001b[0m \u001b[1;38;5;251m get_number_of_data_points not implemented, values for statistical       \u001b[0m\u001b[1;38;5;251m \u001b[0m\u001b]8;id=325342;file:///Users/eneights/opt/anaconda3/envs/cosipy/lib/python3.9/site-packages/threeML/plugin_prototype.py\u001b\\\u001b[2mplugin_prototype.py\u001b[0m\u001b]8;;\u001b\\\u001b[2m:\u001b[0m\u001b]8;id=918594;file:///Users/eneights/opt/anaconda3/envs/cosipy/lib/python3.9/site-packages/threeML/plugin_prototype.py#128\u001b\\\u001b[2m128\u001b[0m\u001b]8;;\u001b\\\n",
       "\u001b[38;5;46m         \u001b[0m         \u001b[1;38;5;251mmeasurements such as AIC or BIC are unreliable                           \u001b[0m\u001b[1;38;5;251m \u001b[0m\u001b[2m                       \u001b[0m\n"
      ]
     },
     "metadata": {},
     "output_type": "display_data"
    },
    {
     "data": {
      "text/html": [
       "<pre style=\"white-space:pre;overflow-x:auto;line-height:normal;font-family:Menlo,'DejaVu Sans Mono',consolas,'Courier New',monospace\"><span style=\"color: #00ffaf; text-decoration-color: #00ffaf; font-weight: bold; text-decoration: underline\">Best fit values:</span>\n",
       "\n",
       "</pre>\n"
      ],
      "text/plain": [
       "\u001b[1;4;38;5;49mBest fit values:\u001b[0m\n",
       "\n"
      ]
     },
     "metadata": {},
     "output_type": "display_data"
    },
    {
     "data": {
      "text/html": [
       "<div>\n",
       "<style scoped>\n",
       "    .dataframe tbody tr th:only-of-type {\n",
       "        vertical-align: middle;\n",
       "    }\n",
       "\n",
       "    .dataframe tbody tr th {\n",
       "        vertical-align: top;\n",
       "    }\n",
       "\n",
       "    .dataframe thead th {\n",
       "        text-align: right;\n",
       "    }\n",
       "</style>\n",
       "<table border=\"1\" class=\"dataframe\">\n",
       "  <thead>\n",
       "    <tr style=\"text-align: right;\">\n",
       "      <th></th>\n",
       "      <th>result</th>\n",
       "      <th>unit</th>\n",
       "    </tr>\n",
       "    <tr>\n",
       "      <th>parameter</th>\n",
       "      <th></th>\n",
       "      <th></th>\n",
       "    </tr>\n",
       "  </thead>\n",
       "  <tbody>\n",
       "    <tr>\n",
       "      <th>source.spectrum.main.Constant.k</th>\n",
       "      <td>1.2309 +/- 0.0035</td>\n",
       "      <td>1 / (cm2 keV s)</td>\n",
       "    </tr>\n",
       "    <tr>\n",
       "      <th>background_cosi</th>\n",
       "      <td>(7.3 +/- 0.4) x 10^-3</td>\n",
       "      <td></td>\n",
       "    </tr>\n",
       "  </tbody>\n",
       "</table>\n",
       "</div>"
      ],
      "text/plain": [
       "                                                result             unit\n",
       "parameter                                                              \n",
       "source.spectrum.main.Constant.k      1.2309 +/- 0.0035  1 / (cm2 keV s)\n",
       "background_cosi                  (7.3 +/- 0.4) x 10^-3                 "
      ]
     },
     "metadata": {},
     "output_type": "display_data"
    },
    {
     "data": {
      "text/html": [
       "<pre style=\"white-space:pre;overflow-x:auto;line-height:normal;font-family:Menlo,'DejaVu Sans Mono',consolas,'Courier New',monospace\">\n",
       "<span style=\"color: #00ffaf; text-decoration-color: #00ffaf; font-weight: bold; text-decoration: underline\">Correlation matrix:</span>\n",
       "\n",
       "</pre>\n"
      ],
      "text/plain": [
       "\n",
       "\u001b[1;4;38;5;49mCorrelation matrix:\u001b[0m\n",
       "\n"
      ]
     },
     "metadata": {},
     "output_type": "display_data"
    },
    {
     "data": {
      "text/html": [
       "<div><table id=\"table11010283696\">\n",
       "<tr><td>1.00</td><td>-0.23</td></tr>\n",
       "<tr><td>-0.23</td><td>1.00</td></tr>\n",
       "</table></div>"
      ],
      "text/plain": [
       " 1.00 -0.23\n",
       "-0.23  1.00"
      ]
     },
     "metadata": {},
     "output_type": "display_data"
    },
    {
     "data": {
      "text/html": [
       "<pre style=\"white-space:pre;overflow-x:auto;line-height:normal;font-family:Menlo,'DejaVu Sans Mono',consolas,'Courier New',monospace\">\n",
       "<span style=\"color: #00ffaf; text-decoration-color: #00ffaf; font-weight: bold; text-decoration: underline\">Values of -log(likelihood) at the minimum:</span>\n",
       "\n",
       "</pre>\n"
      ],
      "text/plain": [
       "\n",
       "\u001b[1;4;38;5;49mValues of -\u001b[0m\u001b[1;4;38;5;49mlog\u001b[0m\u001b[1;4;38;5;49m(\u001b[0m\u001b[1;4;38;5;49mlikelihood\u001b[0m\u001b[1;4;38;5;49m)\u001b[0m\u001b[1;4;38;5;49m at the minimum:\u001b[0m\n",
       "\n"
      ]
     },
     "metadata": {},
     "output_type": "display_data"
    },
    {
     "data": {
      "text/html": [
       "<div>\n",
       "<style scoped>\n",
       "    .dataframe tbody tr th:only-of-type {\n",
       "        vertical-align: middle;\n",
       "    }\n",
       "\n",
       "    .dataframe tbody tr th {\n",
       "        vertical-align: top;\n",
       "    }\n",
       "\n",
       "    .dataframe thead th {\n",
       "        text-align: right;\n",
       "    }\n",
       "</style>\n",
       "<table border=\"1\" class=\"dataframe\">\n",
       "  <thead>\n",
       "    <tr style=\"text-align: right;\">\n",
       "      <th></th>\n",
       "      <th>-log(likelihood)</th>\n",
       "    </tr>\n",
       "  </thead>\n",
       "  <tbody>\n",
       "    <tr>\n",
       "      <th>cosi</th>\n",
       "      <td>-62559.736853</td>\n",
       "    </tr>\n",
       "    <tr>\n",
       "      <th>total</th>\n",
       "      <td>-62559.736853</td>\n",
       "    </tr>\n",
       "  </tbody>\n",
       "</table>\n",
       "</div>"
      ],
      "text/plain": [
       "       -log(likelihood)\n",
       "cosi      -62559.736853\n",
       "total     -62559.736853"
      ]
     },
     "metadata": {},
     "output_type": "display_data"
    },
    {
     "data": {
      "text/html": [
       "<pre style=\"white-space:pre;overflow-x:auto;line-height:normal;font-family:Menlo,'DejaVu Sans Mono',consolas,'Courier New',monospace\">\n",
       "<span style=\"color: #00ffaf; text-decoration-color: #00ffaf; font-weight: bold; text-decoration: underline\">Values of statistical measures:</span>\n",
       "\n",
       "</pre>\n"
      ],
      "text/plain": [
       "\n",
       "\u001b[1;4;38;5;49mValues of statistical measures:\u001b[0m\n",
       "\n"
      ]
     },
     "metadata": {},
     "output_type": "display_data"
    },
    {
     "data": {
      "text/html": [
       "<div>\n",
       "<style scoped>\n",
       "    .dataframe tbody tr th:only-of-type {\n",
       "        vertical-align: middle;\n",
       "    }\n",
       "\n",
       "    .dataframe tbody tr th {\n",
       "        vertical-align: top;\n",
       "    }\n",
       "\n",
       "    .dataframe thead th {\n",
       "        text-align: right;\n",
       "    }\n",
       "</style>\n",
       "<table border=\"1\" class=\"dataframe\">\n",
       "  <thead>\n",
       "    <tr style=\"text-align: right;\">\n",
       "      <th></th>\n",
       "      <th>statistical measures</th>\n",
       "    </tr>\n",
       "  </thead>\n",
       "  <tbody>\n",
       "    <tr>\n",
       "      <th>AIC</th>\n",
       "      <td>-125121.473707</td>\n",
       "    </tr>\n",
       "    <tr>\n",
       "      <th>BIC</th>\n",
       "      <td>-125119.473707</td>\n",
       "    </tr>\n",
       "  </tbody>\n",
       "</table>\n",
       "</div>"
      ],
      "text/plain": [
       "     statistical measures\n",
       "AIC        -125121.473707\n",
       "BIC        -125119.473707"
      ]
     },
     "metadata": {},
     "output_type": "display_data"
    },
    {
     "data": {
      "text/plain": [
       "(                                    value  negative_error  positive_error  \\\n",
       " source.spectrum.main.Constant.k  1.230907       -0.003487        0.003378   \n",
       " background_cosi                  0.007252       -0.000363        0.000355   \n",
       " \n",
       "                                     error             unit  \n",
       " source.spectrum.main.Constant.k  0.003433  1 / (cm2 keV s)  \n",
       " background_cosi                  0.000359                   ,\n",
       "        -log(likelihood)\n",
       " cosi      -62559.736853\n",
       " total     -62559.736853)"
      ]
     },
     "execution_count": 8,
     "metadata": {},
     "output_type": "execute_result"
    }
   ],
   "source": [
    "plugins = DataList(cosi) # If we had multiple instruments, we would do e.g. DataList(cosi, lat, hawc, ...)\n",
    "\n",
    "like = JointLikelihood(model, plugins, verbose = False)\n",
    "\n",
    "like.fit()"
   ]
  },
  {
   "cell_type": "markdown",
   "id": "44542198-aba8-4a37-b9d0-31930718c2bb",
   "metadata": {},
   "source": [
    "## Error propagation and plotting (constant function)"
   ]
  },
  {
   "cell_type": "markdown",
   "id": "4ad20f51-3d3f-43e1-a6a3-037bf3ee9f8f",
   "metadata": {},
   "source": [
    "Define spectrum injected into MEGAlib. A Dirac Delta function was the true input, but because evaluate_at(e) only returns a value for e=511. keV, the cell in this section which calculates the flux will not work as written. Therefore, we are using an equivalent constant spectrum for the 509-513 keV bin"
   ]
  },
  {
   "cell_type": "code",
   "execution_count": 9,
   "id": "02e57ec8-4459-4f99-b62f-73a63aba83f3",
   "metadata": {},
   "outputs": [],
   "source": [
    "k_inj = 5/4 / u.cm / u.cm / u.s / u.keV\n",
    "\n",
    "spectrum_inj = Constant(k=k_inj.value)\n",
    "\n",
    "spectrum_inj.k.unit = k_inj.unit"
   ]
  },
  {
   "cell_type": "markdown",
   "id": "d626f871-fbdf-40b8-b865-140e3ea4b5c3",
   "metadata": {},
   "source": [
    "The summary of the results above tell you the optimal values of the parameters, as well as the errors. Propogate the errors to the \"evaluate_at\" method of the spectrum"
   ]
  },
  {
   "cell_type": "code",
   "execution_count": 10,
   "id": "4e25c609-e754-43b8-8ea6-0a0a90811cda",
   "metadata": {
    "scrolled": true,
    "tags": []
   },
   "outputs": [
    {
     "data": {
      "text/html": [
       "<pre style=\"white-space:pre;overflow-x:auto;line-height:normal;font-family:Menlo,'DejaVu Sans Mono',consolas,'Courier New',monospace\"><span style=\"color: #00ffaf; text-decoration-color: #00ffaf; font-weight: bold; text-decoration: underline\">Best fit values:</span>\n",
       "\n",
       "</pre>\n"
      ],
      "text/plain": [
       "\u001b[1;4;38;5;49mBest fit values:\u001b[0m\n",
       "\n"
      ]
     },
     "metadata": {},
     "output_type": "display_data"
    },
    {
     "data": {
      "text/html": [
       "<div>\n",
       "<style scoped>\n",
       "    .dataframe tbody tr th:only-of-type {\n",
       "        vertical-align: middle;\n",
       "    }\n",
       "\n",
       "    .dataframe tbody tr th {\n",
       "        vertical-align: top;\n",
       "    }\n",
       "\n",
       "    .dataframe thead th {\n",
       "        text-align: right;\n",
       "    }\n",
       "</style>\n",
       "<table border=\"1\" class=\"dataframe\">\n",
       "  <thead>\n",
       "    <tr style=\"text-align: right;\">\n",
       "      <th></th>\n",
       "      <th>result</th>\n",
       "      <th>unit</th>\n",
       "    </tr>\n",
       "    <tr>\n",
       "      <th>parameter</th>\n",
       "      <th></th>\n",
       "      <th></th>\n",
       "    </tr>\n",
       "  </thead>\n",
       "  <tbody>\n",
       "    <tr>\n",
       "      <th>source.spectrum.main.Constant.k</th>\n",
       "      <td>1.2309 +/- 0.0035</td>\n",
       "      <td>1 / (cm2 keV s)</td>\n",
       "    </tr>\n",
       "    <tr>\n",
       "      <th>background_cosi</th>\n",
       "      <td>(7.3 +/- 0.4) x 10^-3</td>\n",
       "      <td></td>\n",
       "    </tr>\n",
       "  </tbody>\n",
       "</table>\n",
       "</div>"
      ],
      "text/plain": [
       "                                                result             unit\n",
       "parameter                                                              \n",
       "source.spectrum.main.Constant.k      1.2309 +/- 0.0035  1 / (cm2 keV s)\n",
       "background_cosi                  (7.3 +/- 0.4) x 10^-3                 "
      ]
     },
     "metadata": {},
     "output_type": "display_data"
    },
    {
     "data": {
      "text/html": [
       "<pre style=\"white-space:pre;overflow-x:auto;line-height:normal;font-family:Menlo,'DejaVu Sans Mono',consolas,'Courier New',monospace\">\n",
       "<span style=\"color: #00ffaf; text-decoration-color: #00ffaf; font-weight: bold; text-decoration: underline\">Correlation matrix:</span>\n",
       "\n",
       "</pre>\n"
      ],
      "text/plain": [
       "\n",
       "\u001b[1;4;38;5;49mCorrelation matrix:\u001b[0m\n",
       "\n"
      ]
     },
     "metadata": {},
     "output_type": "display_data"
    },
    {
     "data": {
      "text/html": [
       "<div><table id=\"table11011479104\">\n",
       "<tr><td>1.00</td><td>-0.23</td></tr>\n",
       "<tr><td>-0.23</td><td>1.00</td></tr>\n",
       "</table></div>"
      ],
      "text/plain": [
       " 1.00 -0.23\n",
       "-0.23  1.00"
      ]
     },
     "metadata": {},
     "output_type": "display_data"
    },
    {
     "data": {
      "text/html": [
       "<pre style=\"white-space:pre;overflow-x:auto;line-height:normal;font-family:Menlo,'DejaVu Sans Mono',consolas,'Courier New',monospace\">\n",
       "<span style=\"color: #00ffaf; text-decoration-color: #00ffaf; font-weight: bold; text-decoration: underline\">Values of -log(likelihood) at the minimum:</span>\n",
       "\n",
       "</pre>\n"
      ],
      "text/plain": [
       "\n",
       "\u001b[1;4;38;5;49mValues of -\u001b[0m\u001b[1;4;38;5;49mlog\u001b[0m\u001b[1;4;38;5;49m(\u001b[0m\u001b[1;4;38;5;49mlikelihood\u001b[0m\u001b[1;4;38;5;49m)\u001b[0m\u001b[1;4;38;5;49m at the minimum:\u001b[0m\n",
       "\n"
      ]
     },
     "metadata": {},
     "output_type": "display_data"
    },
    {
     "data": {
      "text/html": [
       "<div>\n",
       "<style scoped>\n",
       "    .dataframe tbody tr th:only-of-type {\n",
       "        vertical-align: middle;\n",
       "    }\n",
       "\n",
       "    .dataframe tbody tr th {\n",
       "        vertical-align: top;\n",
       "    }\n",
       "\n",
       "    .dataframe thead th {\n",
       "        text-align: right;\n",
       "    }\n",
       "</style>\n",
       "<table border=\"1\" class=\"dataframe\">\n",
       "  <thead>\n",
       "    <tr style=\"text-align: right;\">\n",
       "      <th></th>\n",
       "      <th>-log(likelihood)</th>\n",
       "    </tr>\n",
       "  </thead>\n",
       "  <tbody>\n",
       "    <tr>\n",
       "      <th>cosi</th>\n",
       "      <td>-62559.736853</td>\n",
       "    </tr>\n",
       "    <tr>\n",
       "      <th>total</th>\n",
       "      <td>-62559.736853</td>\n",
       "    </tr>\n",
       "  </tbody>\n",
       "</table>\n",
       "</div>"
      ],
      "text/plain": [
       "       -log(likelihood)\n",
       "cosi      -62559.736853\n",
       "total     -62559.736853"
      ]
     },
     "metadata": {},
     "output_type": "display_data"
    },
    {
     "data": {
      "text/html": [
       "<pre style=\"white-space:pre;overflow-x:auto;line-height:normal;font-family:Menlo,'DejaVu Sans Mono',consolas,'Courier New',monospace\">\n",
       "<span style=\"color: #00ffaf; text-decoration-color: #00ffaf; font-weight: bold; text-decoration: underline\">Values of statistical measures:</span>\n",
       "\n",
       "</pre>\n"
      ],
      "text/plain": [
       "\n",
       "\u001b[1;4;38;5;49mValues of statistical measures:\u001b[0m\n",
       "\n"
      ]
     },
     "metadata": {},
     "output_type": "display_data"
    },
    {
     "data": {
      "text/html": [
       "<div>\n",
       "<style scoped>\n",
       "    .dataframe tbody tr th:only-of-type {\n",
       "        vertical-align: middle;\n",
       "    }\n",
       "\n",
       "    .dataframe tbody tr th {\n",
       "        vertical-align: top;\n",
       "    }\n",
       "\n",
       "    .dataframe thead th {\n",
       "        text-align: right;\n",
       "    }\n",
       "</style>\n",
       "<table border=\"1\" class=\"dataframe\">\n",
       "  <thead>\n",
       "    <tr style=\"text-align: right;\">\n",
       "      <th></th>\n",
       "      <th>statistical measures</th>\n",
       "    </tr>\n",
       "  </thead>\n",
       "  <tbody>\n",
       "    <tr>\n",
       "      <th>AIC</th>\n",
       "      <td>-125121.473707</td>\n",
       "    </tr>\n",
       "    <tr>\n",
       "      <th>BIC</th>\n",
       "      <td>-125119.473707</td>\n",
       "    </tr>\n",
       "  </tbody>\n",
       "</table>\n",
       "</div>"
      ],
      "text/plain": [
       "     statistical measures\n",
       "AIC        -125121.473707\n",
       "BIC        -125119.473707"
      ]
     },
     "metadata": {},
     "output_type": "display_data"
    },
    {
     "name": "stdout",
     "output_type": "stream",
     "text": [
      "None\n",
      "  * source (point source):\n",
      "    * position:\n",
      "      * l:\n",
      "        * value: 340.0\n",
      "        * desc: Galactic longitude\n",
      "        * min_value: 0.0\n",
      "        * max_value: 360.0\n",
      "        * unit: deg\n",
      "        * is_normalization: false\n",
      "      * b:\n",
      "        * value: 45.0\n",
      "        * desc: Galactic latitude\n",
      "        * min_value: -90.0\n",
      "        * max_value: 90.0\n",
      "        * unit: deg\n",
      "        * is_normalization: false\n",
      "      * equinox: J2000\n",
      "    * spectrum:\n",
      "      * main:\n",
      "        * Constant:\n",
      "          * k:\n",
      "            * value: 1.2309072340702163\n",
      "            * desc: Constant value\n",
      "            * min_value: null\n",
      "            * max_value: null\n",
      "            * unit: keV-1 s-1 cm-2\n",
      "            * is_normalization: false\n",
      "        * polarization: {}\n",
      "\n"
     ]
    }
   ],
   "source": [
    "results = like.results\n",
    "\n",
    "print(results.display())\n",
    "\n",
    "parameters = {par.name:results.get_variates(par.path)\n",
    "              for par in results.optimized_model[\"source\"].parameters.values()\n",
    "              if par.free}\n",
    "\n",
    "results_err = results.propagate(results.optimized_model[\"source\"].spectrum.main.shape.evaluate_at, **parameters)\n",
    "\n",
    "print(results.optimized_model[\"source\"])"
   ]
  },
  {
   "cell_type": "markdown",
   "id": "5eaec533-b5b3-45c4-94df-75453e2df3bf",
   "metadata": {},
   "source": [
    "Evaluate the flux and errors at a range of energies for the fitted and injected spectra"
   ]
  },
  {
   "cell_type": "code",
   "execution_count": 11,
   "id": "cc7d6f50-06cd-450a-83d9-115b67d83b30",
   "metadata": {},
   "outputs": [],
   "source": [
    "energy = np.geomspace(509*u.keV,513*u.keV).to_value(u.keV)\n",
    "\n",
    "flux_lo = np.zeros_like(energy)\n",
    "flux_median = np.zeros_like(energy)\n",
    "flux_hi = np.zeros_like(energy)\n",
    "flux_inj = np.zeros_like(energy)\n",
    "\n",
    "for i, e in enumerate(energy):\n",
    "    flux = results_err(e)\n",
    "    flux_median[i] = flux.median\n",
    "    flux_lo[i], flux_hi[i] = flux.equal_tail_interval(cl=0.68)\n",
    "    flux_inj[i] = spectrum_inj.evaluate_at(e)\n",
    "    \n",
    "binned_energy_edges = grb.binned_data.axes['Em'].edges\n",
    "binned_energy = np.array([])\n",
    "bin_sizes = np.array([])\n",
    "\n",
    "for i in range(len(binned_energy_edges)-1):\n",
    "    binned_energy = np.append(binned_energy, (binned_energy_edges[i+1] + binned_energy_edges[i]) / 2)\n",
    "    bin_sizes = np.append(bin_sizes, binned_energy_edges[i+1] - binned_energy_edges[i])\n",
    "\n",
    "with FullDetectorResponse.open(dr) as response:\n",
    "    drm = response.get_interp_response(SkyCoord(lon = l*u.deg, lat = b*u.deg, frame = SpacecraftFrame()))\n",
    "    dwell_time_map = cosi._get_dwell_time_map(source.position.sky_coord)\n",
    "    psr = response.get_point_source_response(dwell_time_map)\n",
    "    \n",
    "expectation = psr.get_expectation(spectrum)"
   ]
  },
  {
   "cell_type": "markdown",
   "id": "8cb8c4aa-ef51-4f19-93dc-2ac7d7d2f189",
   "metadata": {},
   "source": [
    "Plot the fitted and injected spectra"
   ]
  },
  {
   "cell_type": "code",
   "execution_count": 28,
   "id": "f8dbd36f-4b16-4bec-8835-8f6f876ab169",
   "metadata": {
    "tags": []
   },
   "outputs": [
    {
     "data": {
      "text/plain": [
       "<matplotlib.legend.Legend at 0x297df96d0>"
      ]
     },
     "execution_count": 28,
     "metadata": {},
     "output_type": "execute_result"
    },
    {
     "data": {
      "image/png": "[encoded data removed]",
      "text/plain": [
       "<Figure size 640x480 with 1 Axes>"
      ]
     },
     "metadata": {},
     "output_type": "display_data"
    }
   ],
   "source": [
    "fig,ax = plt.subplots()\n",
    "\n",
    "ax.plot(energy, energy*energy*flux_median, label = \"Best fit\")\n",
    "ax.fill_between(energy, energy*energy*flux_lo, energy*energy*flux_hi, alpha = .5, label = \"Best fit (errors)\")\n",
    "ax.plot(energy, energy*energy*flux_inj, color = 'black', ls = \":\", label = \"Injected\")\n",
    "\n",
    "ax.set_xlabel(\"Energy (keV)\")\n",
    "ax.set_ylabel(r\"$E^2 \\frac{dN}{dE}$ (keV cm$^{-2}$ s$^{-1}$)\")\n",
    "\n",
    "ax.legend()"
   ]
  },
  {
   "cell_type": "markdown",
   "id": "20a08b36-44d2-4fef-a82e-def1dfd7b9d9",
   "metadata": {},
   "source": [
    "Plot the fitted spectrum convolved with the response, as well as the simulated source counts"
   ]
  },
  {
   "cell_type": "code",
   "execution_count": 31,
   "id": "7d1dd8d1-f86d-4e63-8286-db1d5bc14b04",
   "metadata": {},
   "outputs": [
    {
     "data": {
      "text/plain": [
       "<matplotlib.legend.Legend at 0x293b6f6a0>"
      ]
     },
     "execution_count": 31,
     "metadata": {},
     "output_type": "execute_result"
    },
    {
     "data": {
      "image/png": "[encoded data removed]",
      "text/plain": [
       "<Figure size 640x480 with 1 Axes>"
      ]
     },
     "metadata": {},
     "output_type": "display_data"
    }
   ],
   "source": [
    "fig,ax = plt.subplots()\n",
    "\n",
    "ax.stairs(expectation.project('Em').todense().contents, binned_energy_edges, color='purple', label = \"Best fit convolved with response\")\n",
    "ax.errorbar(binned_energy, expectation.project('Em').todense().contents, yerr=np.sqrt(expectation.project('Em').todense().contents), color='purple', linewidth=0, elinewidth=1)\n",
    "ax.stairs(grb.binned_data.project('Em').todense().contents, binned_energy_edges, color = 'black', ls = \":\", label = \"Source counts\")\n",
    "ax.errorbar(binned_energy, grb.binned_data.project('Em').todense().contents, yerr=np.sqrt(grb.binned_data.project('Em').todense().contents), color='black', linewidth=0, elinewidth=1)\n",
    "\n",
    "ax.set_xlabel(\"Energy (keV)\")\n",
    "ax.set_ylabel(\"Counts\")\n",
    "\n",
    "ax.legend()"
   ]
  },
  {
   "cell_type": "markdown",
   "id": "00234bec-2a9f-4557-8a41-0d1a9b71e9c9",
   "metadata": {},
   "source": [
    "Plot the fitted spectrum convolved with the response plus the fitted background, as well as the simulated source+background counts"
   ]
  },
  {
   "cell_type": "code",
   "execution_count": 30,
   "id": "06df3b27-d2ed-4214-bda7-d4fda667e145",
   "metadata": {},
   "outputs": [
    {
     "data": {
      "text/plain": [
       "<matplotlib.legend.Legend at 0x293ea4cd0>"
      ]
     },
     "execution_count": 30,
     "metadata": {},
     "output_type": "execute_result"
    },
    {
     "data": {
      "image/png": "[encoded data removed]",
      "text/plain": [
       "<Figure size 640x480 with 1 Axes>"
      ]
     },
     "metadata": {},
     "output_type": "display_data"
    }
   ],
   "source": [
    "fig,ax = plt.subplots()\n",
    "\n",
    "ax.stairs(expectation.project('Em').todense().contents+(bkg_par.value * bkg.binned_data.project('Em').todense().contents), binned_energy_edges, color='purple', label = \"Best fit convolved with response plus background\")\n",
    "ax.errorbar(binned_energy, expectation.project('Em').todense().contents+(bkg_par.value * bkg.binned_data.project('Em').todense().contents), yerr=np.sqrt(expectation.project('Em').todense().contents+(bkg_par.value * bkg.binned_data.project('Em').todense().contents)), color='purple', linewidth=0, elinewidth=1)\n",
    "ax.stairs(grb_bkg.binned_data.project('Em').todense().contents, binned_energy_edges, color = 'black', ls = \":\", label = \"Total counts\")\n",
    "ax.errorbar(binned_energy, grb_bkg.binned_data.project('Em').todense().contents, yerr=np.sqrt(grb_bkg.binned_data.project('Em').todense().contents), color='black', linewidth=0, elinewidth=1)\n",
    "\n",
    "ax.set_xlabel(\"Energy (keV)\")\n",
    "ax.set_ylabel(\"Counts\")\n",
    "\n",
    "ax.legend()"
   ]
  },
  {
   "cell_type": "markdown",
   "id": "e2d8eddd-2f56-4166-a9bf-66025ceb4388",
   "metadata": {},
   "source": [
    "## Perform spectral fit (Dirac Delta function)"
   ]
  },
  {
   "cell_type": "markdown",
   "id": "99660390-9c73-4e62-ba8f-0a910189980d",
   "metadata": {},
   "source": [
    "Set background parameter, which is used to fit the amplitude of the background, and instantiate the COSI 3ML plugin"
   ]
  },
  {
   "cell_type": "code",
   "execution_count": 15,
   "id": "3321d3b3-66dc-4785-94c3-0a956d2a0b7e",
   "metadata": {},
   "outputs": [],
   "source": [
    "bkg_par2 = Parameter(\"background_cosi\",                                        # background parameter\n",
    "                     2.8e-4,                                                   # initial value of parameter\n",
    "                     min_value=0,                                              # minimum value of parameter\n",
    "                     max_value=5,                                              # maximum value of parameter\n",
    "                     delta=0.05,                                               # initial step used by fitting engine\n",
    "                     desc=\"Background parameter for cosi\")\n",
    "\n",
    "cosi2 = COSILike(\"cosi\",                                                       # COSI 3ML plugin\n",
    "                 dr = dr,                                                      # detector response\n",
    "                 data = grb_bkg.binned_data.project('Em', 'Phi', 'PsiChi'),    # data (source+background)\n",
    "                 bkg = bkg.binned_data.project('Em', 'Phi', 'PsiChi'),         # background model \n",
    "                 sc_orientation = sc_orientation,                              # spacecraft orientation\n",
    "                 nuisance_param = bkg_par2,                                    # background parameter\n",
    "                 alt_like=True)                                                # uses alternate log likelihood function (temporary fix for line fitting)"
   ]
  },
  {
   "cell_type": "markdown",
   "id": "5377bf1a-d9e1-4537-b628-e4fee1b71f63",
   "metadata": {},
   "source": [
    "Define a point source at the known location with a Dirac Delta function spectrum and add it to the model"
   ]
  },
  {
   "cell_type": "code",
   "execution_count": 32,
   "id": "041ad385-7853-41cb-81c6-8bc44d722eff",
   "metadata": {},
   "outputs": [],
   "source": [
    "value = 5 / u.cm / u.cm / u.s / u.keV\n",
    "zero_point = 511. * u.keV  \n",
    "spectrum2 = DiracDelta(value=value.value,\n",
    "                      zero_point=zero_point.value)\n",
    "spectrum2.zero_point.unit = zero_point.unit\n",
    "spectrum2.value.unit = value.unit\n",
    "\n",
    "source2 = PointSource(\"source\",                     # Name of source (arbitrary, but needs to be unique)\n",
    "                     l = l,                         # Longitude (deg)\n",
    "                     b = b,                         # Latitude (deg)\n",
    "                     spectral_shape = spectrum2)    # Spectral model\n",
    "\n",
    "# Optional: free the position parameters\n",
    "#source.position.l.free = True\n",
    "#source.position.b.free = True\n",
    "\n",
    "model2 = Model(source2)                             # Model with single source. If we had multiple sources, we would do Model(source1, source2, ...)\n",
    "\n",
    "# Optional: if you want to call get_log_like manually, then you also need to set the model manually\n",
    "# 3ML does this internally during the fit though\n",
    "cosi2.set_model(model2)"
   ]
  },
  {
   "cell_type": "markdown",
   "id": "ebecb514-99e1-48a1-bdc7-8e4aec70541e",
   "metadata": {},
   "source": [
    "Gather all plugins and combine with the model in a JointLikelihood object, then perform maximum likelihood fit"
   ]
  },
  {
   "cell_type": "code",
   "execution_count": 17,
   "id": "2f309eb7-6848-451f-a9fc-f930e4f7566f",
   "metadata": {
    "scrolled": true,
    "tags": []
   },
   "outputs": [
    {
     "data": {
      "text/html": [
       "<pre style=\"white-space:pre;overflow-x:auto;line-height:normal;font-family:Menlo,'DejaVu Sans Mono',consolas,'Courier New',monospace\"><span style=\"color: #00ff00; text-decoration-color: #00ff00\">00:00:54 </span><span style=\"color: #00ffaf; text-decoration-color: #00ffaf\">INFO    </span> <span style=\"color: #c6c6c6; text-decoration-color: #c6c6c6; font-weight: bold\"> set the minimizer to minuit                                             </span><a href=\"file:///Users/eneights/opt/anaconda3/envs/cosipy/lib/python3.9/site-packages/threeML/classicMLE/joint_likelihood.py\" target=\"_blank\"><span style=\"color: #7f7f7f; text-decoration-color: #7f7f7f\">joint_likelihood.py</span></a><span style=\"color: #7f7f7f; text-decoration-color: #7f7f7f\">:</span><a href=\"file:///Users/eneights/opt/anaconda3/envs/cosipy/lib/python3.9/site-packages/threeML/classicMLE/joint_likelihood.py#1042\" target=\"_blank\"><span style=\"color: #7f7f7f; text-decoration-color: #7f7f7f\">1042</span></a>\n",
       "</pre>\n"
      ],
      "text/plain": [
       "\u001b[38;5;46m00:00:54\u001b[0m\u001b[38;5;46m \u001b[0m\u001b[38;5;49mINFO    \u001b[0m \u001b[1;38;5;251m set the minimizer to minuit                                            \u001b[0m\u001b[1;38;5;251m \u001b[0m\u001b]8;id=887409;file:///Users/eneights/opt/anaconda3/envs/cosipy/lib/python3.9/site-packages/threeML/classicMLE/joint_likelihood.py\u001b\\\u001b[2mjoint_likelihood.py\u001b[0m\u001b]8;;\u001b\\\u001b[2m:\u001b[0m\u001b]8;id=608639;file:///Users/eneights/opt/anaconda3/envs/cosipy/lib/python3.9/site-packages/threeML/classicMLE/joint_likelihood.py#1042\u001b\\\u001b[2m1042\u001b[0m\u001b]8;;\u001b\\\n"
      ]
     },
     "metadata": {},
     "output_type": "display_data"
    },
    {
     "name": "stderr",
     "output_type": "stream",
     "text": [
      "\n",
      "WARNING RuntimeWarning: divide by zero encountered in log\n",
      "\n",
      "\n",
      "WARNING RuntimeWarning: invalid value encountered in multiply\n",
      "\n",
      "\n",
      "WARNING RuntimeWarning: invalid value encountered in multiply\n",
      "\n",
      "\n",
      "WARNING RuntimeWarning: divide by zero encountered in log\n",
      "\n",
      "\n",
      "WARNING RuntimeWarning: invalid value encountered in multiply\n",
      "\n",
      "\n",
      "WARNING RuntimeWarning: invalid value encountered in multiply\n",
      "\n",
      "\n",
      "WARNING RuntimeWarning: divide by zero encountered in log\n",
      "\n",
      "\n",
      "WARNING RuntimeWarning: invalid value encountered in multiply\n",
      "\n",
      "\n",
      "WARNING RuntimeWarning: invalid value encountered in multiply\n",
      "\n",
      "\n",
      "WARNING RuntimeWarning: divide by zero encountered in log\n",
      "\n",
      "\n",
      "WARNING RuntimeWarning: invalid value encountered in multiply\n",
      "\n",
      "\n",
      "WARNING RuntimeWarning: invalid value encountered in multiply\n",
      "\n",
      "\n",
      "WARNING RuntimeWarning: divide by zero encountered in log\n",
      "\n",
      "\n",
      "WARNING RuntimeWarning: invalid value encountered in multiply\n",
      "\n",
      "\n",
      "WARNING RuntimeWarning: invalid value encountered in multiply\n",
      "\n",
      "\n",
      "WARNING RuntimeWarning: divide by zero encountered in log\n",
      "\n",
      "\n",
      "WARNING RuntimeWarning: invalid value encountered in multiply\n",
      "\n",
      "\n",
      "WARNING RuntimeWarning: invalid value encountered in multiply\n",
      "\n",
      "\n",
      "WARNING RuntimeWarning: divide by zero encountered in log\n",
      "\n",
      "\n",
      "WARNING RuntimeWarning: invalid value encountered in multiply\n",
      "\n",
      "\n",
      "WARNING RuntimeWarning: invalid value encountered in multiply\n",
      "\n",
      "\n",
      "WARNING RuntimeWarning: divide by zero encountered in log\n",
      "\n",
      "\n",
      "WARNING RuntimeWarning: invalid value encountered in multiply\n",
      "\n",
      "\n",
      "WARNING RuntimeWarning: invalid value encountered in multiply\n",
      "\n",
      "\n",
      "WARNING RuntimeWarning: divide by zero encountered in log\n",
      "\n",
      "\n",
      "WARNING RuntimeWarning: invalid value encountered in multiply\n",
      "\n",
      "\n",
      "WARNING RuntimeWarning: invalid value encountered in multiply\n",
      "\n",
      "\n",
      "WARNING RuntimeWarning: divide by zero encountered in log\n",
      "\n",
      "\n",
      "WARNING RuntimeWarning: invalid value encountered in multiply\n",
      "\n",
      "\n",
      "WARNING RuntimeWarning: invalid value encountered in multiply\n",
      "\n",
      "\n",
      "WARNING RuntimeWarning: divide by zero encountered in log\n",
      "\n",
      "\n",
      "WARNING RuntimeWarning: invalid value encountered in multiply\n",
      "\n",
      "\n",
      "WARNING RuntimeWarning: invalid value encountered in multiply\n",
      "\n",
      "\n",
      "WARNING RuntimeWarning: divide by zero encountered in log\n",
      "\n",
      "\n",
      "WARNING RuntimeWarning: invalid value encountered in multiply\n",
      "\n",
      "\n",
      "WARNING RuntimeWarning: invalid value encountered in multiply\n",
      "\n",
      "\n",
      "WARNING RuntimeWarning: divide by zero encountered in log\n",
      "\n",
      "\n",
      "WARNING RuntimeWarning: invalid value encountered in multiply\n",
      "\n",
      "\n",
      "WARNING RuntimeWarning: invalid value encountered in multiply\n",
      "\n",
      "\n",
      "WARNING RuntimeWarning: divide by zero encountered in log\n",
      "\n",
      "\n",
      "WARNING RuntimeWarning: invalid value encountered in multiply\n",
      "\n",
      "\n",
      "WARNING RuntimeWarning: invalid value encountered in multiply\n",
      "\n",
      "\n",
      "WARNING RuntimeWarning: divide by zero encountered in log\n",
      "\n",
      "\n",
      "WARNING RuntimeWarning: invalid value encountered in multiply\n",
      "\n",
      "\n",
      "WARNING RuntimeWarning: invalid value encountered in multiply\n",
      "\n",
      "\n",
      "WARNING RuntimeWarning: divide by zero encountered in log\n",
      "\n",
      "\n",
      "WARNING RuntimeWarning: invalid value encountered in multiply\n",
      "\n",
      "\n",
      "WARNING RuntimeWarning: invalid value encountered in multiply\n",
      "\n",
      "\n",
      "WARNING RuntimeWarning: divide by zero encountered in log\n",
      "\n",
      "\n",
      "WARNING RuntimeWarning: invalid value encountered in multiply\n",
      "\n",
      "\n",
      "WARNING RuntimeWarning: invalid value encountered in multiply\n",
      "\n",
      "\n",
      "WARNING RuntimeWarning: divide by zero encountered in log\n",
      "\n",
      "\n",
      "WARNING RuntimeWarning: invalid value encountered in multiply\n",
      "\n",
      "\n",
      "WARNING RuntimeWarning: invalid value encountered in multiply\n",
      "\n",
      "\n",
      "WARNING RuntimeWarning: divide by zero encountered in log\n",
      "\n",
      "\n",
      "WARNING RuntimeWarning: invalid value encountered in multiply\n",
      "\n",
      "\n",
      "WARNING RuntimeWarning: invalid value encountered in multiply\n",
      "\n",
      "\n",
      "WARNING RuntimeWarning: divide by zero encountered in log\n",
      "\n",
      "\n",
      "WARNING RuntimeWarning: invalid value encountered in multiply\n",
      "\n",
      "\n",
      "WARNING RuntimeWarning: invalid value encountered in multiply\n",
      "\n",
      "\n",
      "WARNING RuntimeWarning: divide by zero encountered in log\n",
      "\n",
      "\n",
      "WARNING RuntimeWarning: invalid value encountered in multiply\n",
      "\n",
      "\n",
      "WARNING RuntimeWarning: invalid value encountered in multiply\n",
      "\n",
      "\n",
      "WARNING RuntimeWarning: divide by zero encountered in log\n",
      "\n",
      "\n",
      "WARNING RuntimeWarning: invalid value encountered in multiply\n",
      "\n",
      "\n",
      "WARNING RuntimeWarning: invalid value encountered in multiply\n",
      "\n",
      "\n",
      "WARNING RuntimeWarning: divide by zero encountered in log\n",
      "\n",
      "\n",
      "WARNING RuntimeWarning: invalid value encountered in multiply\n",
      "\n",
      "\n",
      "WARNING RuntimeWarning: invalid value encountered in multiply\n",
      "\n",
      "\n",
      "WARNING RuntimeWarning: divide by zero encountered in log\n",
      "\n",
      "\n",
      "WARNING RuntimeWarning: invalid value encountered in multiply\n",
      "\n",
      "\n",
      "WARNING RuntimeWarning: invalid value encountered in multiply\n",
      "\n",
      "\n",
      "WARNING RuntimeWarning: divide by zero encountered in log\n",
      "\n",
      "\n",
      "WARNING RuntimeWarning: invalid value encountered in multiply\n",
      "\n",
      "\n",
      "WARNING RuntimeWarning: invalid value encountered in multiply\n",
      "\n",
      "\n",
      "WARNING RuntimeWarning: divide by zero encountered in log\n",
      "\n",
      "\n",
      "WARNING RuntimeWarning: invalid value encountered in multiply\n",
      "\n",
      "\n",
      "WARNING RuntimeWarning: invalid value encountered in multiply\n",
      "\n",
      "\n",
      "WARNING RuntimeWarning: divide by zero encountered in log\n",
      "\n",
      "\n",
      "WARNING RuntimeWarning: invalid value encountered in multiply\n",
      "\n",
      "\n",
      "WARNING RuntimeWarning: invalid value encountered in multiply\n",
      "\n",
      "\n",
      "WARNING RuntimeWarning: divide by zero encountered in log\n",
      "\n",
      "\n",
      "WARNING RuntimeWarning: invalid value encountered in multiply\n",
      "\n",
      "\n",
      "WARNING RuntimeWarning: invalid value encountered in multiply\n",
      "\n",
      "\n",
      "WARNING RuntimeWarning: divide by zero encountered in log\n",
      "\n",
      "\n",
      "WARNING RuntimeWarning: invalid value encountered in multiply\n",
      "\n",
      "\n",
      "WARNING RuntimeWarning: invalid value encountered in multiply\n",
      "\n",
      "\n",
      "WARNING RuntimeWarning: divide by zero encountered in log\n",
      "\n",
      "\n",
      "WARNING RuntimeWarning: invalid value encountered in multiply\n",
      "\n",
      "\n",
      "WARNING RuntimeWarning: invalid value encountered in multiply\n",
      "\n",
      "\n",
      "WARNING RuntimeWarning: divide by zero encountered in log\n",
      "\n",
      "\n",
      "WARNING RuntimeWarning: invalid value encountered in multiply\n",
      "\n",
      "\n",
      "WARNING RuntimeWarning: invalid value encountered in multiply\n",
      "\n",
      "\n",
      "WARNING RuntimeWarning: divide by zero encountered in log\n",
      "\n",
      "\n",
      "WARNING RuntimeWarning: invalid value encountered in multiply\n",
      "\n",
      "\n",
      "WARNING RuntimeWarning: invalid value encountered in multiply\n",
      "\n",
      "\n",
      "WARNING RuntimeWarning: divide by zero encountered in log\n",
      "\n",
      "\n",
      "WARNING RuntimeWarning: invalid value encountered in multiply\n",
      "\n",
      "\n",
      "WARNING RuntimeWarning: invalid value encountered in multiply\n",
      "\n",
      "\n",
      "WARNING RuntimeWarning: divide by zero encountered in log\n",
      "\n",
      "\n",
      "WARNING RuntimeWarning: invalid value encountered in multiply\n",
      "\n",
      "\n",
      "WARNING RuntimeWarning: invalid value encountered in multiply\n",
      "\n",
      "\n",
      "WARNING RuntimeWarning: divide by zero encountered in log\n",
      "\n",
      "\n",
      "WARNING RuntimeWarning: invalid value encountered in multiply\n",
      "\n",
      "\n",
      "WARNING RuntimeWarning: invalid value encountered in multiply\n",
      "\n",
      "\n",
      "WARNING RuntimeWarning: divide by zero encountered in log\n",
      "\n",
      "\n",
      "WARNING RuntimeWarning: invalid value encountered in multiply\n",
      "\n",
      "\n",
      "WARNING RuntimeWarning: invalid value encountered in multiply\n",
      "\n",
      "\n",
      "WARNING RuntimeWarning: divide by zero encountered in log\n",
      "\n",
      "\n",
      "WARNING RuntimeWarning: invalid value encountered in multiply\n",
      "\n",
      "\n",
      "WARNING RuntimeWarning: invalid value encountered in multiply\n",
      "\n",
      "\n",
      "WARNING RuntimeWarning: divide by zero encountered in log\n",
      "\n",
      "\n",
      "WARNING RuntimeWarning: invalid value encountered in multiply\n",
      "\n",
      "\n",
      "WARNING RuntimeWarning: invalid value encountered in multiply\n",
      "\n",
      "\n",
      "WARNING RuntimeWarning: divide by zero encountered in log\n",
      "\n",
      "\n",
      "WARNING RuntimeWarning: invalid value encountered in multiply\n",
      "\n",
      "\n",
      "WARNING RuntimeWarning: invalid value encountered in multiply\n",
      "\n",
      "\n",
      "WARNING RuntimeWarning: divide by zero encountered in log\n",
      "\n",
      "\n",
      "WARNING RuntimeWarning: invalid value encountered in multiply\n",
      "\n",
      "\n",
      "WARNING RuntimeWarning: invalid value encountered in multiply\n",
      "\n",
      "\n",
      "WARNING RuntimeWarning: divide by zero encountered in log\n",
      "\n",
      "\n",
      "WARNING RuntimeWarning: invalid value encountered in multiply\n",
      "\n",
      "\n",
      "WARNING RuntimeWarning: invalid value encountered in multiply\n",
      "\n",
      "\n",
      "WARNING RuntimeWarning: divide by zero encountered in log\n",
      "\n",
      "\n",
      "WARNING RuntimeWarning: invalid value encountered in multiply\n",
      "\n",
      "\n",
      "WARNING RuntimeWarning: invalid value encountered in multiply\n",
      "\n",
      "\n",
      "WARNING RuntimeWarning: divide by zero encountered in log\n",
      "\n",
      "\n",
      "WARNING RuntimeWarning: invalid value encountered in multiply\n",
      "\n",
      "\n",
      "WARNING RuntimeWarning: invalid value encountered in multiply\n",
      "\n",
      "\n",
      "WARNING RuntimeWarning: divide by zero encountered in log\n",
      "\n",
      "\n",
      "WARNING RuntimeWarning: invalid value encountered in multiply\n",
      "\n",
      "\n",
      "WARNING RuntimeWarning: invalid value encountered in multiply\n",
      "\n",
      "\n",
      "WARNING RuntimeWarning: divide by zero encountered in log\n",
      "\n",
      "\n",
      "WARNING RuntimeWarning: invalid value encountered in multiply\n",
      "\n",
      "\n",
      "WARNING RuntimeWarning: invalid value encountered in multiply\n",
      "\n",
      "\n",
      "WARNING RuntimeWarning: divide by zero encountered in log\n",
      "\n",
      "\n",
      "WARNING RuntimeWarning: invalid value encountered in multiply\n",
      "\n",
      "\n",
      "WARNING RuntimeWarning: invalid value encountered in multiply\n",
      "\n",
      "\n",
      "WARNING RuntimeWarning: divide by zero encountered in log\n",
      "\n",
      "\n",
      "WARNING RuntimeWarning: invalid value encountered in multiply\n",
      "\n",
      "\n",
      "WARNING RuntimeWarning: invalid value encountered in multiply\n",
      "\n"
     ]
    },
    {
     "data": {
      "text/html": [
       "<pre style=\"white-space:pre;overflow-x:auto;line-height:normal;font-family:Menlo,'DejaVu Sans Mono',consolas,'Courier New',monospace\"><span style=\"color: #00ff00; text-decoration-color: #00ff00\">00:00:55 </span><span style=\"color: #af5fd7; text-decoration-color: #af5fd7\">WARNING </span> <span style=\"color: #c6c6c6; text-decoration-color: #c6c6c6; font-weight: bold\"> get_number_of_data_points not implemented, values for statistical        </span><a href=\"file:///Users/eneights/opt/anaconda3/envs/cosipy/lib/python3.9/site-packages/threeML/plugin_prototype.py\" target=\"_blank\"><span style=\"color: #7f7f7f; text-decoration-color: #7f7f7f\">plugin_prototype.py</span></a><span style=\"color: #7f7f7f; text-decoration-color: #7f7f7f\">:</span><a href=\"file:///Users/eneights/opt/anaconda3/envs/cosipy/lib/python3.9/site-packages/threeML/plugin_prototype.py#128\" target=\"_blank\"><span style=\"color: #7f7f7f; text-decoration-color: #7f7f7f\">128</span></a>\n",
       "<span style=\"color: #00ff00; text-decoration-color: #00ff00\">         </span>         <span style=\"color: #c6c6c6; text-decoration-color: #c6c6c6; font-weight: bold\">measurements such as AIC or BIC are unreliable                            </span><span style=\"color: #7f7f7f; text-decoration-color: #7f7f7f\">                       </span>\n",
       "</pre>\n"
      ],
      "text/plain": [
       "\u001b[38;5;46m00:00:55\u001b[0m\u001b[38;5;46m \u001b[0m\u001b[38;5;134mWARNING \u001b[0m \u001b[1;38;5;251m get_number_of_data_points not implemented, values for statistical       \u001b[0m\u001b[1;38;5;251m \u001b[0m\u001b]8;id=670532;file:///Users/eneights/opt/anaconda3/envs/cosipy/lib/python3.9/site-packages/threeML/plugin_prototype.py\u001b\\\u001b[2mplugin_prototype.py\u001b[0m\u001b]8;;\u001b\\\u001b[2m:\u001b[0m\u001b]8;id=481316;file:///Users/eneights/opt/anaconda3/envs/cosipy/lib/python3.9/site-packages/threeML/plugin_prototype.py#128\u001b\\\u001b[2m128\u001b[0m\u001b]8;;\u001b\\\n",
       "\u001b[38;5;46m         \u001b[0m         \u001b[1;38;5;251mmeasurements such as AIC or BIC are unreliable                           \u001b[0m\u001b[1;38;5;251m \u001b[0m\u001b[2m                       \u001b[0m\n"
      ]
     },
     "metadata": {},
     "output_type": "display_data"
    },
    {
     "data": {
      "text/html": [
       "<pre style=\"white-space:pre;overflow-x:auto;line-height:normal;font-family:Menlo,'DejaVu Sans Mono',consolas,'Courier New',monospace\"><span style=\"color: #00ffaf; text-decoration-color: #00ffaf; font-weight: bold; text-decoration: underline\">Best fit values:</span>\n",
       "\n",
       "</pre>\n"
      ],
      "text/plain": [
       "\u001b[1;4;38;5;49mBest fit values:\u001b[0m\n",
       "\n"
      ]
     },
     "metadata": {},
     "output_type": "display_data"
    },
    {
     "data": {
      "text/html": [
       "<div>\n",
       "<style scoped>\n",
       "    .dataframe tbody tr th:only-of-type {\n",
       "        vertical-align: middle;\n",
       "    }\n",
       "\n",
       "    .dataframe tbody tr th {\n",
       "        vertical-align: top;\n",
       "    }\n",
       "\n",
       "    .dataframe thead th {\n",
       "        text-align: right;\n",
       "    }\n",
       "</style>\n",
       "<table border=\"1\" class=\"dataframe\">\n",
       "  <thead>\n",
       "    <tr style=\"text-align: right;\">\n",
       "      <th></th>\n",
       "      <th>result</th>\n",
       "      <th>unit</th>\n",
       "    </tr>\n",
       "    <tr>\n",
       "      <th>parameter</th>\n",
       "      <th></th>\n",
       "      <th></th>\n",
       "    </tr>\n",
       "  </thead>\n",
       "  <tbody>\n",
       "    <tr>\n",
       "      <th>source.spectrum.main.DiracDelta.value</th>\n",
       "      <td>4.924 +/- 0.014</td>\n",
       "      <td>1 / (cm2 keV s)</td>\n",
       "    </tr>\n",
       "    <tr>\n",
       "      <th>background_cosi</th>\n",
       "      <td>(7.3 +/- 0.4) x 10^-3</td>\n",
       "      <td></td>\n",
       "    </tr>\n",
       "  </tbody>\n",
       "</table>\n",
       "</div>"
      ],
      "text/plain": [
       "                                                      result             unit\n",
       "parameter                                                                    \n",
       "source.spectrum.main.DiracDelta.value        4.924 +/- 0.014  1 / (cm2 keV s)\n",
       "background_cosi                        (7.3 +/- 0.4) x 10^-3                 "
      ]
     },
     "metadata": {},
     "output_type": "display_data"
    },
    {
     "data": {
      "text/html": [
       "<pre style=\"white-space:pre;overflow-x:auto;line-height:normal;font-family:Menlo,'DejaVu Sans Mono',consolas,'Courier New',monospace\">\n",
       "<span style=\"color: #00ffaf; text-decoration-color: #00ffaf; font-weight: bold; text-decoration: underline\">Correlation matrix:</span>\n",
       "\n",
       "</pre>\n"
      ],
      "text/plain": [
       "\n",
       "\u001b[1;4;38;5;49mCorrelation matrix:\u001b[0m\n",
       "\n"
      ]
     },
     "metadata": {},
     "output_type": "display_data"
    },
    {
     "data": {
      "text/html": [
       "<div><table id=\"table11069826576\">\n",
       "<tr><td>1.00</td><td>-0.23</td></tr>\n",
       "<tr><td>-0.23</td><td>1.00</td></tr>\n",
       "</table></div>"
      ],
      "text/plain": [
       " 1.00 -0.23\n",
       "-0.23  1.00"
      ]
     },
     "metadata": {},
     "output_type": "display_data"
    },
    {
     "data": {
      "text/html": [
       "<pre style=\"white-space:pre;overflow-x:auto;line-height:normal;font-family:Menlo,'DejaVu Sans Mono',consolas,'Courier New',monospace\">\n",
       "<span style=\"color: #00ffaf; text-decoration-color: #00ffaf; font-weight: bold; text-decoration: underline\">Values of -log(likelihood) at the minimum:</span>\n",
       "\n",
       "</pre>\n"
      ],
      "text/plain": [
       "\n",
       "\u001b[1;4;38;5;49mValues of -\u001b[0m\u001b[1;4;38;5;49mlog\u001b[0m\u001b[1;4;38;5;49m(\u001b[0m\u001b[1;4;38;5;49mlikelihood\u001b[0m\u001b[1;4;38;5;49m)\u001b[0m\u001b[1;4;38;5;49m at the minimum:\u001b[0m\n",
       "\n"
      ]
     },
     "metadata": {},
     "output_type": "display_data"
    },
    {
     "data": {
      "text/html": [
       "<div>\n",
       "<style scoped>\n",
       "    .dataframe tbody tr th:only-of-type {\n",
       "        vertical-align: middle;\n",
       "    }\n",
       "\n",
       "    .dataframe tbody tr th {\n",
       "        vertical-align: top;\n",
       "    }\n",
       "\n",
       "    .dataframe thead th {\n",
       "        text-align: right;\n",
       "    }\n",
       "</style>\n",
       "<table border=\"1\" class=\"dataframe\">\n",
       "  <thead>\n",
       "    <tr style=\"text-align: right;\">\n",
       "      <th></th>\n",
       "      <th>-log(likelihood)</th>\n",
       "    </tr>\n",
       "  </thead>\n",
       "  <tbody>\n",
       "    <tr>\n",
       "      <th>cosi</th>\n",
       "      <td>-62559.736853</td>\n",
       "    </tr>\n",
       "    <tr>\n",
       "      <th>total</th>\n",
       "      <td>-62559.736853</td>\n",
       "    </tr>\n",
       "  </tbody>\n",
       "</table>\n",
       "</div>"
      ],
      "text/plain": [
       "       -log(likelihood)\n",
       "cosi      -62559.736853\n",
       "total     -62559.736853"
      ]
     },
     "metadata": {},
     "output_type": "display_data"
    },
    {
     "data": {
      "text/html": [
       "<pre style=\"white-space:pre;overflow-x:auto;line-height:normal;font-family:Menlo,'DejaVu Sans Mono',consolas,'Courier New',monospace\">\n",
       "<span style=\"color: #00ffaf; text-decoration-color: #00ffaf; font-weight: bold; text-decoration: underline\">Values of statistical measures:</span>\n",
       "\n",
       "</pre>\n"
      ],
      "text/plain": [
       "\n",
       "\u001b[1;4;38;5;49mValues of statistical measures:\u001b[0m\n",
       "\n"
      ]
     },
     "metadata": {},
     "output_type": "display_data"
    },
    {
     "data": {
      "text/html": [
       "<div>\n",
       "<style scoped>\n",
       "    .dataframe tbody tr th:only-of-type {\n",
       "        vertical-align: middle;\n",
       "    }\n",
       "\n",
       "    .dataframe tbody tr th {\n",
       "        vertical-align: top;\n",
       "    }\n",
       "\n",
       "    .dataframe thead th {\n",
       "        text-align: right;\n",
       "    }\n",
       "</style>\n",
       "<table border=\"1\" class=\"dataframe\">\n",
       "  <thead>\n",
       "    <tr style=\"text-align: right;\">\n",
       "      <th></th>\n",
       "      <th>statistical measures</th>\n",
       "    </tr>\n",
       "  </thead>\n",
       "  <tbody>\n",
       "    <tr>\n",
       "      <th>AIC</th>\n",
       "      <td>-125121.473707</td>\n",
       "    </tr>\n",
       "    <tr>\n",
       "      <th>BIC</th>\n",
       "      <td>-125119.473707</td>\n",
       "    </tr>\n",
       "  </tbody>\n",
       "</table>\n",
       "</div>"
      ],
      "text/plain": [
       "     statistical measures\n",
       "AIC        -125121.473707\n",
       "BIC        -125119.473707"
      ]
     },
     "metadata": {},
     "output_type": "display_data"
    },
    {
     "data": {
      "text/plain": [
       "(                                          value  negative_error  \\\n",
       " source.spectrum.main.DiracDelta.value  4.923629       -0.013662   \n",
       " background_cosi                        0.007252       -0.000344   \n",
       " \n",
       "                                        positive_error     error  \\\n",
       " source.spectrum.main.DiracDelta.value        0.013883  0.013773   \n",
       " background_cosi                              0.000342  0.000343   \n",
       " \n",
       "                                                   unit  \n",
       " source.spectrum.main.DiracDelta.value  1 / (cm2 keV s)  \n",
       " background_cosi                                         ,\n",
       "        -log(likelihood)\n",
       " cosi      -62559.736853\n",
       " total     -62559.736853)"
      ]
     },
     "execution_count": 17,
     "metadata": {},
     "output_type": "execute_result"
    }
   ],
   "source": [
    "plugins2 = DataList(cosi2) # If we had multiple instruments, we would do e.g. DataList(cosi, lat, hawc, ...)\n",
    "\n",
    "like2 = JointLikelihood(model2, plugins2, verbose = False)\n",
    "\n",
    "like2.fit()"
   ]
  },
  {
   "cell_type": "markdown",
   "id": "ba659beb-1559-4fef-be4a-011da82800b2",
   "metadata": {},
   "source": [
    "## Error propagation and plotting (Dirac Delta function)"
   ]
  },
  {
   "cell_type": "markdown",
   "id": "a44caf3d-e86f-4e83-9095-397d7f618a1a",
   "metadata": {},
   "source": [
    "Define spectrum injected into MEGAlib"
   ]
  },
  {
   "cell_type": "code",
   "execution_count": 18,
   "id": "dba422f0-e079-4a2e-8228-3ccd78773b52",
   "metadata": {},
   "outputs": [],
   "source": [
    "value_inj = 5 / u.cm / u.cm / u.s / u.keV\n",
    "zero_point_inj = 511. * u.keV\n",
    "\n",
    "spectrum_inj2 = DiracDelta(value=value_inj.value,\n",
    "                           zero_point=zero_point_inj.value)\n",
    "\n",
    "spectrum_inj2.value.unit = value_inj.unit\n",
    "spectrum_inj2.zero_point.unit = zero_point_inj.unit"
   ]
  },
  {
   "cell_type": "markdown",
   "id": "697d0b05-a6c3-4704-9af2-f8107c68db18",
   "metadata": {},
   "source": [
    "The summary of the results above tell you the optimal values of the parameters, as well as the errors. Propogate the errors to the \"evaluate_at\" method of the spectrum"
   ]
  },
  {
   "cell_type": "code",
   "execution_count": 19,
   "id": "6934a710-cc98-4abf-9845-3f5a96781451",
   "metadata": {
    "scrolled": true,
    "tags": []
   },
   "outputs": [
    {
     "data": {
      "text/html": [
       "<pre style=\"white-space:pre;overflow-x:auto;line-height:normal;font-family:Menlo,'DejaVu Sans Mono',consolas,'Courier New',monospace\"><span style=\"color: #00ffaf; text-decoration-color: #00ffaf; font-weight: bold; text-decoration: underline\">Best fit values:</span>\n",
       "\n",
       "</pre>\n"
      ],
      "text/plain": [
       "\u001b[1;4;38;5;49mBest fit values:\u001b[0m\n",
       "\n"
      ]
     },
     "metadata": {},
     "output_type": "display_data"
    },
    {
     "data": {
      "text/html": [
       "<div>\n",
       "<style scoped>\n",
       "    .dataframe tbody tr th:only-of-type {\n",
       "        vertical-align: middle;\n",
       "    }\n",
       "\n",
       "    .dataframe tbody tr th {\n",
       "        vertical-align: top;\n",
       "    }\n",
       "\n",
       "    .dataframe thead th {\n",
       "        text-align: right;\n",
       "    }\n",
       "</style>\n",
       "<table border=\"1\" class=\"dataframe\">\n",
       "  <thead>\n",
       "    <tr style=\"text-align: right;\">\n",
       "      <th></th>\n",
       "      <th>result</th>\n",
       "      <th>unit</th>\n",
       "    </tr>\n",
       "    <tr>\n",
       "      <th>parameter</th>\n",
       "      <th></th>\n",
       "      <th></th>\n",
       "    </tr>\n",
       "  </thead>\n",
       "  <tbody>\n",
       "    <tr>\n",
       "      <th>source.spectrum.main.DiracDelta.value</th>\n",
       "      <td>4.924 +/- 0.014</td>\n",
       "      <td>1 / (cm2 keV s)</td>\n",
       "    </tr>\n",
       "    <tr>\n",
       "      <th>background_cosi</th>\n",
       "      <td>(7.3 +/- 0.4) x 10^-3</td>\n",
       "      <td></td>\n",
       "    </tr>\n",
       "  </tbody>\n",
       "</table>\n",
       "</div>"
      ],
      "text/plain": [
       "                                                      result             unit\n",
       "parameter                                                                    \n",
       "source.spectrum.main.DiracDelta.value        4.924 +/- 0.014  1 / (cm2 keV s)\n",
       "background_cosi                        (7.3 +/- 0.4) x 10^-3                 "
      ]
     },
     "metadata": {},
     "output_type": "display_data"
    },
    {
     "data": {
      "text/html": [
       "<pre style=\"white-space:pre;overflow-x:auto;line-height:normal;font-family:Menlo,'DejaVu Sans Mono',consolas,'Courier New',monospace\">\n",
       "<span style=\"color: #00ffaf; text-decoration-color: #00ffaf; font-weight: bold; text-decoration: underline\">Correlation matrix:</span>\n",
       "\n",
       "</pre>\n"
      ],
      "text/plain": [
       "\n",
       "\u001b[1;4;38;5;49mCorrelation matrix:\u001b[0m\n",
       "\n"
      ]
     },
     "metadata": {},
     "output_type": "display_data"
    },
    {
     "data": {
      "text/html": [
       "<div><table id=\"table11069130208\">\n",
       "<tr><td>1.00</td><td>-0.23</td></tr>\n",
       "<tr><td>-0.23</td><td>1.00</td></tr>\n",
       "</table></div>"
      ],
      "text/plain": [
       " 1.00 -0.23\n",
       "-0.23  1.00"
      ]
     },
     "metadata": {},
     "output_type": "display_data"
    },
    {
     "data": {
      "text/html": [
       "<pre style=\"white-space:pre;overflow-x:auto;line-height:normal;font-family:Menlo,'DejaVu Sans Mono',consolas,'Courier New',monospace\">\n",
       "<span style=\"color: #00ffaf; text-decoration-color: #00ffaf; font-weight: bold; text-decoration: underline\">Values of -log(likelihood) at the minimum:</span>\n",
       "\n",
       "</pre>\n"
      ],
      "text/plain": [
       "\n",
       "\u001b[1;4;38;5;49mValues of -\u001b[0m\u001b[1;4;38;5;49mlog\u001b[0m\u001b[1;4;38;5;49m(\u001b[0m\u001b[1;4;38;5;49mlikelihood\u001b[0m\u001b[1;4;38;5;49m)\u001b[0m\u001b[1;4;38;5;49m at the minimum:\u001b[0m\n",
       "\n"
      ]
     },
     "metadata": {},
     "output_type": "display_data"
    },
    {
     "data": {
      "text/html": [
       "<div>\n",
       "<style scoped>\n",
       "    .dataframe tbody tr th:only-of-type {\n",
       "        vertical-align: middle;\n",
       "    }\n",
       "\n",
       "    .dataframe tbody tr th {\n",
       "        vertical-align: top;\n",
       "    }\n",
       "\n",
       "    .dataframe thead th {\n",
       "        text-align: right;\n",
       "    }\n",
       "</style>\n",
       "<table border=\"1\" class=\"dataframe\">\n",
       "  <thead>\n",
       "    <tr style=\"text-align: right;\">\n",
       "      <th></th>\n",
       "      <th>-log(likelihood)</th>\n",
       "    </tr>\n",
       "  </thead>\n",
       "  <tbody>\n",
       "    <tr>\n",
       "      <th>cosi</th>\n",
       "      <td>-62559.736853</td>\n",
       "    </tr>\n",
       "    <tr>\n",
       "      <th>total</th>\n",
       "      <td>-62559.736853</td>\n",
       "    </tr>\n",
       "  </tbody>\n",
       "</table>\n",
       "</div>"
      ],
      "text/plain": [
       "       -log(likelihood)\n",
       "cosi      -62559.736853\n",
       "total     -62559.736853"
      ]
     },
     "metadata": {},
     "output_type": "display_data"
    },
    {
     "data": {
      "text/html": [
       "<pre style=\"white-space:pre;overflow-x:auto;line-height:normal;font-family:Menlo,'DejaVu Sans Mono',consolas,'Courier New',monospace\">\n",
       "<span style=\"color: #00ffaf; text-decoration-color: #00ffaf; font-weight: bold; text-decoration: underline\">Values of statistical measures:</span>\n",
       "\n",
       "</pre>\n"
      ],
      "text/plain": [
       "\n",
       "\u001b[1;4;38;5;49mValues of statistical measures:\u001b[0m\n",
       "\n"
      ]
     },
     "metadata": {},
     "output_type": "display_data"
    },
    {
     "data": {
      "text/html": [
       "<div>\n",
       "<style scoped>\n",
       "    .dataframe tbody tr th:only-of-type {\n",
       "        vertical-align: middle;\n",
       "    }\n",
       "\n",
       "    .dataframe tbody tr th {\n",
       "        vertical-align: top;\n",
       "    }\n",
       "\n",
       "    .dataframe thead th {\n",
       "        text-align: right;\n",
       "    }\n",
       "</style>\n",
       "<table border=\"1\" class=\"dataframe\">\n",
       "  <thead>\n",
       "    <tr style=\"text-align: right;\">\n",
       "      <th></th>\n",
       "      <th>statistical measures</th>\n",
       "    </tr>\n",
       "  </thead>\n",
       "  <tbody>\n",
       "    <tr>\n",
       "      <th>AIC</th>\n",
       "      <td>-125121.473707</td>\n",
       "    </tr>\n",
       "    <tr>\n",
       "      <th>BIC</th>\n",
       "      <td>-125119.473707</td>\n",
       "    </tr>\n",
       "  </tbody>\n",
       "</table>\n",
       "</div>"
      ],
      "text/plain": [
       "     statistical measures\n",
       "AIC        -125121.473707\n",
       "BIC        -125119.473707"
      ]
     },
     "metadata": {},
     "output_type": "display_data"
    },
    {
     "name": "stdout",
     "output_type": "stream",
     "text": [
      "None\n",
      "  * source (point source):\n",
      "    * position:\n",
      "      * l:\n",
      "        * value: 340.0\n",
      "        * desc: Galactic longitude\n",
      "        * min_value: 0.0\n",
      "        * max_value: 360.0\n",
      "        * unit: deg\n",
      "        * is_normalization: false\n",
      "      * b:\n",
      "        * value: 45.0\n",
      "        * desc: Galactic latitude\n",
      "        * min_value: -90.0\n",
      "        * max_value: 90.0\n",
      "        * unit: deg\n",
      "        * is_normalization: false\n",
      "      * equinox: J2000\n",
      "    * spectrum:\n",
      "      * main:\n",
      "        * DiracDelta:\n",
      "          * value:\n",
      "            * value: 4.923628936280214\n",
      "            * desc: Constant value\n",
      "            * min_value: null\n",
      "            * max_value: null\n",
      "            * unit: keV-1 s-1 cm-2\n",
      "            * is_normalization: false\n",
      "          * zero_point:\n",
      "            * value: 511.0\n",
      "            * desc: value at which function is non-zero\n",
      "            * min_value: null\n",
      "            * max_value: null\n",
      "            * unit: keV\n",
      "            * is_normalization: false\n",
      "        * polarization: {}\n",
      "\n"
     ]
    }
   ],
   "source": [
    "results2 = like2.results\n",
    "\n",
    "print(results2.display())\n",
    "\n",
    "parameters2 = {par.name:results2.get_variates(par.path)\n",
    "               for par in results2.optimized_model[\"source\"].parameters.values()\n",
    "               if par.free}\n",
    "\n",
    "results_err2 = results2.propagate(results2.optimized_model[\"source\"].spectrum.main.shape.evaluate_at, **parameters2)\n",
    "\n",
    "print(results2.optimized_model[\"source\"])"
   ]
  },
  {
   "cell_type": "markdown",
   "id": "047a32e6-9e77-476c-8668-174e7ebc2a14",
   "metadata": {},
   "source": [
    "Evaluate the flux and errors at 511 keV for the fitted and injected spectra"
   ]
  },
  {
   "cell_type": "code",
   "execution_count": 20,
   "id": "6090a8c5-21b4-484a-aca9-920690aff7d9",
   "metadata": {},
   "outputs": [],
   "source": [
    "energy2 = 511.\n",
    "\n",
    "flux2 = results_err2(energy2)\n",
    "flux_median2 = flux2.median\n",
    "flux_lo2, flux_hi2 = flux2.equal_tail_interval(cl=0.68)\n",
    "flux_inj2 = spectrum_inj2.evaluate_at(energy2)\n",
    "    \n",
    "expectation2 = psr.get_expectation(spectrum2)"
   ]
  },
  {
   "cell_type": "markdown",
   "id": "511e6a57-bb18-4cc3-85a2-8c0e3d58e39b",
   "metadata": {},
   "source": [
    "Plot the fitted and injected spectra"
   ]
  },
  {
   "cell_type": "code",
   "execution_count": 25,
   "id": "b42f4977-e40b-484e-b309-9abf55faa461",
   "metadata": {},
   "outputs": [
    {
     "data": {
      "text/plain": [
       "<matplotlib.legend.Legend at 0x293f86610>"
      ]
     },
     "execution_count": 25,
     "metadata": {},
     "output_type": "execute_result"
    },
    {
     "data": {
      "image/png": "[encoded data removed]",
      "text/plain": [
       "<Figure size 640x480 with 1 Axes>"
      ]
     },
     "metadata": {},
     "output_type": "display_data"
    }
   ],
   "source": [
    "fig,ax = plt.subplots()\n",
    "\n",
    "ax.scatter(energy2, energy2*energy2*flux_median2, label = \"Best fit\")\n",
    "ax.errorbar(energy2, energy2*energy2*flux_median2, yerr=[[energy2*energy2*(flux_median2-flux_lo2)],[energy2*energy2*(flux_hi2-flux_median2)]], color='purple', linewidth=0, elinewidth=1)\n",
    "ax.scatter(energy2, energy2*energy2*flux_inj2, color = 'black', label = \"Injected\")\n",
    "\n",
    "ax.set_xlim(509,513)\n",
    "\n",
    "ax.set_xlabel(\"Energy (keV)\")\n",
    "ax.set_ylabel(r\"$E^2 \\frac{dN}{dE}$ (keV cm$^{-2}$ s$^{-1}$)\")\n",
    "\n",
    "ax.legend()"
   ]
  },
  {
   "cell_type": "markdown",
   "id": "d85d477b-dc7d-47d7-8e3c-1a74e8cf729f",
   "metadata": {},
   "source": [
    "Plot the fitted spectrum convolved with the response, as well as the simulated source counts"
   ]
  },
  {
   "cell_type": "code",
   "execution_count": 26,
   "id": "af31aaaa-00a4-48ca-ad8b-f627bc4ef5c7",
   "metadata": {},
   "outputs": [
    {
     "data": {
      "text/plain": [
       "<matplotlib.legend.Legend at 0x297d26040>"
      ]
     },
     "execution_count": 26,
     "metadata": {},
     "output_type": "execute_result"
    },
    {
     "data": {
      "image/png": "[encoded data removed]",
      "text/plain": [
       "<Figure size 640x480 with 1 Axes>"
      ]
     },
     "metadata": {},
     "output_type": "display_data"
    }
   ],
   "source": [
    "fig,ax = plt.subplots()\n",
    "\n",
    "ax.stairs(expectation2.project('Em').todense().contents, binned_energy_edges, color='purple', label = \"Best fit convolved with response\")\n",
    "ax.errorbar(binned_energy, expectation2.project('Em').todense().contents, yerr=np.sqrt(expectation2.project('Em').todense().contents), color='purple', linewidth=0, elinewidth=1)\n",
    "ax.stairs(grb.binned_data.project('Em').todense().contents, binned_energy_edges, color = 'black', ls = \":\", label = \"Source counts\")\n",
    "ax.errorbar(binned_energy, grb.binned_data.project('Em').todense().contents, yerr=np.sqrt(grb.binned_data.project('Em').todense().contents), color='black', linewidth=0, elinewidth=1)\n",
    "\n",
    "ax.set_xlabel(\"Energy (keV)\")\n",
    "ax.set_ylabel(\"Counts\")\n",
    "\n",
    "ax.legend()"
   ]
  },
  {
   "cell_type": "markdown",
   "id": "d79a132f-4ee2-40e8-af80-7195c142ed14",
   "metadata": {},
   "source": [
    "Plot the fitted spectrum convolved with the response plus the fitted background, as well as the simulated source+background counts"
   ]
  },
  {
   "cell_type": "code",
   "execution_count": 27,
   "id": "cac6ab44-25ef-4488-8492-05659eb7063e",
   "metadata": {},
   "outputs": [
    {
     "data": {
      "text/plain": [
       "<matplotlib.legend.Legend at 0x297da2490>"
      ]
     },
     "execution_count": 27,
     "metadata": {},
     "output_type": "execute_result"
    },
    {
     "data": {
      "image/png": "[encoded data removed]",
      "text/plain": [
       "<Figure size 640x480 with 1 Axes>"
      ]
     },
     "metadata": {},
     "output_type": "display_data"
    }
   ],
   "source": [
    "fig,ax = plt.subplots()\n",
    "\n",
    "ax.stairs(expectation2.project('Em').todense().contents+(bkg_par2.value * bkg.binned_data.project('Em').todense().contents), binned_energy_edges, color='purple', label = \"Best fit convolved with response plus background\")\n",
    "ax.errorbar(binned_energy, expectation2.project('Em').todense().contents+(bkg_par2.value * bkg.binned_data.project('Em').todense().contents), yerr=np.sqrt(expectation2.project('Em').todense().contents+(bkg_par2.value * bkg.binned_data.project('Em').todense().contents)), color='purple', linewidth=0, elinewidth=1)\n",
    "ax.stairs(grb_bkg.binned_data.project('Em').todense().contents, binned_energy_edges, color = 'black', ls = \":\", label = \"Total counts\")\n",
    "ax.errorbar(binned_energy, grb_bkg.binned_data.project('Em').todense().contents, yerr=np.sqrt(grb_bkg.binned_data.project('Em').todense().contents), color='black', linewidth=0, elinewidth=1)\n",
    "\n",
    "ax.set_xlabel(\"Energy (keV)\")\n",
    "ax.set_ylabel(\"Counts\")\n",
    "\n",
    "ax.legend()"
   ]
  },
  {
   "cell_type": "markdown",
   "id": "5725e755-9df9-4191-b6ca-02791f34ae3b",
   "metadata": {},
   "source": [
    "## Bin data from .tra files"
   ]
  },
  {
   "cell_type": "markdown",
   "id": "c114af4f-f485-48ee-a6de-4d56688ed6fe",
   "metadata": {},
   "source": [
    "Read in .tra files for the GRB & background"
   ]
  },
  {
   "cell_type": "code",
   "execution_count": 13,
   "id": "8113f8c1-1b36-44e6-90e2-2e6cd8a49a05",
   "metadata": {
    "tags": []
   },
   "outputs": [],
   "source": [
    "# grb.read_tra(output_name=test_data.path / \"grb_unbinned_data_511\")\n",
    "# bkg.read_tra(output_name=test_data.path / \"bkg_unbinned_data\")"
   ]
  },
  {
   "cell_type": "markdown",
   "id": "ffa9d2b7-8b23-4f85-ac91-d1270371514d",
   "metadata": {},
   "source": [
    "Combine unbinned GRB & background .hdf5 files. This does not need to be done if you already have a combined .hdf5 file"
   ]
  },
  {
   "cell_type": "code",
   "execution_count": 14,
   "id": "6d8dcc1c-4637-444b-98f7-6c48542deff9",
   "metadata": {},
   "outputs": [],
   "source": [
    "# grb_bkg.combine_unbinned_data([test_data.path / \"grb_unbinned_data_511.hdf5\",test_data.path / \"bkg_unbinned_data.hdf5\"], output_name=test_data.path / \"grb_bkg_unbinned_data_511\")"
   ]
  },
  {
   "cell_type": "markdown",
   "id": "6caa5da6-e02d-414f-acef-e2e81635a1ed",
   "metadata": {},
   "source": [
    "Apply time cuts (as defined in .yaml files) to unbinned .hdf5 files for GRB only, GRB+background, and background only"
   ]
  },
  {
   "cell_type": "code",
   "execution_count": 15,
   "id": "e9bdf1dc-62da-46f1-a42b-1a2a760621b2",
   "metadata": {},
   "outputs": [],
   "source": [
    "# grb.select_data(unbinned_data=test_data.path / \"grb_unbinned_data_511.hdf5\", output_name=test_data.path / \"grb_selected_unbinned_data_511\")\n",
    "# grb_bkg.select_data(unbinned_data=test_data.path / \"grb_bkg_unbinned_data_511.hdf5\", output_name=test_data.path / \"grb_bkg_selected_unbinned_data_511\")\n",
    "# bkg.select_data(unbinned_data=test_data.path / \"bkg_unbinned_data.hdf5\", output_name=test_data.path / \"bkg_selected_unbinned_data\")"
   ]
  },
  {
   "cell_type": "markdown",
   "id": "b5496739-b9d5-4e47-9e51-2099fe889876",
   "metadata": {},
   "source": [
    "Bin (as defined in .yaml files) GRB only, GRB+background, and background only files"
   ]
  },
  {
   "cell_type": "code",
   "execution_count": 16,
   "id": "037bf805-b845-4252-a6dc-a3a26b02e7e2",
   "metadata": {
    "scrolled": true,
    "tags": []
   },
   "outputs": [],
   "source": [
    "# grb.get_binned_data(unbinned_data=test_data.path / \"grb_selected_unbinned_data_511.hdf5\", make_binning_plots=True, output_name=test_data.path / \"grb_binned_data_511\", psichi_binning=\"local\")\n",
    "# grb_bkg.get_binned_data(unbinned_data=test_data.path / \"grb_bkg_selected_unbinned_data_511.hdf5\", make_binning_plots=True, output_name=test_data.path / \"grb_bkg_binned_data_511\", psichi_binning=\"local\")\n",
    "# bkg.get_binned_data(unbinned_data=test_data.path / \"bkg_selected_unbinned_data.hdf5\", make_binning_plots=True, output_name=test_data.path / \"bkg_binned_data_511\", psichi_binning=\"local\")"
   ]
  },
  {
   "cell_type": "markdown",
   "id": "7e3aa93b-558d-4ec7-b695-a06f3bba6af0",
   "metadata": {},
   "source": [
    "Create spectra and lightcurves for GRB only, GRB+background, and background only"
   ]
  },
  {
   "cell_type": "code",
   "execution_count": 17,
   "id": "4b712927-ecc3-4f5d-962f-8afb72a808e7",
   "metadata": {
    "scrolled": true,
    "tags": []
   },
   "outputs": [],
   "source": [
    "# grb.get_raw_spectrum(binned_data=test_data.path / \"grb_binned_data_511.hdf5\", output_name=test_data.path / \"grb_sp\")\n",
    "# grb.get_raw_lightcurve(binned_data=test_data.path / \"grb_binned_data_511.hdf5\", output_name=test_data.path / \"grb_lc\")\n",
    "# grb_bkg.get_raw_spectrum(binned_data=test_data.path / \"grb_bkg_binned_data_511.hdf5\", output_name=test_data.path / \"grb_bkg_sp\")\n",
    "# grb_bkg.get_raw_lightcurve(binned_data=test_data.path / \"grb_bkg_binned_data_511.hdf5\", output_name=test_data.path / \"grb_bkg_lc\")\n",
    "# bkg.get_raw_spectrum(binned_data=test_data.path / \"bkg_binned_data_511.hdf5\", output_name=test_data.path / \"bkg_sp\")\n",
    "# bkg.get_raw_lightcurve(binned_data=test_data.path / \"bkg_binned_data_511.hdf5\", output_name=test_data.path / \"bkg_lc\")"
   ]
  },
  {
   "cell_type": "code",
   "execution_count": null,
   "id": "fe0677c0-0754-47ed-bd40-41e39a262ad6",
   "metadata": {},
   "outputs": [],
   "source": []
  }
 ],
 "metadata": {
  "kernelspec": {
   "display_name": "Python 3 (ipykernel)",
   "language": "python",
   "name": "python3"
  },
  "language_info": {
   "codemirror_mode": {
    "name": "ipython",
    "version": 3
   },
   "file_extension": ".py",
   "mimetype": "text/x-python",
   "name": "python",
   "nbconvert_exporter": "python",
   "pygments_lexer": "ipython3",
   "version": "3.9.15"
  }
 },
 "nbformat": 4,
 "nbformat_minor": 5
}
